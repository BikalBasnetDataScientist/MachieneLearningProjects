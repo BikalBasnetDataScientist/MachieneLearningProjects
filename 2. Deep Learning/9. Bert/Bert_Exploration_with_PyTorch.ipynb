{
  "nbformat": 4,
  "nbformat_minor": 0,
  "metadata": {
    "colab": {
      "name": "Bert - Exploring with  PyTorch.ipynb",
      "provenance": [],
      "collapsed_sections": [],
      "toc_visible": true,
      "include_colab_link": true
    },
    "kernelspec": {
      "name": "python3",
      "display_name": "Python 3"
    }
  },
  "cells": [
    {
      "cell_type": "markdown",
      "metadata": {
        "id": "view-in-github",
        "colab_type": "text"
      },
      "source": [
        "<a href=\"https://colab.research.google.com/github/beekal/MachieneLearningProjects/blob/staging/2.%20Deep%20Learning/Bert/Bert_Exploration_with_PyTorch.ipynb\" target=\"_parent\"><img src=\"https://colab.research.google.com/assets/colab-badge.svg\" alt=\"Open In Colab\"/></a>"
      ]
    },
    {
      "cell_type": "markdown",
      "metadata": {
        "id": "12MuAwd1xFLP",
        "colab_type": "text"
      },
      "source": [
        "# Exploring BERT - 101\n",
        "- We will explore the  bert nlp model here. Specially focussing on \n",
        "  - How the bert tokenisation differs from other tokenisation\n",
        "  - Explore Bert vocab: Word-Piece model\n",
        "  - Explore Word vectors with focus to polysemy\n",
        "  - Explore sentence similarity with Bert \n",
        "  - Polysemy : How same words can have different meaning based on context e.g  \"bank\"- \"bank robber\" vs \"river bank\"\n",
        "    - Word : \"Bank\"\n",
        "    - Context : \"River Bank\" vs \"Financial institution Bank\"\n",
        "    - Sentence : Testing Embedding : bank robber went fishing on Mississippi river bank.\n",
        "\n",
        "REF: \n",
        "- https://mccormickml.com/2019/05/14/BERT-word-embeddings-tutorial/\n",
        "\n",
        "\n"
      ]
    },
    {
      "cell_type": "code",
      "metadata": {
        "id": "-azKvSsZrpOc",
        "colab_type": "code",
        "outputId": "2bd86460-3868-4e25-c1eb-bdbd19381e9c",
        "colab": {
          "base_uri": "https://localhost:8080/",
          "height": 332
        }
      },
      "source": [
        "!pip install pytorch-pretrained-bert\n",
        "\n",
        "import torch\n",
        "from pytorch_pretrained_bert import BertTokenizer, BertModel, BertForMaskedLM\n",
        "\n",
        "import logging\n",
        "logging.basicConfig(level=logging.INFO)\n",
        "\n",
        "import matplotlib.pyplot as plt\n",
        "% matplotlib inline\n"
      ],
      "execution_count": 0,
      "outputs": [
        {
          "output_type": "stream",
          "text": [
            "Requirement already satisfied: pytorch-pretrained-bert in /usr/local/lib/python3.6/dist-packages (0.6.2)\n",
            "Requirement already satisfied: boto3 in /usr/local/lib/python3.6/dist-packages (from pytorch-pretrained-bert) (1.10.47)\n",
            "Requirement already satisfied: regex in /usr/local/lib/python3.6/dist-packages (from pytorch-pretrained-bert) (2019.12.20)\n",
            "Requirement already satisfied: requests in /usr/local/lib/python3.6/dist-packages (from pytorch-pretrained-bert) (2.21.0)\n",
            "Requirement already satisfied: tqdm in /usr/local/lib/python3.6/dist-packages (from pytorch-pretrained-bert) (4.28.1)\n",
            "Requirement already satisfied: torch>=0.4.1 in /usr/local/lib/python3.6/dist-packages (from pytorch-pretrained-bert) (1.3.1)\n",
            "Requirement already satisfied: numpy in /usr/local/lib/python3.6/dist-packages (from pytorch-pretrained-bert) (1.17.5)\n",
            "Requirement already satisfied: jmespath<1.0.0,>=0.7.1 in /usr/local/lib/python3.6/dist-packages (from boto3->pytorch-pretrained-bert) (0.9.4)\n",
            "Requirement already satisfied: s3transfer<0.3.0,>=0.2.0 in /usr/local/lib/python3.6/dist-packages (from boto3->pytorch-pretrained-bert) (0.2.1)\n",
            "Requirement already satisfied: botocore<1.14.0,>=1.13.47 in /usr/local/lib/python3.6/dist-packages (from boto3->pytorch-pretrained-bert) (1.13.47)\n",
            "Requirement already satisfied: chardet<3.1.0,>=3.0.2 in /usr/local/lib/python3.6/dist-packages (from requests->pytorch-pretrained-bert) (3.0.4)\n",
            "Requirement already satisfied: urllib3<1.25,>=1.21.1 in /usr/local/lib/python3.6/dist-packages (from requests->pytorch-pretrained-bert) (1.24.3)\n",
            "Requirement already satisfied: certifi>=2017.4.17 in /usr/local/lib/python3.6/dist-packages (from requests->pytorch-pretrained-bert) (2019.11.28)\n",
            "Requirement already satisfied: idna<2.9,>=2.5 in /usr/local/lib/python3.6/dist-packages (from requests->pytorch-pretrained-bert) (2.8)\n",
            "Requirement already satisfied: docutils<0.16,>=0.10 in /usr/local/lib/python3.6/dist-packages (from botocore<1.14.0,>=1.13.47->boto3->pytorch-pretrained-bert) (0.15.2)\n",
            "Requirement already satisfied: python-dateutil<3.0.0,>=2.1; python_version >= \"2.7\" in /usr/local/lib/python3.6/dist-packages (from botocore<1.14.0,>=1.13.47->boto3->pytorch-pretrained-bert) (2.6.1)\n",
            "Requirement already satisfied: six>=1.5 in /usr/local/lib/python3.6/dist-packages (from python-dateutil<3.0.0,>=2.1; python_version >= \"2.7\"->botocore<1.14.0,>=1.13.47->boto3->pytorch-pretrained-bert) (1.12.0)\n"
          ],
          "name": "stdout"
        }
      ]
    },
    {
      "cell_type": "markdown",
      "metadata": {
        "id": "UiE750u1vWUl",
        "colab_type": "text"
      },
      "source": [
        "## 1. Input Format\n",
        "- Bert expects data in a specific format. They are\n",
        "1. Begin / End token : [ClS] / [SEP]\n",
        "2. Vocab : Frequent words used as is. Rare Words are splitted into sub-words e.g embedding => em ##bed #ding where ## indicates  word being a prt of a larger word \n",
        "3. SubWord_2_ID:\n",
        "4. MaskId: indicate which are words  and which ones are empty words\n",
        "5. Positional embedding : Track the position of words in the sentence e.g river bank vs money bank  by river.\n"
      ]
    },
    {
      "cell_type": "markdown",
      "metadata": {
        "id": "cTcfT8ubxDGk",
        "colab_type": "text"
      },
      "source": [
        "### 1.1 Tokenisation : Sentence to WordToken\n",
        "The ## tokenisation happens  because for spead reason, during the training process the vocabulary was limited to most common 30K words and other non-common words broken down using wordPiece Meal approach. This approach is better that treating all the uncommon words as UNK and hence disregarding the information contained in them. This way we still retain some information for the non-vocabulary words.\n"
      ]
    },
    {
      "cell_type": "code",
      "metadata": {
        "id": "1JezQ5Emxgfm",
        "colab_type": "code",
        "outputId": "5b9f5a66-efec-4007-8733-2db19bac6fc0",
        "colab": {
          "base_uri": "https://localhost:8080/",
          "height": 106
        }
      },
      "source": [
        "sentence = 'Testing Embedding : bank robber went fishing on Mississippi river bank.'\n",
        "marked_sentence = \"[CLS] \" +  sentence + \" [SEP]\"\n",
        "\n",
        "tokenizer = BertTokenizer.from_pretrained('bert-base-uncased')\n",
        "tokens = tokenizer.tokenize(marked_sentence)\n",
        "print('\\n BERT Tokens :\\n',tokens)"
      ],
      "execution_count": 0,
      "outputs": [
        {
          "output_type": "stream",
          "text": [
            "INFO:pytorch_pretrained_bert.tokenization:loading vocabulary file https://s3.amazonaws.com/models.huggingface.co/bert/bert-base-uncased-vocab.txt from cache at /root/.pytorch_pretrained_bert/26bc1ad6c0ac742e9b52263248f6d0f00068293b33709fae12320c0e35ccfbbb.542ce4285a40d23a559526243235df47c5f75c197f04f37d1a0c124c32c9a084\n"
          ],
          "name": "stderr"
        },
        {
          "output_type": "stream",
          "text": [
            "\n",
            " BERT Tokens :\n",
            " ['[CLS]', 'testing', 'em', '##bed', '##ding', ':', 'bank', 'robber', 'went', 'fishing', 'on', 'mississippi', 'river', 'bank', '.', '[SEP]']\n"
          ],
          "name": "stdout"
        }
      ]
    },
    {
      "cell_type": "code",
      "metadata": {
        "id": "E3ctVZKwxo_Y",
        "colab_type": "code",
        "outputId": "21a606a6-4087-464e-d6e1-a2770549121b",
        "colab": {
          "base_uri": "https://localhost:8080/",
          "height": 104
        }
      },
      "source": [
        "## If you want to explore the bert vocabulary\n",
        "print('VOCAB keys from 5000-5009')\n",
        "print(list(tokenizer.vocab.keys())[5000:5009])\n",
        "\n",
        "print('\\n# INSPECT bank vocab')\n",
        "idx = 0\n",
        "for k in tokenizer.vocab.keys():\n",
        "  if k == \"bank\":\n",
        "    print(idx, k)\n",
        "  idx +=1"
      ],
      "execution_count": 0,
      "outputs": [
        {
          "output_type": "stream",
          "text": [
            "VOCAB keys from 5000-5009\n",
            "['knight', 'lap', 'survey', 'ma', '##ow', 'noise', 'billy', '##ium', 'shooting']\n",
            "\n",
            "# INSPECT bank vocab\n",
            "2924 bank\n"
          ],
          "name": "stdout"
        }
      ]
    },
    {
      "cell_type": "markdown",
      "metadata": {
        "id": "7q9LR5bZ36vX",
        "colab_type": "text"
      },
      "source": [
        "### 1.2 Token2Id : WordToken to Id"
      ]
    },
    {
      "cell_type": "code",
      "metadata": {
        "id": "dsmrcgVr38sD",
        "colab_type": "code",
        "outputId": "11a1bdae-dfd8-401e-acb1-307d821b1cda",
        "colab": {
          "base_uri": "https://localhost:8080/",
          "height": 295
        }
      },
      "source": [
        "token_id = tokenizer.convert_tokens_to_ids(tokens)\n",
        "\n",
        "for tup in zip(tokens, token_id):\n",
        "    print('{:<12} {:>6,}'.format(tup[0], tup[1]))"
      ],
      "execution_count": 0,
      "outputs": [
        {
          "output_type": "stream",
          "text": [
            "[CLS]           101\n",
            "testing       5,604\n",
            "em            7,861\n",
            "##bed         8,270\n",
            "##ding        4,667\n",
            ":             1,024\n",
            "bank          2,924\n",
            "robber       27,307\n",
            "went          2,253\n",
            "fishing       5,645\n",
            "on            2,006\n",
            "mississippi   5,900\n",
            "river         2,314\n",
            "bank          2,924\n",
            ".             1,012\n",
            "[SEP]           102\n"
          ],
          "name": "stdout"
        }
      ]
    },
    {
      "cell_type": "markdown",
      "metadata": {
        "id": "Zd34geZA5VLB",
        "colab_type": "text"
      },
      "source": [
        "### 1.3 Mask : Word vs Blank Identifier\n",
        "- Identify which ones are words and which are blanks."
      ]
    },
    {
      "cell_type": "code",
      "metadata": {
        "id": "2AR3UPc35X8N",
        "colab_type": "code",
        "outputId": "7cbf246c-ff87-439c-e4ea-62bc8cacf4eb",
        "colab": {
          "base_uri": "https://localhost:8080/",
          "height": 34
        }
      },
      "source": [
        "mask = [1] * len(token_id)\n",
        "print(mask)"
      ],
      "execution_count": 0,
      "outputs": [
        {
          "output_type": "stream",
          "text": [
            "[1, 1, 1, 1, 1, 1, 1, 1, 1, 1, 1, 1, 1, 1, 1, 1]\n"
          ],
          "name": "stdout"
        }
      ]
    },
    {
      "cell_type": "markdown",
      "metadata": {
        "id": "AxB1RX267zbD",
        "colab_type": "text"
      },
      "source": [
        "### 1.4 TokenInt 2 Tensor\n",
        "- Pytorch  requires  pytorch tensor and does not accept python list"
      ]
    },
    {
      "cell_type": "code",
      "metadata": {
        "id": "9FPomfp88E-K",
        "colab_type": "code",
        "outputId": "52f4b5f0-50b1-4a7e-c1e3-50103eef677a",
        "colab": {
          "base_uri": "https://localhost:8080/",
          "height": 141
        }
      },
      "source": [
        "token_pytorch_tensor = torch.tensor( [token_id])\n",
        "segment_pytorch_tensor = torch.tensor( [mask] )\n",
        "\n",
        "print('Converting token python List ', token_id)\n",
        "print('token_pytorch_tensor :' ,token_pytorch_tensor)\n",
        "\n",
        "print('\\nConverting Segment List ', mask)\n",
        "print('segment_pytorch_tensor ', segment_pytorch_tensor)\n"
      ],
      "execution_count": 0,
      "outputs": [
        {
          "output_type": "stream",
          "text": [
            "Converting token python List  [101, 5604, 7861, 8270, 4667, 1024, 2924, 27307, 2253, 5645, 2006, 5900, 2314, 2924, 1012, 102]\n",
            "token_pytorch_tensor : tensor([[  101,  5604,  7861,  8270,  4667,  1024,  2924, 27307,  2253,  5645,\n",
            "          2006,  5900,  2314,  2924,  1012,   102]])\n",
            "\n",
            "Converting Segment List  [1, 1, 1, 1, 1, 1, 1, 1, 1, 1, 1, 1, 1, 1, 1, 1]\n",
            "segment_pytorch_tensor  tensor([[1, 1, 1, 1, 1, 1, 1, 1, 1, 1, 1, 1, 1, 1, 1, 1]])\n"
          ],
          "name": "stdout"
        }
      ]
    },
    {
      "cell_type": "markdown",
      "metadata": {
        "id": "4_7yLnhW-FtW",
        "colab_type": "text"
      },
      "source": [
        "## 2.0 Bert Model - Exploration\n",
        "**Load Model**\n",
        "1. Load pre-trained model\n",
        "2. Put model in prediction mode i.e eval model - Turn off dropout regularisation.\n",
        "3. Turn of gradient calculation, because not needed for prediction + Saves Memory + Gives Speed"
      ]
    },
    {
      "cell_type": "code",
      "metadata": {
        "id": "DfxWSxr39fHB",
        "colab_type": "code",
        "outputId": "cba5aec5-bb8f-4d3e-ce3d-77153558178f",
        "colab": {
          "base_uri": "https://localhost:8080/",
          "height": 1000
        }
      },
      "source": [
        "# Load bert model\n",
        "model = BertModel.from_pretrained('bert-base-uncased')\n",
        "\n",
        "# Puts model in evaluation mode. This turns off dropout \n",
        "model.eval()\n"
      ],
      "execution_count": 0,
      "outputs": [
        {
          "output_type": "stream",
          "text": [
            "INFO:pytorch_pretrained_bert.modeling:loading archive file https://s3.amazonaws.com/models.huggingface.co/bert/bert-base-uncased.tar.gz from cache at /root/.pytorch_pretrained_bert/9c41111e2de84547a463fd39217199738d1e3deb72d4fec4399e6e241983c6f0.ae3cef932725ca7a30cdcb93fc6e09150a55e2a130ec7af63975a16c153ae2ba\n",
            "INFO:pytorch_pretrained_bert.modeling:extracting archive file /root/.pytorch_pretrained_bert/9c41111e2de84547a463fd39217199738d1e3deb72d4fec4399e6e241983c6f0.ae3cef932725ca7a30cdcb93fc6e09150a55e2a130ec7af63975a16c153ae2ba to temp dir /tmp/tmp_1lratgq\n",
            "INFO:pytorch_pretrained_bert.modeling:Model config {\n",
            "  \"attention_probs_dropout_prob\": 0.1,\n",
            "  \"hidden_act\": \"gelu\",\n",
            "  \"hidden_dropout_prob\": 0.1,\n",
            "  \"hidden_size\": 768,\n",
            "  \"initializer_range\": 0.02,\n",
            "  \"intermediate_size\": 3072,\n",
            "  \"max_position_embeddings\": 512,\n",
            "  \"num_attention_heads\": 12,\n",
            "  \"num_hidden_layers\": 12,\n",
            "  \"type_vocab_size\": 2,\n",
            "  \"vocab_size\": 30522\n",
            "}\n",
            "\n"
          ],
          "name": "stderr"
        },
        {
          "output_type": "execute_result",
          "data": {
            "text/plain": [
              "BertModel(\n",
              "  (embeddings): BertEmbeddings(\n",
              "    (word_embeddings): Embedding(30522, 768, padding_idx=0)\n",
              "    (position_embeddings): Embedding(512, 768)\n",
              "    (token_type_embeddings): Embedding(2, 768)\n",
              "    (LayerNorm): BertLayerNorm()\n",
              "    (dropout): Dropout(p=0.1, inplace=False)\n",
              "  )\n",
              "  (encoder): BertEncoder(\n",
              "    (layer): ModuleList(\n",
              "      (0): BertLayer(\n",
              "        (attention): BertAttention(\n",
              "          (self): BertSelfAttention(\n",
              "            (query): Linear(in_features=768, out_features=768, bias=True)\n",
              "            (key): Linear(in_features=768, out_features=768, bias=True)\n",
              "            (value): Linear(in_features=768, out_features=768, bias=True)\n",
              "            (dropout): Dropout(p=0.1, inplace=False)\n",
              "          )\n",
              "          (output): BertSelfOutput(\n",
              "            (dense): Linear(in_features=768, out_features=768, bias=True)\n",
              "            (LayerNorm): BertLayerNorm()\n",
              "            (dropout): Dropout(p=0.1, inplace=False)\n",
              "          )\n",
              "        )\n",
              "        (intermediate): BertIntermediate(\n",
              "          (dense): Linear(in_features=768, out_features=3072, bias=True)\n",
              "        )\n",
              "        (output): BertOutput(\n",
              "          (dense): Linear(in_features=3072, out_features=768, bias=True)\n",
              "          (LayerNorm): BertLayerNorm()\n",
              "          (dropout): Dropout(p=0.1, inplace=False)\n",
              "        )\n",
              "      )\n",
              "      (1): BertLayer(\n",
              "        (attention): BertAttention(\n",
              "          (self): BertSelfAttention(\n",
              "            (query): Linear(in_features=768, out_features=768, bias=True)\n",
              "            (key): Linear(in_features=768, out_features=768, bias=True)\n",
              "            (value): Linear(in_features=768, out_features=768, bias=True)\n",
              "            (dropout): Dropout(p=0.1, inplace=False)\n",
              "          )\n",
              "          (output): BertSelfOutput(\n",
              "            (dense): Linear(in_features=768, out_features=768, bias=True)\n",
              "            (LayerNorm): BertLayerNorm()\n",
              "            (dropout): Dropout(p=0.1, inplace=False)\n",
              "          )\n",
              "        )\n",
              "        (intermediate): BertIntermediate(\n",
              "          (dense): Linear(in_features=768, out_features=3072, bias=True)\n",
              "        )\n",
              "        (output): BertOutput(\n",
              "          (dense): Linear(in_features=3072, out_features=768, bias=True)\n",
              "          (LayerNorm): BertLayerNorm()\n",
              "          (dropout): Dropout(p=0.1, inplace=False)\n",
              "        )\n",
              "      )\n",
              "      (2): BertLayer(\n",
              "        (attention): BertAttention(\n",
              "          (self): BertSelfAttention(\n",
              "            (query): Linear(in_features=768, out_features=768, bias=True)\n",
              "            (key): Linear(in_features=768, out_features=768, bias=True)\n",
              "            (value): Linear(in_features=768, out_features=768, bias=True)\n",
              "            (dropout): Dropout(p=0.1, inplace=False)\n",
              "          )\n",
              "          (output): BertSelfOutput(\n",
              "            (dense): Linear(in_features=768, out_features=768, bias=True)\n",
              "            (LayerNorm): BertLayerNorm()\n",
              "            (dropout): Dropout(p=0.1, inplace=False)\n",
              "          )\n",
              "        )\n",
              "        (intermediate): BertIntermediate(\n",
              "          (dense): Linear(in_features=768, out_features=3072, bias=True)\n",
              "        )\n",
              "        (output): BertOutput(\n",
              "          (dense): Linear(in_features=3072, out_features=768, bias=True)\n",
              "          (LayerNorm): BertLayerNorm()\n",
              "          (dropout): Dropout(p=0.1, inplace=False)\n",
              "        )\n",
              "      )\n",
              "      (3): BertLayer(\n",
              "        (attention): BertAttention(\n",
              "          (self): BertSelfAttention(\n",
              "            (query): Linear(in_features=768, out_features=768, bias=True)\n",
              "            (key): Linear(in_features=768, out_features=768, bias=True)\n",
              "            (value): Linear(in_features=768, out_features=768, bias=True)\n",
              "            (dropout): Dropout(p=0.1, inplace=False)\n",
              "          )\n",
              "          (output): BertSelfOutput(\n",
              "            (dense): Linear(in_features=768, out_features=768, bias=True)\n",
              "            (LayerNorm): BertLayerNorm()\n",
              "            (dropout): Dropout(p=0.1, inplace=False)\n",
              "          )\n",
              "        )\n",
              "        (intermediate): BertIntermediate(\n",
              "          (dense): Linear(in_features=768, out_features=3072, bias=True)\n",
              "        )\n",
              "        (output): BertOutput(\n",
              "          (dense): Linear(in_features=3072, out_features=768, bias=True)\n",
              "          (LayerNorm): BertLayerNorm()\n",
              "          (dropout): Dropout(p=0.1, inplace=False)\n",
              "        )\n",
              "      )\n",
              "      (4): BertLayer(\n",
              "        (attention): BertAttention(\n",
              "          (self): BertSelfAttention(\n",
              "            (query): Linear(in_features=768, out_features=768, bias=True)\n",
              "            (key): Linear(in_features=768, out_features=768, bias=True)\n",
              "            (value): Linear(in_features=768, out_features=768, bias=True)\n",
              "            (dropout): Dropout(p=0.1, inplace=False)\n",
              "          )\n",
              "          (output): BertSelfOutput(\n",
              "            (dense): Linear(in_features=768, out_features=768, bias=True)\n",
              "            (LayerNorm): BertLayerNorm()\n",
              "            (dropout): Dropout(p=0.1, inplace=False)\n",
              "          )\n",
              "        )\n",
              "        (intermediate): BertIntermediate(\n",
              "          (dense): Linear(in_features=768, out_features=3072, bias=True)\n",
              "        )\n",
              "        (output): BertOutput(\n",
              "          (dense): Linear(in_features=3072, out_features=768, bias=True)\n",
              "          (LayerNorm): BertLayerNorm()\n",
              "          (dropout): Dropout(p=0.1, inplace=False)\n",
              "        )\n",
              "      )\n",
              "      (5): BertLayer(\n",
              "        (attention): BertAttention(\n",
              "          (self): BertSelfAttention(\n",
              "            (query): Linear(in_features=768, out_features=768, bias=True)\n",
              "            (key): Linear(in_features=768, out_features=768, bias=True)\n",
              "            (value): Linear(in_features=768, out_features=768, bias=True)\n",
              "            (dropout): Dropout(p=0.1, inplace=False)\n",
              "          )\n",
              "          (output): BertSelfOutput(\n",
              "            (dense): Linear(in_features=768, out_features=768, bias=True)\n",
              "            (LayerNorm): BertLayerNorm()\n",
              "            (dropout): Dropout(p=0.1, inplace=False)\n",
              "          )\n",
              "        )\n",
              "        (intermediate): BertIntermediate(\n",
              "          (dense): Linear(in_features=768, out_features=3072, bias=True)\n",
              "        )\n",
              "        (output): BertOutput(\n",
              "          (dense): Linear(in_features=3072, out_features=768, bias=True)\n",
              "          (LayerNorm): BertLayerNorm()\n",
              "          (dropout): Dropout(p=0.1, inplace=False)\n",
              "        )\n",
              "      )\n",
              "      (6): BertLayer(\n",
              "        (attention): BertAttention(\n",
              "          (self): BertSelfAttention(\n",
              "            (query): Linear(in_features=768, out_features=768, bias=True)\n",
              "            (key): Linear(in_features=768, out_features=768, bias=True)\n",
              "            (value): Linear(in_features=768, out_features=768, bias=True)\n",
              "            (dropout): Dropout(p=0.1, inplace=False)\n",
              "          )\n",
              "          (output): BertSelfOutput(\n",
              "            (dense): Linear(in_features=768, out_features=768, bias=True)\n",
              "            (LayerNorm): BertLayerNorm()\n",
              "            (dropout): Dropout(p=0.1, inplace=False)\n",
              "          )\n",
              "        )\n",
              "        (intermediate): BertIntermediate(\n",
              "          (dense): Linear(in_features=768, out_features=3072, bias=True)\n",
              "        )\n",
              "        (output): BertOutput(\n",
              "          (dense): Linear(in_features=3072, out_features=768, bias=True)\n",
              "          (LayerNorm): BertLayerNorm()\n",
              "          (dropout): Dropout(p=0.1, inplace=False)\n",
              "        )\n",
              "      )\n",
              "      (7): BertLayer(\n",
              "        (attention): BertAttention(\n",
              "          (self): BertSelfAttention(\n",
              "            (query): Linear(in_features=768, out_features=768, bias=True)\n",
              "            (key): Linear(in_features=768, out_features=768, bias=True)\n",
              "            (value): Linear(in_features=768, out_features=768, bias=True)\n",
              "            (dropout): Dropout(p=0.1, inplace=False)\n",
              "          )\n",
              "          (output): BertSelfOutput(\n",
              "            (dense): Linear(in_features=768, out_features=768, bias=True)\n",
              "            (LayerNorm): BertLayerNorm()\n",
              "            (dropout): Dropout(p=0.1, inplace=False)\n",
              "          )\n",
              "        )\n",
              "        (intermediate): BertIntermediate(\n",
              "          (dense): Linear(in_features=768, out_features=3072, bias=True)\n",
              "        )\n",
              "        (output): BertOutput(\n",
              "          (dense): Linear(in_features=3072, out_features=768, bias=True)\n",
              "          (LayerNorm): BertLayerNorm()\n",
              "          (dropout): Dropout(p=0.1, inplace=False)\n",
              "        )\n",
              "      )\n",
              "      (8): BertLayer(\n",
              "        (attention): BertAttention(\n",
              "          (self): BertSelfAttention(\n",
              "            (query): Linear(in_features=768, out_features=768, bias=True)\n",
              "            (key): Linear(in_features=768, out_features=768, bias=True)\n",
              "            (value): Linear(in_features=768, out_features=768, bias=True)\n",
              "            (dropout): Dropout(p=0.1, inplace=False)\n",
              "          )\n",
              "          (output): BertSelfOutput(\n",
              "            (dense): Linear(in_features=768, out_features=768, bias=True)\n",
              "            (LayerNorm): BertLayerNorm()\n",
              "            (dropout): Dropout(p=0.1, inplace=False)\n",
              "          )\n",
              "        )\n",
              "        (intermediate): BertIntermediate(\n",
              "          (dense): Linear(in_features=768, out_features=3072, bias=True)\n",
              "        )\n",
              "        (output): BertOutput(\n",
              "          (dense): Linear(in_features=3072, out_features=768, bias=True)\n",
              "          (LayerNorm): BertLayerNorm()\n",
              "          (dropout): Dropout(p=0.1, inplace=False)\n",
              "        )\n",
              "      )\n",
              "      (9): BertLayer(\n",
              "        (attention): BertAttention(\n",
              "          (self): BertSelfAttention(\n",
              "            (query): Linear(in_features=768, out_features=768, bias=True)\n",
              "            (key): Linear(in_features=768, out_features=768, bias=True)\n",
              "            (value): Linear(in_features=768, out_features=768, bias=True)\n",
              "            (dropout): Dropout(p=0.1, inplace=False)\n",
              "          )\n",
              "          (output): BertSelfOutput(\n",
              "            (dense): Linear(in_features=768, out_features=768, bias=True)\n",
              "            (LayerNorm): BertLayerNorm()\n",
              "            (dropout): Dropout(p=0.1, inplace=False)\n",
              "          )\n",
              "        )\n",
              "        (intermediate): BertIntermediate(\n",
              "          (dense): Linear(in_features=768, out_features=3072, bias=True)\n",
              "        )\n",
              "        (output): BertOutput(\n",
              "          (dense): Linear(in_features=3072, out_features=768, bias=True)\n",
              "          (LayerNorm): BertLayerNorm()\n",
              "          (dropout): Dropout(p=0.1, inplace=False)\n",
              "        )\n",
              "      )\n",
              "      (10): BertLayer(\n",
              "        (attention): BertAttention(\n",
              "          (self): BertSelfAttention(\n",
              "            (query): Linear(in_features=768, out_features=768, bias=True)\n",
              "            (key): Linear(in_features=768, out_features=768, bias=True)\n",
              "            (value): Linear(in_features=768, out_features=768, bias=True)\n",
              "            (dropout): Dropout(p=0.1, inplace=False)\n",
              "          )\n",
              "          (output): BertSelfOutput(\n",
              "            (dense): Linear(in_features=768, out_features=768, bias=True)\n",
              "            (LayerNorm): BertLayerNorm()\n",
              "            (dropout): Dropout(p=0.1, inplace=False)\n",
              "          )\n",
              "        )\n",
              "        (intermediate): BertIntermediate(\n",
              "          (dense): Linear(in_features=768, out_features=3072, bias=True)\n",
              "        )\n",
              "        (output): BertOutput(\n",
              "          (dense): Linear(in_features=3072, out_features=768, bias=True)\n",
              "          (LayerNorm): BertLayerNorm()\n",
              "          (dropout): Dropout(p=0.1, inplace=False)\n",
              "        )\n",
              "      )\n",
              "      (11): BertLayer(\n",
              "        (attention): BertAttention(\n",
              "          (self): BertSelfAttention(\n",
              "            (query): Linear(in_features=768, out_features=768, bias=True)\n",
              "            (key): Linear(in_features=768, out_features=768, bias=True)\n",
              "            (value): Linear(in_features=768, out_features=768, bias=True)\n",
              "            (dropout): Dropout(p=0.1, inplace=False)\n",
              "          )\n",
              "          (output): BertSelfOutput(\n",
              "            (dense): Linear(in_features=768, out_features=768, bias=True)\n",
              "            (LayerNorm): BertLayerNorm()\n",
              "            (dropout): Dropout(p=0.1, inplace=False)\n",
              "          )\n",
              "        )\n",
              "        (intermediate): BertIntermediate(\n",
              "          (dense): Linear(in_features=768, out_features=3072, bias=True)\n",
              "        )\n",
              "        (output): BertOutput(\n",
              "          (dense): Linear(in_features=3072, out_features=768, bias=True)\n",
              "          (LayerNorm): BertLayerNorm()\n",
              "          (dropout): Dropout(p=0.1, inplace=False)\n",
              "        )\n",
              "      )\n",
              "    )\n",
              "  )\n",
              "  (pooler): BertPooler(\n",
              "    (dense): Linear(in_features=768, out_features=768, bias=True)\n",
              "    (activation): Tanh()\n",
              "  )\n",
              ")"
            ]
          },
          "metadata": {
            "tags": []
          },
          "execution_count": 7
        }
      ]
    },
    {
      "cell_type": "markdown",
      "metadata": {
        "id": "U0sw1t2mZCkj",
        "colab_type": "text"
      },
      "source": [
        "### 2.1 Encoded Layers : What it contains?\n",
        "- 1. number of layers(12)\n",
        "- 2. batch number :(1 sentence)\n",
        "- 3. word / no. of tokens : (no of tokens in our sentence)\n",
        "- 4. hidden unit/ no. of features : 768 features\n"
      ]
    },
    {
      "cell_type": "code",
      "metadata": {
        "id": "cDG2KPM_xcNh",
        "colab_type": "code",
        "outputId": "ea36e9d8-7078-4126-ceaa-7e607d8da372",
        "colab": {
          "base_uri": "https://localhost:8080/",
          "height": 86
        }
      },
      "source": [
        " with torch.no_grad():\n",
        "   encoded_layers,_ = model(token_pytorch_tensor, segment_pytorch_tensor)\n",
        "\n",
        "  \n",
        "print(\"number of layers    :\", len(encoded_layers) )\n",
        "layer_i = 0\n",
        "\n",
        "print(\"batch number        :\", len(encoded_layers[layer_i]) )\n",
        "batch_i = 0\n",
        "\n",
        "print(\"word / no. of tokens:\", len(encoded_layers[layer_i][batch_i]) )\n",
        "token_i = 0\n",
        "\n",
        "print(\"hidden unit / no. of features \", len(encoded_layers[layer_i][batch_i][token_i]) )"
      ],
      "execution_count": 0,
      "outputs": [
        {
          "output_type": "stream",
          "text": [
            "number of layers    : 12\n",
            "batch number        : 1\n",
            "word / no. of tokens: 16\n",
            "hidden unit / no. of features  768\n"
          ],
          "name": "stdout"
        }
      ]
    },
    {
      "cell_type": "markdown",
      "metadata": {
        "id": "e5w-O_77c_JZ",
        "colab_type": "text"
      },
      "source": [
        "### 2.2 Inspecting Word Features : Verb vs Noun\n",
        "- 768 of them\n",
        "- Most of the features are clustered between -2 and 2 but we also see another interesting pattern\n",
        "- Verb : \"went\", \"on\" have feature values clustered around [-4.5, -6.5]. Feat value < 2\n",
        "- Noun : \"bank\" vs \"mississippi\" have all feature values clustered between [-3,+3]. Feat value > 2"
      ]
    },
    {
      "cell_type": "code",
      "metadata": {
        "id": "nFg7gxcSbRcU",
        "colab_type": "code",
        "outputId": "139c3525-e9c2-4a96-f3f2-fe2e5cfee305",
        "colab": {
          "base_uri": "https://localhost:8080/",
          "height": 1000
        }
      },
      "source": [
        "for idx,tk in enumerate(tokens):\n",
        "  print(idx, tk)\n",
        "\n",
        "plt.figure(figsize=(20,8) )\n",
        "\n",
        "# encoded_layers = [#layers #batch #word_token #feature ]\n",
        "\n",
        "plt.hist(encoded_layers[0][0][6] , bins = 50, range=(-8, 4), label=\"BANK word vectors binned\") # bank\n",
        "plt.hist(encoded_layers[0][0][11] , bins = 50, range=(-8, 4), label=\"MISSISSIPI word vectors binned\" , alpha=0.5 ) # mississippi\n",
        "plt.hist(encoded_layers[0][0][10], bins = 50, range=(-8, 4), label=\"ON word vectors binned\", alpha=0.4) # on\n",
        "plt.legend()\n",
        "plt.show()\n",
        "\n",
        "plt.figure( figsize=(20,8) )\n",
        "plt.hist(encoded_layers[0][0][8], bins = 50, range=(-8, 4), label=\"WENT word vectors binned\" ) # went\n",
        "plt.hist(encoded_layers[0][0][10], bins = 50, range=(-8, 4), label=\"ON word vectors binned\", alpha=0.4) # on\n",
        "plt.legend()\n",
        "plt.show()"
      ],
      "execution_count": 0,
      "outputs": [
        {
          "output_type": "stream",
          "text": [
            "0 [CLS]\n",
            "1 testing\n",
            "2 em\n",
            "3 ##bed\n",
            "4 ##ding\n",
            "5 :\n",
            "6 bank\n",
            "7 robber\n",
            "8 went\n",
            "9 fishing\n",
            "10 on\n",
            "11 mississippi\n",
            "12 river\n",
            "13 bank\n",
            "14 .\n",
            "15 [SEP]\n"
          ],
          "name": "stdout"
        },
        {
          "output_type": "display_data",
          "data": {
            "image/png": "[encoded data removed]",
            "text/plain": [
              "<Figure size 1440x576 with 1 Axes>"
            ]
          },
          "metadata": {
            "tags": []
          }
        },
        {
          "output_type": "display_data",
          "data": {
            "image/png": "[encoded data removed]",
            "text/plain": [
              "<Figure size 1440x576 with 1 Axes>"
            ]
          },
          "metadata": {
            "tags": []
          }
        }
      ]
    },
    {
      "cell_type": "markdown",
      "metadata": {
        "id": "bFP5GVc8PhEL",
        "colab_type": "text"
      },
      "source": [
        "### 2.3 Polysemy : Bank - \"river bank\" vs \"bank robber\"\n",
        "- Word_loc_idx - word\n",
        "- 6 bank 7 robber\n",
        "- 12 river 13 bank"
      ]
    },
    {
      "cell_type": "code",
      "metadata": {
        "id": "bu_8-xitPgRc",
        "colab_type": "code",
        "outputId": "bd697717-4d15-473c-b21f-12012ae613c8",
        "colab": {
          "base_uri": "https://localhost:8080/",
          "height": 538
        }
      },
      "source": [
        "# encoded_layers = [#layers #batch #word_token #feature ]\n",
        "print('#batch #word_token #feature')\n",
        "print(encoded_layers[0].size())\n",
        "\n",
        "plt.figure(figsize=(20,8) )\n",
        "plt.hist(encoded_layers[0][0][6], bins = 50, range=(-3, 3), label=\"BANK word vector binned as in bank robber\") # bank from bank robber\n",
        "plt.hist(encoded_layers[0][0][13], bins = 50, range=(-3, 3), label=\"BANK word vector binned as in river bank\", alpha=0.4) # bank from river bank\n",
        "plt.legend()\n",
        "plt.show()\n"
      ],
      "execution_count": 0,
      "outputs": [
        {
          "output_type": "stream",
          "text": [
            "#batch #word_token #feature\n",
            "torch.Size([1, 16, 768])\n"
          ],
          "name": "stdout"
        },
        {
          "output_type": "display_data",
          "data": {
            "image/png": "[encoded data removed]",
            "text/plain": [
              "<Figure size 1440x576 with 1 Axes>"
            ]
          },
          "metadata": {
            "tags": []
          }
        }
      ]
    },
    {
      "cell_type": "markdown",
      "metadata": {
        "id": "3k6z2a6NqWS-",
        "colab_type": "text"
      },
      "source": [
        "### 2.4 Word Vector across diff layers\n",
        "- Each word propagates across 12 layers and has different vector.\n",
        "- Diff layer encode different kind of information.\n",
        "- To get indv vectors, we have to combine the word vectors across diffent layers. \n",
        "- The combination can be done in a different way. \n",
        "- Bert authors tested this combination by feeding diff layers as input feature to a BiLSTM.\n",
        "- Best result: Concatenation of last four layers for bert authors\n",
        "- Test diff layer concatenate strategy because diff layers encode different kind of information, so the pooling strategy is dependent on the your specific task.\n",
        "![](http://jalammar.github.io/images/bert-feature-extraction-contextualized-embeddings.png)\n",
        "\n"
      ]
    },
    {
      "cell_type": "code",
      "metadata": {
        "id": "583VXjG0eV8i",
        "colab_type": "code",
        "outputId": "0b03a85f-9cc0-48ab-fc05-22351a6b8381",
        "colab": {
          "base_uri": "https://localhost:8080/",
          "height": 173
        }
      },
      "source": [
        "print('num_sentence, num_words, features \\n', encoded_layers[0].size()) #  [ num_sentence, num_words, features  ]\n",
        "\n",
        "token_embeddings = torch.stack(encoded_layers, dim=0 ) # dim=0, 0-index, 1=1-index, 2=2-index, 3=3-index\n",
        "print('After combining 12 layers ', token_embeddings.size())\n",
        "\n",
        "print('\\n# Remove dimension 1, batches because we do not need it as we are exploring a single sentence hence batch=1')\n",
        "token_embeddings = torch.squeeze( token_embeddings, dim=1 )\n",
        "print('After removing batch ', token_embeddings.size() )\n",
        "\n",
        "print('\\n# Switch layers and tokens, because we need the dimesion in  [#tokens, #layers, #features] format')\n",
        "token_embeddings = token_embeddings.permute(1,0,2)\n",
        "token_embeddings.size()\n",
        "\n"
      ],
      "execution_count": 0,
      "outputs": [
        {
          "output_type": "stream",
          "text": [
            "num_sentence, num_words, features \n",
            " torch.Size([1, 16, 768])\n",
            "After combining 12 layers  torch.Size([12, 1, 16, 768])\n",
            "\n",
            "# Remove dimension 1, batches because we do not need it as we are exploring a single sentence hence batch=1\n",
            "After removing batch  torch.Size([12, 16, 768])\n",
            "\n",
            "# Switch layers and tokens, because we need the dimesion in  [#tokens, #layers, #features] format\n"
          ],
          "name": "stdout"
        },
        {
          "output_type": "execute_result",
          "data": {
            "text/plain": [
              "torch.Size([16, 12, 768])"
            ]
          },
          "metadata": {
            "tags": []
          },
          "execution_count": 11
        }
      ]
    },
    {
      "cell_type": "code",
      "metadata": {
        "id": "RVU8yN8stZFp",
        "colab_type": "code",
        "outputId": "170e13ee-42a8-488b-8628-8edc1bebb20f",
        "colab": {
          "base_uri": "https://localhost:8080/",
          "height": 612
        }
      },
      "source": [
        "plt.figure(figsize=(20, 10) )\n",
        "plt.hist(token_embeddings[8][0], bins = 40, range=(-5.5, 2.5), label='WENT: word vector at layer 0') # went\n",
        "plt.hist(token_embeddings[8][1], bins = 40, range=(-5.5, 2.5), label='WENT word vector at layer 1', alpha=0.6 ) # went\n",
        "plt.hist(token_embeddings[8][11], bins = 40, range=(-5.5, 2.5), label='WENT word vector at layer 12', alpha=0.4) # went\n",
        "plt.legend()\n",
        "plt.show()\n"
      ],
      "execution_count": 0,
      "outputs": [
        {
          "output_type": "display_data",
          "data": {
            "image/png": "[encoded data removed]",
            "text/plain": [
              "<Figure size 1440x720 with 1 Axes>"
            ]
          },
          "metadata": {
            "tags": []
          }
        }
      ]
    },
    {
      "cell_type": "markdown",
      "metadata": {
        "id": "YE7UsRN7cfwF",
        "colab_type": "text"
      },
      "source": [
        "### 2.5 Computing Word vectors : Sum vs Concat last four layers\n",
        "- Concat last four layers \n",
        "  -  [[wv_l_12] [wv_l_11] [wv_l_10] [wv_l_9] ]\n",
        "  ![](http://jalammar.github.io/images/bert-feature-extraction-contextualized-embeddings.png)\n"
      ]
    },
    {
      "cell_type": "code",
      "metadata": {
        "id": "lOijW4wyfkLi",
        "colab_type": "code",
        "outputId": "4c062df7-bd97-45c7-e2f9-fd6b0d4d525d",
        "colab": {
          "base_uri": "https://localhost:8080/",
          "height": 34
        }
      },
      "source": [
        "# Trying different way of getting Word vectors\n",
        "# token_embeddings = token_embeddings.permute(1,0,2)\n",
        "token_embeddings.size()"
      ],
      "execution_count": 0,
      "outputs": [
        {
          "output_type": "execute_result",
          "data": {
            "text/plain": [
              "torch.Size([16, 12, 768])"
            ]
          },
          "metadata": {
            "tags": []
          },
          "execution_count": 13
        }
      ]
    },
    {
      "cell_type": "code",
      "metadata": {
        "id": "FdKcqx7pa71d",
        "colab_type": "code",
        "outputId": "30e55e11-fa89-4639-fef5-3ef2d478abbe",
        "colab": {
          "base_uri": "https://localhost:8080/",
          "height": 69
        }
      },
      "source": [
        "def get_wv_last_four_hidden_layer_concatenated(token_embeddings):\n",
        "  CLFH = []\n",
        "  for tkn in token_embeddings:\n",
        "    indv_word_tkn = torch.cat( (tkn[-1], tkn[-2], tkn[-3], tkn[-4]), dim=0 )\n",
        "    CLFH.append(indv_word_tkn)\n",
        "  return CLFH\n",
        "\n",
        "CLFH = get_wv_last_four_hidden_layer_concatenated(token_embeddings)\n",
        "print('\\nCONCAT Last Four Hidden(CLFH)')\n",
        "print('CLFH size post Concat is {} x {}'.format(len(CLFH), len(CLFH[0])) )"
      ],
      "execution_count": 0,
      "outputs": [
        {
          "output_type": "stream",
          "text": [
            "\n",
            "CONCAT Last Four Hidden(CLFH)\n",
            "CLFH size post Concat is 16 x 3072\n"
          ],
          "name": "stdout"
        }
      ]
    },
    {
      "cell_type": "code",
      "metadata": {
        "id": "YNBPKPG_ZHAX",
        "colab_type": "code",
        "outputId": "343fc4bc-0520-443c-c397-e9c9ebd5f4e9",
        "colab": {
          "base_uri": "https://localhost:8080/",
          "height": 69
        }
      },
      "source": [
        "def get_wv_last_four_hidden_layer_summed(token_embeddings):\n",
        "  SLFH = []  \n",
        "  for tkn in token_embeddings:\n",
        "    indv_word_tkn = torch.sum( tkn[-4:], dim=0 )\n",
        "    SLFH.append(indv_word_tkn)\n",
        "  return SLFH\n",
        "\n",
        "SLFH = get_wv_last_four_hidden_layer_summed(token_embeddings)\n",
        "print('\\nSUM Last Four Hidden(SLFH) ')\n",
        "print('SLFH is {} x {}'.format(len(SLFH), len(SLFH[0])) )"
      ],
      "execution_count": 0,
      "outputs": [
        {
          "output_type": "stream",
          "text": [
            "\n",
            "SUM Last Four Hidden(SLFH) \n",
            "SLFH is 16 x 768\n"
          ],
          "name": "stdout"
        }
      ]
    },
    {
      "cell_type": "code",
      "metadata": {
        "colab_type": "code",
        "outputId": "1a09c93e-84c8-4ebe-acd6-8a0766d2266b",
        "id": "5qdmzSI6EtwE",
        "colab": {
          "base_uri": "https://localhost:8080/",
          "height": 612
        }
      },
      "source": [
        "plt.figure(figsize=(20, 10) )\n",
        "plt.hist(token_embeddings[8][0], bins = 40, range=(-5.5, 2.5), label='WENT: word vector at layer 0') # went\n",
        "plt.hist(token_embeddings[8][1], bins = 40, range=(-5.5, 2.5), label='WENT word vector at layer 1', alpha=0.6 ) # went\n",
        "plt.hist(CLFH[8], bins = 40, range=(-5.5, 2.5), label='WENT word vector Lsat 4 layer: CONCAT ', alpha=0.4) # went\n",
        "plt.hist(SLFH[8], bins = 40, range=(-5.5, 2.5), label='WENT word vector Lsat 4 layer: SUM ', alpha=0.4) # went\n",
        "plt.legend()\n",
        "plt.show()\n"
      ],
      "execution_count": 0,
      "outputs": [
        {
          "output_type": "display_data",
          "data": {
            "image/png": "[encoded data removed]",
            "text/plain": [
              "<Figure size 1440x720 with 1 Axes>"
            ]
          },
          "metadata": {
            "tags": []
          }
        }
      ]
    },
    {
      "cell_type": "markdown",
      "metadata": {
        "id": "EpzFH9W7FbZh",
        "colab_type": "text"
      },
      "source": [
        "### 2.6 Polysemy CONCAT vs SUM for Bank: PLOT \n",
        "- Plotting word bank with two strategy\n",
        "  - Concatenate last four hidden layer\n",
        "  - Sum last four hidden layer\n",
        "- Bank as in\n",
        "  - Bank Robber\n",
        "  - River Bank\n",
        "\n"
      ]
    },
    {
      "cell_type": "code",
      "metadata": {
        "id": "nAD1n2rwvY5e",
        "colab_type": "code",
        "outputId": "d6971905-37e0-4b02-b8b8-12754c6049ad",
        "colab": {
          "base_uri": "https://localhost:8080/",
          "height": 295
        }
      },
      "source": [
        "for i, tkn in enumerate(tokens):\n",
        "  print(i, tkn)"
      ],
      "execution_count": 0,
      "outputs": [
        {
          "output_type": "stream",
          "text": [
            "0 [CLS]\n",
            "1 testing\n",
            "2 em\n",
            "3 ##bed\n",
            "4 ##ding\n",
            "5 :\n",
            "6 bank\n",
            "7 robber\n",
            "8 went\n",
            "9 fishing\n",
            "10 on\n",
            "11 mississippi\n",
            "12 river\n",
            "13 bank\n",
            "14 .\n",
            "15 [SEP]\n"
          ],
          "name": "stdout"
        }
      ]
    },
    {
      "cell_type": "code",
      "metadata": {
        "id": "L7K4OXgbvY78",
        "colab_type": "code",
        "outputId": "b56d3e66-d17c-4c2a-a154-248251039a4f",
        "colab": {
          "base_uri": "https://localhost:8080/",
          "height": 1000
        }
      },
      "source": [
        "print('CLFH : Displaying First 5 vector for word BANK\\n')\n",
        "print(\"bank robber \", str(CLFH[6][:5]))\n",
        "print(\"river bank \", str(CLFH[13][:5]))\n",
        "\n",
        "print('\\nSLFH : Displaying First 5 vector for word BANK\\n')\n",
        "print(\"bank robber \", str(SLFH[6][:5]))\n",
        "print(\"river bank \", str(SLFH[13][:5]))\n",
        "\n",
        "plt.figure(figsize=(20, 10) )\n",
        "plt.hist(SLFH[6] , bins = 40, range=(-10, 10), label='SUM: BANK in \"Bank Robber\" word vector Last 4 layer: SUM ', alpha=0.9) # went\n",
        "plt.hist(SLFH[13], bins = 40, range=(-10, 10), label='SUM: BANK in \"River Bank\" word vector Last 4 layer: SUM ', alpha=0.7) # went\n",
        "plt.legend()\n",
        "plt.show()\n",
        "\n",
        "plt.figure(figsize=(20, 10) )\n",
        "plt.hist(CLFH[6] , bins = 40, range=(-10, 10), label='CONCAT: BANK in \"Bank Robber\" word vector Last 4 layer: CONCAT ', alpha=0.5) # went\n",
        "plt.hist(CLFH[13], bins = 40, range=(-10, 10), label='CONCAT: BANK in \"River Bank\" word vector Last 4 layer: CONCAT ', alpha=0.4) # went\n",
        "plt.legend()\n",
        "plt.show()\n"
      ],
      "execution_count": 0,
      "outputs": [
        {
          "output_type": "stream",
          "text": [
            "CLFH : Displaying First 5 vector for word BANK\n",
            "\n",
            "bank robber  tensor([ 0.6573, -0.4450, -0.2412,  0.0931,  0.6393])\n",
            "river bank  tensor([ 0.1181, -0.3138, -0.0505,  0.0942,  0.9832])\n",
            "\n",
            "SLFH : Displaying First 5 vector for word BANK\n",
            "\n",
            "bank robber  tensor([ 1.7567, -3.2957, -0.8906,  0.3519,  2.3556])\n",
            "river bank  tensor([ 1.0829, -2.5464,  0.9044, -0.3009,  4.1573])\n"
          ],
          "name": "stdout"
        },
        {
          "output_type": "display_data",
          "data": {
            "image/png": "[encoded data removed]",
            "text/plain": [
              "<Figure size 1440x720 with 1 Axes>"
            ]
          },
          "metadata": {
            "tags": []
          }
        },
        {
          "output_type": "display_data",
          "data": {
            "image/png": "[encoded data removed]",
            "text/plain": [
              "<Figure size 1440x720 with 1 Axes>"
            ]
          },
          "metadata": {
            "tags": []
          }
        }
      ]
    },
    {
      "cell_type": "markdown",
      "metadata": {
        "id": "P5crSQC_I3x9",
        "colab_type": "text"
      },
      "source": [
        "### 2.7 Cosine Similarity : \"Bank Robber vs River Bank\""
      ]
    },
    {
      "cell_type": "code",
      "metadata": {
        "id": "p1DD_v0Quu0i",
        "colab_type": "code",
        "outputId": "67790cf4-4d76-43c4-ff22-e288d50158b4",
        "colab": {
          "base_uri": "https://localhost:8080/",
          "height": 52
        }
      },
      "source": [
        "from scipy.spatial.distance import cosine\n",
        "\n",
        "diff_bank_when_summed       = 1 - cosine(SLFH[6], SLFH[13])\n",
        "diff_bank_when_concatenated = 1 - cosine(CLFH[6], CLFH[13])\n",
        "\n",
        "print('Cosine Diff for last four hidden layer summed ', diff_bank_when_summed)\n",
        "print('Cosine Diff for last four hidden layer concatenated ', diff_bank_when_concatenated)"
      ],
      "execution_count": 0,
      "outputs": [
        {
          "output_type": "stream",
          "text": [
            "Cosine Diff for last four hidden layer summed  0.7252109050750732\n",
            "Cosine Diff for last four hidden layer concatenated  0.721464216709137\n"
          ],
          "name": "stdout"
        }
      ]
    }
  ]
}
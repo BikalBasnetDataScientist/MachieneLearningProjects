{
 "cells": [
  {
   "attachments": {},
   "cell_type": "markdown",
   "metadata": {},
   "source": [
    "# 1. Extract Data using Kor\n",
    "-  Kor is a thin wrapper to extract structured data."
   ]
  },
  {
   "attachments": {},
   "cell_type": "markdown",
   "metadata": {},
   "source": [
    "### 1.1 Load Library"
   ]
  },
  {
   "cell_type": "code",
   "execution_count": 4,
   "metadata": {},
   "outputs": [],
   "source": [
    "from kor.extraction import create_extraction_chain\n",
    "from kor.nodes import Object, Text, Number\n",
    "\n",
    "from langchain.chat_models import ChatOpenAI\n",
    "from langchain.llms import OpenAI\n",
    "\n",
    "from openai_keys import *\n",
    "\n",
    "# It's better to do this an environment variable but putting it in plain text for clarity\n",
    "openai_api_key_bikal_personal = OPENAI_KEY_BIKAL"
   ]
  },
  {
   "cell_type": "code",
   "execution_count": 5,
   "metadata": {},
   "outputs": [
    {
     "data": {
      "text/plain": [
       "'0.001 cents'"
      ]
     },
     "execution_count": 5,
     "metadata": {},
     "output_type": "execute_result"
    }
   ],
   "source": [
    "import json\n",
    "\n",
    "def printOutput(output):\n",
    "    print(json.dumps(output,sort_keys=True, indent=3))\n",
    "\n",
    "def get_cost_estimate(model, no_of_tokens):\n",
    "    # Per 1k cost\n",
    "    model_per_1k_cost = {\n",
    "        'text-babbage-001' : 0.0005,\n",
    "        'text-ada-001'  : 0.0004,\n",
    "        'text-curie-001': 0.002,\n",
    "        'gpt-3.5-turbo' : 0.002, \n",
    "        'gpt-3.5-turbo-0301':0.002,\n",
    "        'text-davinci-003': 0.02,\n",
    "        'text-davinci-002':0.02,\n",
    "        'gpt-4'         : 0.06,\n",
    "        'gpt-4-0314'    : 0.06,\n",
    "        'gpt-4-32k'     : 0.12,\n",
    "        'gpt-4-32k-0314': 1.12\n",
    "    } \n",
    "    \n",
    "    return f'{no_of_tokens  * model_per_1k_cost[model] / (1000)} cents'\n",
    "        \n",
    "\n",
    "get_cost_estimate('gpt-3.5-turbo', 500)"
   ]
  },
  {
   "attachments": {},
   "cell_type": "markdown",
   "metadata": {},
   "source": [
    "### 1.2  Define Extraction Schema  Simple\n",
    "- Single object : Car\n",
    "- Singleton  attributes: e.g Car Color, Car engine.\n",
    "- Inheritance / Composition : A vehicle is composed of multiple parts\n",
    "\n",
    "##### 1.2.1 Complex Schema : Composition:\n",
    "- Composition : e.g A car is composed of multiple parts\n",
    "e.g The blue jeep has rear view mirror, roof, windshield into\n",
    "```{\n",
    "   \"car\": {\n",
    "      \"color\": \"blue\",\n",
    "      \"parts\": [\n",
    "         {\n",
    "            \"part\": \"rear view mirror\"\n",
    "         },\n",
    "         {\n",
    "            \"part\": \"roof\"\n",
    "         },\n",
    "         {\n",
    "            \"part\": \"windshield\"\n",
    "         }\n",
    "      ],\n",
    "      \"type\": \"jeep\"\n",
    "   }\n",
    "}\n",
    "```\n",
    "\n",
    "Ref : https://github.com/gkamradt/langchain-tutorials/blob/main/data_generation/Expert%20Structured%20Output%20(Using%20Kor).ipynb"
   ]
  },
  {
   "cell_type": "code",
   "execution_count": 6,
   "metadata": {},
   "outputs": [
    {
     "name": "stdout",
     "output_type": "stream",
     "text": [
      "id='measurement_and_values' description='Measurement  information of Chemicals ' many=False attributes=[Object(id='chemicals', description=\"List of  chemical name or  a chemical's molecular formulae\", many=False, attributes=[Text(id='chemical', description=\"Chemical's molecular formulae or chemical name\", many=False, examples=())], examples=[('The BaCO<sub>3 </sub>and Sodium hypochlorite', [{'chemical': 'BaCO<sub>3 </sub>'}, {'chemical': 'Sodium hypochlorite'}])]), Text(id='mechanical_properties', description='The mechanical property of the chemical being measured.', many=False, examples=()), Text(id='measurement_unit', description='Unit of measurement for the chemical.', many=False, examples=()), Text(id='measured_value_low', description='Lower range value for the chemical compound.', many=False, examples=()), Text(id='measured_value_high', description='Higher range value for the chemical compound.', many=False, examples=())] examples=[('The BaCO<sub>3 </sub>and CeO<sub>2 </sub>crystallites formed particles with a size of between about 5 and 50 microns.', [{'chemical': ['BaCO<sub>3', 'CeO<sub>3'], 'mechanical_properties': 'crystallite size', 'measurement_unit': 'nm', 'measured_value_low': '20', 'measured_value_high': '40'}])]\n"
     ]
    }
   ],
   "source": [
    "# The chemical or molecular formulae of the chemical compound.\n",
    "chemicals = Object(\n",
    "    id=\"chemicals\",\n",
    "    description=\"List of  chemical name or  a chemical's molecular formulae\",\n",
    "    attributes = [Text(id=\"chemical\", description=\"Chemical's molecular formulae or chemical name\") ],\n",
    "    examples = [(\"The BaCO<sub>3 </sub>and Sodium hypochlorite\",\n",
    "                 [{\"chemical\":\"BaCO<sub>3 </sub>\"}, {\"chemical\":\"Sodium hypochlorite\"}],\n",
    "    )]\n",
    ")\n",
    "chemical_measurement_schema = Object(\n",
    "    id=\"measurement_and_values\",\n",
    "    description=\"Measurement  information of Chemicals \",    \n",
    "    attributes=[\n",
    "        chemicals,\n",
    "        Text(\n",
    "            id=\"mechanical_properties\",\n",
    "            description=\"The mechanical property of the chemical being measured.\",\n",
    "        ),\n",
    "        Text(\n",
    "            id=\"measurement_unit\",\n",
    "            description=\"Unit of measurement for the chemical.\",\n",
    "        ),\n",
    "        Text(\n",
    "            id=\"measured_value_low\",\n",
    "            description=\"Lower range value for the chemical compound.\",\n",
    "        ),\n",
    "        Text(\n",
    "            id=\"measured_value_high\",\n",
    "            description=\"Higher range value for the chemical compound.\",\n",
    "        )\n",
    "    ],\n",
    "    # Including both examples and description will likely improve performance.\n",
    "    # The resulting BaCO3 had a crystallite size of between about 20 and 40 nm.\n",
    "    # The BaCO<sub>3 </sub>and CeO<sub>2 </sub>crystallites formed particles with a size of between about 5 and 50 microns.\n",
    "    examples=[\n",
    "        (\"The BaCO<sub>3 </sub>and CeO<sub>2 </sub>crystallites formed particles with a size of between about 5 and 50 microns.\",\n",
    "         [{\"chemical\"               : [\"BaCO<sub>3\", \"CeO<sub>3\"],\n",
    "           \"mechanical_properties\"  : \"crystallite size\",\n",
    "           \"measurement_unit\"       : \"nm\",\n",
    "           \"measured_value_low\"     : \"20\",\n",
    "           \"measured_value_high\"    : \"40\"\n",
    "           }            \n",
    "          ])\n",
    "    ],\n",
    "    # many=False, # If the  text contains multiple chemical names, then multiple objects will be extrtacted.\n",
    ")\n",
    "print(chemical_measurement_schema)"
   ]
  },
  {
   "attachments": {},
   "cell_type": "markdown",
   "metadata": {},
   "source": [
    "## Create Langchain model\n",
    "- 14:13. wait 5 minutes until 14:20"
   ]
  },
  {
   "cell_type": "code",
   "execution_count": 7,
   "metadata": {},
   "outputs": [],
   "source": [
    "llm = ChatOpenAI(\n",
    "    model_name=\"gpt-3.5-turbo\", #  lowest cost among gpt - 3.5 models\n",
    "    # model_name=\"gpt-4\", # State of art but expensive\n",
    "    temperature=0, # setting 0, ensures 0 creativity i.e  select only the data from the text and no hallucination or 0 fill \n",
    "    # max_tokens=4096,\n",
    "    openai_api_key=openai_api_key_bikal_personal\n",
    ")\n",
    "chain = create_extraction_chain(llm, chemical_measurement_schema, encoder_or_encoder_class=\"json\")"
   ]
  },
  {
   "cell_type": "code",
   "execution_count": 5,
   "metadata": {},
   "outputs": [
    {
     "name": "stdout",
     "output_type": "stream",
     "text": [
      " Your prompt length is  1767\n",
      " Your available user input length is  2329\n",
      "Youer prompt string is \n",
      " Your goal is to extract structured information from the user's input that matches the form described below. When extracting information please make sure it matches the type information exactly. Do not add any attributes that do not appear in the schema shown below.\n",
      "\n",
      "```TypeScript\n",
      "\n",
      "measurement_and_values: { // Measurement  information of Chemicals \n",
      " chemicals: { // A Single chemical name or  a chemical's molecular formulae\n",
      "  chemical: string // Chemical's molecular formulae or chemical name\n",
      " }\n",
      " mechanical_properties: string // The mechanical property of the chemical being measured.\n",
      " measurement_unit: string // Unit of measurement for the chemical.\n",
      " measured_value_low: string // Lower range value for the chemical compound.\n",
      " measured_value_high: string // Higher range value for the chemical compound.\n",
      "}\n",
      "```\n",
      "\n",
      "\n",
      "Please output the extracted information in JSON format. Do not output anything except for the extracted information. Do not add any clarifying information. Do not add any fields that are not in the schema. If the text contains attributes that do not appear in the schema, please ignore them. All output must be in JSON format and follow the schema specified above. Wrap the JSON in <json> tags.\n",
      "\n",
      "\n",
      "\n",
      "Input: The BaCO<sub>3 </sub>and CeO<sub>2 </sub>crystallites formed particles with a size of between about 5 and 50 microns.\n",
      "Output: <json>{\"measurement_and_values\": [{\"chemical\": [\"BaCO<sub>3\", \"CeO<sub>3\"], \"mechanical_properties\": \"crystallite size\", \"measurement_unit\": \"nm\", \"measured_value_low\": \"20\", \"measured_value_high\": \"40\"}]}</json>\n",
      "Input: The BaCO<sub>3 </sub>and Sodium hypochlorite\n",
      "Output: <json>{\"measurement_and_values\": {\"chemicals\": [{\"chemical\": \"BaCO<sub>3 </sub>\"}, {\"chemical\": \"Sodium hypochlorite\"}]}}</json>\n",
      "Input: ..\n",
      "Output:\n"
     ]
    }
   ],
   "source": [
    "prompt_string = chain.prompt.format_prompt(text=\"..\").to_string()\n",
    "print(f\" Your prompt length is  {len(prompt_string)}\")\n",
    "# https://platform.openai.com/docs/models/gpt-4\n",
    "max_token_supported_by_gpt_3_dot_5 = 4096\n",
    "print(f\" Your available user input length is  {4096 - len(prompt_string)}\")\n",
    "print(f\"Youer prompt string is \\n {prompt_string}\")\n"
   ]
  },
  {
   "cell_type": "code",
   "execution_count": 12,
   "metadata": {},
   "outputs": [],
   "source": [
    "# For token counting\n",
    "from langchain.callbacks import get_openai_callback\n",
    "\n",
    "def _extract(document_text, chain, get_stats=False):\n",
    "    with get_openai_callback() as cb:\n",
    "        output = chain.predict_and_parse(text=(test_text2))\n",
    "        print(f\"Total Tokens: {cb.total_tokens}\")\n",
    "        print(f\"Prompt Tokens: {cb.prompt_tokens}\")\n",
    "        print(f\"Completion Tokens: {cb.completion_tokens}\")\n",
    "        print(f\"Successful Requests: {cb.successful_requests}\")\n",
    "        print(f\"Total Cost (USD): {cb.total_cost} cents\")\n",
    "        # printOutput(output[\"data\"])\n",
    "        print(output)\n",
    "    return output[\"data\"]"
   ]
  },
  {
   "attachments": {},
   "cell_type": "markdown",
   "metadata": {},
   "source": [
    "### 1.4 Extraction : Simple Chemical attributes"
   ]
  },
  {
   "cell_type": "code",
   "execution_count": 13,
   "metadata": {},
   "outputs": [
    {
     "name": "stdout",
     "output_type": "stream",
     "text": [
      "--------- USER  None\n",
      "prompt---------------  [ExtractionPromptValue(string='Your goal is to extract structured information from the user\\'s input that matches the form described below. When extracting information please make sure it matches the type information exactly. Do not add any attributes that do not appear in the schema shown below.\\n\\n```TypeScript\\n\\nmeasurement_and_values: { // Measurement  information of Chemicals \\n chemicals: { // A Single chemical name or  a chemical\\'s molecular formulae\\n  chemical: string // Chemical\\'s molecular formulae or chemical name\\n }\\n mechanical_properties: string // The mechanical property of the chemical being measured.\\n measurement_unit: string // Unit of measurement for the chemical.\\n measured_value_low: string // Lower range value for the chemical compound.\\n measured_value_high: string // Higher range value for the chemical compound.\\n}\\n```\\n\\n\\nPlease output the extracted information in JSON format. Do not output anything except for the extracted information. Do not add any clarifying information. Do not add any fields that are not in the schema. If the text contains attributes that do not appear in the schema, please ignore them. All output must be in JSON format and follow the schema specified above. Wrap the JSON in <json> tags.\\n\\n\\n\\nInput: The BaCO<sub>3 </sub>and CeO<sub>2 </sub>crystallites formed particles with a size of between about 5 and 50 microns.\\nOutput: <json>{\"measurement_and_values\": [{\"chemical\": [\"BaCO<sub>3\", \"CeO<sub>3\"], \"mechanical_properties\": \"crystallite size\", \"measurement_unit\": \"nm\", \"measured_value_low\": \"20\", \"measured_value_high\": \"40\"}]}</json>\\nInput: The BaCO<sub>3 </sub>and Sodium hypochlorite\\nOutput: <json>{\"measurement_and_values\": {\"chemicals\": [{\"chemical\": \"BaCO<sub>3 </sub>\"}, {\"chemical\": \"Sodium hypochlorite\"}]}}</json>\\nInput: The BaCO3 that was produced had a crystallite dimension ranging from approximately 20 to 40 nm.\\nOutput:', messages=[SystemMessage(content=\"Your goal is to extract structured information from the user's input that matches the form described below. When extracting information please make sure it matches the type information exactly. Do not add any attributes that do not appear in the schema shown below.\\n\\n```TypeScript\\n\\nmeasurement_and_values: { // Measurement  information of Chemicals \\n chemicals: { // A Single chemical name or  a chemical's molecular formulae\\n  chemical: string // Chemical's molecular formulae or chemical name\\n }\\n mechanical_properties: string // The mechanical property of the chemical being measured.\\n measurement_unit: string // Unit of measurement for the chemical.\\n measured_value_low: string // Lower range value for the chemical compound.\\n measured_value_high: string // Higher range value for the chemical compound.\\n}\\n```\\n\\n\\nPlease output the extracted information in JSON format. Do not output anything except for the extracted information. Do not add any clarifying information. Do not add any fields that are not in the schema. If the text contains attributes that do not appear in the schema, please ignore them. All output must be in JSON format and follow the schema specified above. Wrap the JSON in <json> tags.\\n\\n\", additional_kwargs={}), HumanMessage(content='The BaCO<sub>3 </sub>and CeO<sub>2 </sub>crystallites formed particles with a size of between about 5 and 50 microns.', additional_kwargs={}, example=False), AIMessage(content='<json>{\"measurement_and_values\": [{\"chemical\": [\"BaCO<sub>3\", \"CeO<sub>3\"], \"mechanical_properties\": \"crystallite size\", \"measurement_unit\": \"nm\", \"measured_value_low\": \"20\", \"measured_value_high\": \"40\"}]}</json>', additional_kwargs={}, example=False), HumanMessage(content='The BaCO<sub>3 </sub>and Sodium hypochlorite', additional_kwargs={}, example=False), AIMessage(content='<json>{\"measurement_and_values\": {\"chemicals\": [{\"chemical\": \"BaCO<sub>3 </sub>\"}, {\"chemical\": \"Sodium hypochlorite\"}]}}</json>', additional_kwargs={}, example=False), HumanMessage(content='The BaCO3 that was produced had a crystallite dimension ranging from approximately 20 to 40 nm.', additional_kwargs={}, example=False)])] <langchain.callbacks.manager.CallbackManager object at 0x7f88b13e68f0>\n",
      "{\n",
      "   \"measurement_and_values\": {\n",
      "      \"chemicals\": {\n",
      "         \"chemical\": \"BaCO<sub>3</sub>\"\n",
      "      },\n",
      "      \"measured_value_high\": \"40\",\n",
      "      \"measured_value_low\": \"20\",\n",
      "      \"measurement_unit\": \"nm\",\n",
      "      \"mechanical_properties\": \"crystallite dimension\"\n",
      "   }\n",
      "}\n",
      "{'data': {'measurement_and_values': {'chemicals': {'chemical': 'BaCO<sub>3</sub>'}, 'mechanical_properties': 'crystallite dimension', 'measurement_unit': 'nm', 'measured_value_low': '20', 'measured_value_high': '40'}}, 'raw': '<json>{\"measurement_and_values\": {\"chemicals\": {\"chemical\": \"BaCO<sub>3</sub>\"}, \"mechanical_properties\": \"crystallite dimension\", \"measurement_unit\": \"nm\", \"measured_value_low\": \"20\", \"measured_value_high\": \"40\"}}</json>', 'errors': [], 'validated_data': {}}\n"
     ]
    }
   ],
   "source": [
    "test_text1 = \"The BaCO3 that was produced had a crystallite dimension ranging from approximately 20 to 40 nm.\"\n",
    "output = chain.predict_and_parse(text=(test_text1))\n",
    "printOutput(output[\"data\"])\n",
    "print(output)\n",
    "# printOutput(output['data'])\n",
    "# Notice how there isn't \"spot\" in the results list because it's the name of a dog, not a person."
   ]
  },
  {
   "cell_type": "code",
   "execution_count": 14,
   "metadata": {},
   "outputs": [
    {
     "name": "stdout",
     "output_type": "stream",
     "text": [
      "--------- USER  None\n",
      "prompt---------------  [ExtractionPromptValue(string='Your goal is to extract structured information from the user\\'s input that matches the form described below. When extracting information please make sure it matches the type information exactly. Do not add any attributes that do not appear in the schema shown below.\\n\\n```TypeScript\\n\\nmeasurement_and_values: { // Measurement  information of Chemicals \\n chemicals: { // A Single chemical name or  a chemical\\'s molecular formulae\\n  chemical: string // Chemical\\'s molecular formulae or chemical name\\n }\\n mechanical_properties: string // The mechanical property of the chemical being measured.\\n measurement_unit: string // Unit of measurement for the chemical.\\n measured_value_low: string // Lower range value for the chemical compound.\\n measured_value_high: string // Higher range value for the chemical compound.\\n}\\n```\\n\\n\\nPlease output the extracted information in JSON format. Do not output anything except for the extracted information. Do not add any clarifying information. Do not add any fields that are not in the schema. If the text contains attributes that do not appear in the schema, please ignore them. All output must be in JSON format and follow the schema specified above. Wrap the JSON in <json> tags.\\n\\n\\n\\nInput: The BaCO<sub>3 </sub>and CeO<sub>2 </sub>crystallites formed particles with a size of between about 5 and 50 microns.\\nOutput: <json>{\"measurement_and_values\": [{\"chemical\": [\"BaCO<sub>3\", \"CeO<sub>3\"], \"mechanical_properties\": \"crystallite size\", \"measurement_unit\": \"nm\", \"measured_value_low\": \"20\", \"measured_value_high\": \"40\"}]}</json>\\nInput: The BaCO<sub>3 </sub>and Sodium hypochlorite\\nOutput: <json>{\"measurement_and_values\": {\"chemicals\": [{\"chemical\": \"BaCO<sub>3 </sub>\"}, {\"chemical\": \"Sodium hypochlorite\"}]}}</json>\\nInput: The O2 and Carbon Dioxide that was produced had a crystallite dimension ranging from approximately 20 to 40 nm.\\nOutput:', messages=[SystemMessage(content=\"Your goal is to extract structured information from the user's input that matches the form described below. When extracting information please make sure it matches the type information exactly. Do not add any attributes that do not appear in the schema shown below.\\n\\n```TypeScript\\n\\nmeasurement_and_values: { // Measurement  information of Chemicals \\n chemicals: { // A Single chemical name or  a chemical's molecular formulae\\n  chemical: string // Chemical's molecular formulae or chemical name\\n }\\n mechanical_properties: string // The mechanical property of the chemical being measured.\\n measurement_unit: string // Unit of measurement for the chemical.\\n measured_value_low: string // Lower range value for the chemical compound.\\n measured_value_high: string // Higher range value for the chemical compound.\\n}\\n```\\n\\n\\nPlease output the extracted information in JSON format. Do not output anything except for the extracted information. Do not add any clarifying information. Do not add any fields that are not in the schema. If the text contains attributes that do not appear in the schema, please ignore them. All output must be in JSON format and follow the schema specified above. Wrap the JSON in <json> tags.\\n\\n\", additional_kwargs={}), HumanMessage(content='The BaCO<sub>3 </sub>and CeO<sub>2 </sub>crystallites formed particles with a size of between about 5 and 50 microns.', additional_kwargs={}, example=False), AIMessage(content='<json>{\"measurement_and_values\": [{\"chemical\": [\"BaCO<sub>3\", \"CeO<sub>3\"], \"mechanical_properties\": \"crystallite size\", \"measurement_unit\": \"nm\", \"measured_value_low\": \"20\", \"measured_value_high\": \"40\"}]}</json>', additional_kwargs={}, example=False), HumanMessage(content='The BaCO<sub>3 </sub>and Sodium hypochlorite', additional_kwargs={}, example=False), AIMessage(content='<json>{\"measurement_and_values\": {\"chemicals\": [{\"chemical\": \"BaCO<sub>3 </sub>\"}, {\"chemical\": \"Sodium hypochlorite\"}]}}</json>', additional_kwargs={}, example=False), HumanMessage(content='The O2 and Carbon Dioxide that was produced had a crystallite dimension ranging from approximately 20 to 40 nm.', additional_kwargs={}, example=False)])] <langchain.callbacks.manager.CallbackManager object at 0x7f88b13e4790>\n",
      "Total Tokens: 513\n",
      "Prompt Tokens: 453\n",
      "Completion Tokens: 60\n",
      "Successful Requests: 1\n",
      "Total Cost (USD): 0.001026 cents\n",
      "{'data': {'measurement_and_values': [{'chemical': ['O2', 'Carbon Dioxide'], 'mechanical_properties': 'crystallite dimension', 'measurement_unit': 'nm', 'measured_value_low': '20', 'measured_value_high': '40'}]}, 'raw': '<json>{\"measurement_and_values\": [{\"chemical\": [\"O2\", \"Carbon Dioxide\"], \"mechanical_properties\": \"crystallite dimension\", \"measurement_unit\": \"nm\", \"measured_value_low\": \"20\", \"measured_value_high\": \"40\"}]}</json>', 'errors': [], 'validated_data': {}}\n"
     ]
    },
    {
     "data": {
      "text/plain": [
       "{'measurement_and_values': [{'chemical': ['O2', 'Carbon Dioxide'],\n",
       "   'mechanical_properties': 'crystallite dimension',\n",
       "   'measurement_unit': 'nm',\n",
       "   'measured_value_low': '20',\n",
       "   'measured_value_high': '40'}]}"
      ]
     },
     "execution_count": 14,
     "metadata": {},
     "output_type": "execute_result"
    }
   ],
   "source": [
    "test_text2 = \"The O2 and Carbon Dioxide that was produced had a crystallite dimension ranging from approximately 20 to 40 nm.\"\n",
    "_extract(test_text2, chain, get_stats=True)\n"
   ]
  },
  {
   "cell_type": "code",
   "execution_count": 17,
   "metadata": {},
   "outputs": [
    {
     "data": {
      "text/plain": [
       "'0.001026 cents'"
      ]
     },
     "execution_count": 17,
     "metadata": {},
     "output_type": "execute_result"
    }
   ],
   "source": [
    "get_cost_estimate('gpt-3.5-turbo', 513)"
   ]
  }
 ],
 "metadata": {
  "kernelspec": {
   "display_name": "Python 3 (ipykernel)",
   "language": "python",
   "name": "python3"
  },
  "language_info": {
   "codemirror_mode": {
    "name": "ipython",
    "version": 3
   },
   "file_extension": ".py",
   "mimetype": "text/x-python",
   "name": "python",
   "nbconvert_exporter": "python",
   "pygments_lexer": "ipython3",
   "version": "3.10.11"
  },
  "orig_nbformat": 4
 },
 "nbformat": 4,
 "nbformat_minor": 2
}

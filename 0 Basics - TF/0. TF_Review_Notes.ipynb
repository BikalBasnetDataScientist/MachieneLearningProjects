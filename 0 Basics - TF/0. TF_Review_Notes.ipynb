{
  "nbformat": 4,
  "nbformat_minor": 0,
  "metadata": {
    "colab": {
      "name": "TF - Review Notes.ipynb",
      "provenance": [],
      "collapsed_sections": [],
      "include_colab_link": true
    },
    "kernelspec": {
      "name": "python3",
      "display_name": "Python 3"
    }
  },
  "cells": [
    {
      "cell_type": "markdown",
      "metadata": {
        "id": "view-in-github",
        "colab_type": "text"
      },
      "source": [
        "<a href=\"https://colab.research.google.com/github/beekal/MachieneLearningProjects/blob/master/0%20Basics%20-%20TF/0.%20TF_Review_Notes.ipynb\" target=\"_parent\"><img src=\"https://colab.research.google.com/assets/colab-badge.svg\" alt=\"Open In Colab\"/></a>"
      ]
    },
    {
      "cell_type": "markdown",
      "metadata": {
        "id": "i5bqqbQCgYMF",
        "colab_type": "text"
      },
      "source": [
        "## TF 1.0 Review Notes"
      ]
    },
    {
      "cell_type": "code",
      "metadata": {
        "id": "uCpb9pKnfcky",
        "colab_type": "code",
        "colab": {}
      },
      "source": [
        "! pip -q install tensorflow==1.14"
      ],
      "execution_count": 0,
      "outputs": []
    },
    {
      "cell_type": "markdown",
      "metadata": {
        "id": "7PNw7CIJkd2l",
        "colab_type": "text"
      },
      "source": [
        "## TF GPU Check"
      ]
    },
    {
      "cell_type": "code",
      "metadata": {
        "id": "u-2U5IkXkg_V",
        "colab_type": "code",
        "colab": {
          "base_uri": "https://localhost:8080/",
          "height": 528
        },
        "outputId": "e6fd9698-3948-4570-f7a6-825f88302782"
      },
      "source": [
        "import tensorflow as tf\n",
        "device_name = tf.test.gpu_device_name()\n",
        "if device_name != '/device:GPU:0':\n",
        "  #raise SystemError('GPU device not found')\n",
        "  print('GPU device not found')\n",
        "else:\n",
        "  print('Found GPU at: {}'.format(device_name))"
      ],
      "execution_count": 2,
      "outputs": [
        {
          "output_type": "stream",
          "text": [
            "/usr/local/lib/python3.6/dist-packages/tensorflow/python/framework/dtypes.py:516: FutureWarning: Passing (type, 1) or '1type' as a synonym of type is deprecated; in a future version of numpy, it will be understood as (type, (1,)) / '(1,)type'.\n",
            "  _np_qint8 = np.dtype([(\"qint8\", np.int8, 1)])\n",
            "/usr/local/lib/python3.6/dist-packages/tensorflow/python/framework/dtypes.py:517: FutureWarning: Passing (type, 1) or '1type' as a synonym of type is deprecated; in a future version of numpy, it will be understood as (type, (1,)) / '(1,)type'.\n",
            "  _np_quint8 = np.dtype([(\"quint8\", np.uint8, 1)])\n",
            "/usr/local/lib/python3.6/dist-packages/tensorflow/python/framework/dtypes.py:518: FutureWarning: Passing (type, 1) or '1type' as a synonym of type is deprecated; in a future version of numpy, it will be understood as (type, (1,)) / '(1,)type'.\n",
            "  _np_qint16 = np.dtype([(\"qint16\", np.int16, 1)])\n",
            "/usr/local/lib/python3.6/dist-packages/tensorflow/python/framework/dtypes.py:519: FutureWarning: Passing (type, 1) or '1type' as a synonym of type is deprecated; in a future version of numpy, it will be understood as (type, (1,)) / '(1,)type'.\n",
            "  _np_quint16 = np.dtype([(\"quint16\", np.uint16, 1)])\n",
            "/usr/local/lib/python3.6/dist-packages/tensorflow/python/framework/dtypes.py:520: FutureWarning: Passing (type, 1) or '1type' as a synonym of type is deprecated; in a future version of numpy, it will be understood as (type, (1,)) / '(1,)type'.\n",
            "  _np_qint32 = np.dtype([(\"qint32\", np.int32, 1)])\n",
            "/usr/local/lib/python3.6/dist-packages/tensorflow/python/framework/dtypes.py:525: FutureWarning: Passing (type, 1) or '1type' as a synonym of type is deprecated; in a future version of numpy, it will be understood as (type, (1,)) / '(1,)type'.\n",
            "  np_resource = np.dtype([(\"resource\", np.ubyte, 1)])\n",
            "/usr/local/lib/python3.6/dist-packages/tensorboard/compat/tensorflow_stub/dtypes.py:541: FutureWarning: Passing (type, 1) or '1type' as a synonym of type is deprecated; in a future version of numpy, it will be understood as (type, (1,)) / '(1,)type'.\n",
            "  _np_qint8 = np.dtype([(\"qint8\", np.int8, 1)])\n",
            "/usr/local/lib/python3.6/dist-packages/tensorboard/compat/tensorflow_stub/dtypes.py:542: FutureWarning: Passing (type, 1) or '1type' as a synonym of type is deprecated; in a future version of numpy, it will be understood as (type, (1,)) / '(1,)type'.\n",
            "  _np_quint8 = np.dtype([(\"quint8\", np.uint8, 1)])\n",
            "/usr/local/lib/python3.6/dist-packages/tensorboard/compat/tensorflow_stub/dtypes.py:543: FutureWarning: Passing (type, 1) or '1type' as a synonym of type is deprecated; in a future version of numpy, it will be understood as (type, (1,)) / '(1,)type'.\n",
            "  _np_qint16 = np.dtype([(\"qint16\", np.int16, 1)])\n",
            "/usr/local/lib/python3.6/dist-packages/tensorboard/compat/tensorflow_stub/dtypes.py:544: FutureWarning: Passing (type, 1) or '1type' as a synonym of type is deprecated; in a future version of numpy, it will be understood as (type, (1,)) / '(1,)type'.\n",
            "  _np_quint16 = np.dtype([(\"quint16\", np.uint16, 1)])\n",
            "/usr/local/lib/python3.6/dist-packages/tensorboard/compat/tensorflow_stub/dtypes.py:545: FutureWarning: Passing (type, 1) or '1type' as a synonym of type is deprecated; in a future version of numpy, it will be understood as (type, (1,)) / '(1,)type'.\n",
            "  _np_qint32 = np.dtype([(\"qint32\", np.int32, 1)])\n",
            "/usr/local/lib/python3.6/dist-packages/tensorboard/compat/tensorflow_stub/dtypes.py:550: FutureWarning: Passing (type, 1) or '1type' as a synonym of type is deprecated; in a future version of numpy, it will be understood as (type, (1,)) / '(1,)type'.\n",
            "  np_resource = np.dtype([(\"resource\", np.ubyte, 1)])\n"
          ],
          "name": "stderr"
        },
        {
          "output_type": "display_data",
          "data": {
            "text/html": [
              "<p style=\"color: red;\">\n",
              "The default version of TensorFlow in Colab will switch to TensorFlow 2.x on the 27th of March, 2020.<br>\n",
              "We recommend you <a href=\"https://www.tensorflow.org/guide/migrate\" target=\"_blank\">upgrade</a> now\n",
              "or ensure your notebook will continue to use TensorFlow 1.x via the <code>%tensorflow_version 1.x</code> magic:\n",
              "<a href=\"https://colab.research.google.com/notebooks/tensorflow_version.ipynb\" target=\"_blank\">more info</a>.</p>\n"
            ],
            "text/plain": [
              "<IPython.core.display.HTML object>"
            ]
          },
          "metadata": {
            "tags": []
          }
        },
        {
          "output_type": "stream",
          "text": [
            "GPU device not found\n"
          ],
          "name": "stdout"
        }
      ]
    },
    {
      "cell_type": "markdown",
      "metadata": {
        "id": "lc7TiNpfgk_V",
        "colab_type": "text"
      },
      "source": [
        "## TF Program Exection:"
      ]
    },
    {
      "cell_type": "code",
      "metadata": {
        "id": "rhKWZN9c79L2",
        "colab_type": "code",
        "outputId": "7997e001-9520-420f-c677-20e5295716b7",
        "colab": {
          "base_uri": "https://localhost:8080/",
          "height": 52
        }
      },
      "source": [
        "# Session : Env that holds all variables and performs operation. Allocate / deallocates memory within the session\n",
        "## OPTION 1\n",
        "import tensorflow as tf\n",
        "a = tf.add(1,2)\n",
        "sess = tf.Session()\n",
        "print('1.' ,sess.run(a))\n",
        "sess.close()\n",
        "\n",
        "\n",
        "##  OPTION 2: Inside tf.Session()\n",
        "with tf.Session() as sess:\n",
        "  print('2.',sess.run(a))\n"
      ],
      "execution_count": 3,
      "outputs": [
        {
          "output_type": "stream",
          "text": [
            "1. 3\n",
            "2. 3\n"
          ],
          "name": "stdout"
        }
      ]
    },
    {
      "cell_type": "markdown",
      "metadata": {
        "id": "FOrx344vgzim",
        "colab_type": "text"
      },
      "source": [
        "## Run Multiple TF Operations"
      ]
    },
    {
      "cell_type": "code",
      "metadata": {
        "id": "ZH8NuL14g0Lp",
        "colab_type": "code",
        "colab": {
          "base_uri": "https://localhost:8080/",
          "height": 35
        },
        "outputId": "220b1f1b-87f9-490e-f060-18440f49c483"
      },
      "source": [
        "## Multiple variable retrieval\n",
        "a = tf.add(1,2)\n",
        "d = tf.subtract(1,2)\n",
        "\n",
        "with tf.Session() as sess:\n",
        "  add, subtract = sess.run([a,d])\n",
        "  print('3.', add, subtract)"
      ],
      "execution_count": 4,
      "outputs": [
        {
          "output_type": "stream",
          "text": [
            "3. 3 -1\n"
          ],
          "name": "stdout"
        }
      ]
    },
    {
      "cell_type": "markdown",
      "metadata": {
        "id": "4OiC3b5khDfO",
        "colab_type": "text"
      },
      "source": [
        "## Debug TF Program"
      ]
    },
    {
      "cell_type": "code",
      "metadata": {
        "id": "3zQPzO9dVMm1",
        "colab_type": "code",
        "outputId": "f8efb0cb-bdd4-42b3-b95a-877f36a0ede4",
        "colab": {
          "base_uri": "https://localhost:8080/",
          "height": 108
        }
      },
      "source": [
        "\"\"\" DEBUG with tensorboard \"\"\"\n",
        "x = tf.add(2, 3, name=\"add_debug_sample\")\n",
        "\n",
        "# Add writer after graph definition and before running our session\n",
        "write = tf.summary.FileWriter('./graphs/1', tf.get_default_graph())\n",
        "with tf.Session() as sess_g:\n",
        "\tprint(sess_g.run(x))\n",
        "write.close() # close the writer when you’re done using it\n",
        "write.flush()\n",
        "\n",
        "\"\"\"\n",
        "Go to terminal, run:\n",
        "$ python3 [yourprogram].py\n",
        "$ tensorboard --logdir=\"./graphs\" --port 6006\n",
        "Then open your browser and go to: http://localhost:6006/\n",
        "\"\"\"\n",
        "# %load_ext tensorboard\n",
        "# %tensorboard --logdir ./graphs/1"
      ],
      "execution_count": 18,
      "outputs": [
        {
          "output_type": "stream",
          "text": [
            "5\n"
          ],
          "name": "stdout"
        },
        {
          "output_type": "stream",
          "text": [
            "/usr/local/lib/python3.6/dist-packages/tensorflow/python/summary/writer/writer.py:386: UserWarning: Attempting to use a closed FileWriter. The operation will be a noop unless the FileWriter is explicitly reopened.\n",
            "  warnings.warn(\"Attempting to use a closed FileWriter. \"\n"
          ],
          "name": "stderr"
        },
        {
          "output_type": "execute_result",
          "data": {
            "text/plain": [
              "'\\nGo to terminal, run:\\n$ python3 [yourprogram].py\\n$ tensorboard --logdir=\"./graphs\" --port 6006\\nThen open your browser and go to: http://localhost:6006/\\n'"
            ]
          },
          "metadata": {
            "tags": []
          },
          "execution_count": 18
        }
      ]
    },
    {
      "cell_type": "markdown",
      "metadata": {
        "id": "6c_wrGmwjfGs",
        "colab_type": "text"
      },
      "source": [
        "## TF Placeholders\n"
      ]
    },
    {
      "cell_type": "code",
      "metadata": {
        "id": "jtAk_gBiECBA",
        "colab_type": "code",
        "outputId": "1f7d4e8a-5045-4dc5-b703-001eaa8312f8",
        "colab": {
          "base_uri": "https://localhost:8080/",
          "height": 35
        }
      },
      "source": [
        "\"\"\" Placeholder and feed_dict example \"\"\"\n",
        "\n",
        "X = tf.placeholder(tf.float16, shape=(1,) )\n",
        "b = tf.constant([1], dtype=tf.float16)\n",
        "y_hat = tf.add(X, b)\n",
        "\n",
        "with tf.Session() as sess:\n",
        "  pred = sess.run(y_hat, feed_dict={X: [2]} )\n",
        "  print('4. y_hat for input x= [2] is ',pred)"
      ],
      "execution_count": 6,
      "outputs": [
        {
          "output_type": "stream",
          "text": [
            "4. y_hat for input x= [2] is  [3.]\n"
          ],
          "name": "stdout"
        }
      ]
    },
    {
      "cell_type": "markdown",
      "metadata": {
        "id": "Fjfy5QRmlJlI",
        "colab_type": "text"
      },
      "source": [
        "## TF Arithematic operations"
      ]
    },
    {
      "cell_type": "code",
      "metadata": {
        "id": "1O0SQXNZafCT",
        "colab_type": "code",
        "outputId": "82e4a64c-a2ff-455f-bded-de2a2264cad3",
        "colab": {
          "base_uri": "https://localhost:8080/",
          "height": 284
        }
      },
      "source": [
        "b = tf.constant([ [0, 1],\\\n",
        "                  [2, 3] ], name='b')\n",
        "a = tf.constant(  [1, 2], name='a') # i.e [ [0/1, 1/2], [2/1, 3/2] ]\n",
        "\n",
        "with tf.Session() as sess:\n",
        "    print(sess.run(tf.div(b, a)))       # [ [0,0]   ,  [2,1]]\n",
        "    print(sess.run(tf.divide(b, a)))    # [ [0.,0.5] ,  [2.,1.5]]\n",
        "    print(sess.run(tf.truediv(b, a)))   # [ [0.,0.5] ,  [2.,1.5]]\n",
        "    print(sess.run(tf.floordiv(b, a)))  # [ [0,0] ,  [2,1]]\n",
        "    # print(sess.run(tf.realdiv(b, a))) \n",
        "    print(sess.run(tf.truncatediv(b, a))) # [ [0,0] ,  [2,1]]\n",
        "    print(sess.run(tf.floor_div(b, a)))   # [ [0,0] ,  [2,1]]\n"
      ],
      "execution_count": 7,
      "outputs": [
        {
          "output_type": "stream",
          "text": [
            "WARNING:tensorflow:From <ipython-input-7-480c23287e02>:5: div (from tensorflow.python.ops.math_ops) is deprecated and will be removed in a future version.\n",
            "Instructions for updating:\n",
            "Deprecated in favor of operator or tf.math.divide.\n",
            "[[0 0]\n",
            " [2 1]]\n",
            "[[0.  0.5]\n",
            " [2.  1.5]]\n",
            "[[0.  0.5]\n",
            " [2.  1.5]]\n",
            "[[0 0]\n",
            " [2 1]]\n",
            "[[0 0]\n",
            " [2 1]]\n",
            "[[0 0]\n",
            " [2 1]]\n"
          ],
          "name": "stdout"
        }
      ]
    },
    {
      "cell_type": "markdown",
      "metadata": {
        "id": "zVCoX6ojlWCq",
        "colab_type": "text"
      },
      "source": [
        "## TF CrossProduct / Dot product operation\n",
        "1. Cross Product : Cross Product of two vector is always a vector. \n",
        "2. Dot Product of a two vector is always a scalar."
      ]
    },
    {
      "cell_type": "code",
      "metadata": {
        "id": "LVA6kej8ai93",
        "colab_type": "code",
        "outputId": "4ad1a2ae-b08e-4c68-8bb6-1b69d8e0e454",
        "colab": {
          "base_uri": "https://localhost:8080/",
          "height": 88
        }
      },
      "source": [
        "a = tf.constant([10, 20], name='a')\n",
        "b = tf.constant([2, 3], name='b')\n",
        "\n",
        "with tf.Session() as sess:\n",
        "    print(sess.run(tf.multiply(a, b)))             # [20, 60]\n",
        "    print(sess.run(tf.tensordot(a, b, axes=1)))    # = [10 20] [2     = 10*2 +20*3 = 80\n",
        "                                                   #            3]\n",
        "    print(sess.run(tf.tensordot(a, b, axes=0)))    # = [ 10   * [2 3]  = [ [20 30]\n",
        "                                                   #     20 ]              [40 60] ]"
      ],
      "execution_count": 8,
      "outputs": [
        {
          "output_type": "stream",
          "text": [
            "[20 60]\n",
            "80\n",
            "[[20 30]\n",
            " [40 60]]\n"
          ],
          "name": "stdout"
        }
      ]
    },
    {
      "cell_type": "markdown",
      "metadata": {
        "id": "M48B8Olflxzu",
        "colab_type": "text"
      },
      "source": [
        "## TF Zero / One Matrix"
      ]
    },
    {
      "cell_type": "code",
      "metadata": {
        "id": "ebFjI4X7amvY",
        "colab_type": "code",
        "outputId": "684f3ede-d449-4e1b-907c-e2212342806d",
        "colab": {
          "base_uri": "https://localhost:8080/",
          "height": 70
        }
      },
      "source": [
        "z = tf.zeros(5, tf.float16)\n",
        "z_l = tf.zeros_like( [1,2,3] ) # create zero tensor  with shape equivalent to the given tensor\n",
        "o = tf.ones(5, tf.float16)\n",
        "\n",
        "with tf.Session() as sess:\n",
        "  print(sess.run([z, z_l, o]))\n",
        "  print(sess.run(o))\n",
        "  print(sess.run(o) + [2,2,2,2,2])\n"
      ],
      "execution_count": 9,
      "outputs": [
        {
          "output_type": "stream",
          "text": [
            "[array([0., 0., 0., 0., 0.], dtype=float16), array([0, 0, 0], dtype=int32), array([1., 1., 1., 1., 1.], dtype=float16)]\n",
            "[1. 1. 1. 1. 1.]\n",
            "[3. 3. 3. 3. 3.]\n"
          ],
          "name": "stdout"
        }
      ]
    },
    {
      "cell_type": "markdown",
      "metadata": {
        "id": "Bu9wVO1Ql8wC",
        "colab_type": "text"
      },
      "source": [
        "# TF Data Distributions/ Range/  Shuffle :\n",
        "1. When initialising the random  weights, always choose truncated_normal because it creates value that is  not more than 2 sdaway from its mean."
      ]
    },
    {
      "cell_type": "code",
      "metadata": {
        "id": "aCYlpkiNaqC3",
        "colab_type": "code",
        "outputId": "39be37ef-242b-4082-9a77-be6f09e41f9a",
        "colab": {
          "base_uri": "https://localhost:8080/",
          "height": 355
        }
      },
      "source": [
        "#  1 to 100 evenly spaced numbers\n",
        "nums = tf.lin_space(1.0 ,100.0 ,100,name=\"1_to_100_evenly_spaced_floats\")\n",
        "ints = tf.range(1,20, 1, name=\"1_to_20_step_1_ints\")\n",
        "\n",
        "norm = tf.random_normal( shape=[1,10], mean=0.0, stddev=1.0)\n",
        "norm_trunc = tf.truncated_normal(shape=[1,10], mean=0.0, stddev=1.0) # USED GENERALLY because doesn’t create any values more than two standard deviations away from its mean\n",
        "unif = tf.random_uniform(shape=[1,5], minval=0, maxval=5)          #\n",
        "shuf = tf.random_shuffle([[1,1] , [2,1] , [3,1] ])                      # [[1 1] [3 1] [2 1]]\n",
        "shuf_1d = tf.random_shuffle([1,2,3])                      # [3,2,1]\n",
        "#tf.random_crop\n",
        "cat = tf.random.categorical([[0.25, 0.25,0.25,0.25]], 4)   # 4 classes  randomly selected [[0, 0, 2, 3]]\n",
        "#tf.random_gamma\n",
        "\n",
        "with tf.Session() as sess:\n",
        "  print(sess.run(nums) )\n",
        "  print(sess.run(ints) )\n",
        "  print(sess.run(norm) )\n",
        "  print(sess.run(norm_trunc))\n",
        "  print(sess.run(unif))\n",
        "  print(sess.run(shuf))\n",
        "  print(sess.run(shuf_1d))\n",
        "  print(sess.run(cat))"
      ],
      "execution_count": 10,
      "outputs": [
        {
          "output_type": "stream",
          "text": [
            "[  1.   2.   3.   4.   5.   6.   7.   8.   9.  10.  11.  12.  13.  14.\n",
            "  15.  16.  17.  18.  19.  20.  21.  22.  23.  24.  25.  26.  27.  28.\n",
            "  29.  30.  31.  32.  33.  34.  35.  36.  37.  38.  39.  40.  41.  42.\n",
            "  43.  44.  45.  46.  47.  48.  49.  50.  51.  52.  53.  54.  55.  56.\n",
            "  57.  58.  59.  60.  61.  62.  63.  64.  65.  66.  67.  68.  69.  70.\n",
            "  71.  72.  73.  74.  75.  76.  77.  78.  79.  80.  81.  82.  83.  84.\n",
            "  85.  86.  87.  88.  89.  90.  91.  92.  93.  94.  95.  96.  97.  98.\n",
            "  99. 100.]\n",
            "[ 1  2  3  4  5  6  7  8  9 10 11 12 13 14 15 16 17 18 19]\n",
            "[[-1.8296789   0.3312855   0.04222503 -0.39106786 -0.07118341 -0.1664562\n",
            "   0.5545502  -1.3323288   0.4668806   0.5413239 ]]\n",
            "[[ 1.7089756  -1.0712708  -0.28674734 -1.7274494   0.10814511 -0.736077\n",
            "   0.655966   -0.34362504  0.19029415  1.0165874 ]]\n",
            "[[3.9851677  4.0052323  0.9594399  0.09485364 0.91287196]]\n",
            "[[2 1]\n",
            " [3 1]\n",
            " [1 1]]\n",
            "[3 2 1]\n",
            "[[1 2 0 1]]\n"
          ],
          "name": "stdout"
        }
      ]
    },
    {
      "cell_type": "markdown",
      "metadata": {
        "id": "kS8Hdf7imj7S",
        "colab_type": "text"
      },
      "source": [
        "## TF Constants : Beware of using them\n",
        "1.  We should be careful to use the TF constants, because they are  used/ embedded in the graph directly as a part of a graph. Hence if  the constant is larger that 2 GB then it exceeds the Graph limit and hence would generate error. Plus even if you constant is less than 2 GB during the graph computation, they can be copied over multiple times and hence exceed the 2 GB limit due to its multiple use and cause graph computation to fail.\n",
        "\n",
        "Solution: Instead you can use the constant as a variable to overcome this problem. "
      ]
    },
    {
      "cell_type": "code",
      "metadata": {
        "id": "N4_p_cUFe0r7",
        "colab_type": "code",
        "colab": {}
      },
      "source": [
        "### DO NOT USE CONSTANTS, Because they are used in the graph directly and hence  makes loading graph expensive. USE VARIABLES  instead\n",
        "const_1 = tf.get_variable(name='constant_1', initializer=tf.constant(2) )"
      ],
      "execution_count": 0,
      "outputs": []
    },
    {
      "cell_type": "markdown",
      "metadata": {
        "id": "dNGi96sdp2z9",
        "colab_type": "text"
      },
      "source": [
        "## tf.get_variable vs tf.Variable: Which one to use ?\n",
        "- Always use tf.get_variable as far as possible because tf.Variable is a class and contains a lot of extra operations , hence more overhead and more memory and other resource consumption. Hence use tf.get_variables wherever possible"
      ]
    },
    {
      "cell_type": "code",
      "metadata": {
        "id": "ZUMG8TRNTD2B",
        "colab_type": "code",
        "outputId": "b3f8a3ef-1954-4767-d539-fa1af6543ae8",
        "colab": {
          "base_uri": "https://localhost:8080/",
          "height": 70
        }
      },
      "source": [
        "\"\"\" Variable examples : tf.Variable(2, name='scalar')  VS tf.get_variable('scalar', initializer=tf.constant(2))\n",
        "    Use tf.get_variable because tf.Variable is a class with  lot of  extra operations which  then consumes more memory\n",
        "\"\"\"\n",
        "const = tf.get_variable(name='constant', initializer=tf.constant(2) )\n",
        "weights = tf.get_variable(name=\"weights\", shape=(2, 5), initializer=tf.truncated_normal_initializer(mean=0.0, stddev=1.0))\n",
        "\n",
        "with tf.Session() as sess:\n",
        "  sess.run(tf.global_variables_initializer())\n",
        "  print(weights.eval())\n",
        "  print('')\n",
        "\n"
      ],
      "execution_count": 12,
      "outputs": [
        {
          "output_type": "stream",
          "text": [
            "[[ 0.4095752  -0.69069004 -0.8436467  -0.24726255 -0.891231  ]\n",
            " [ 0.9511935   0.12729074 -0.88585967  1.0111473  -0.18794669]]\n",
            "\n"
          ],
          "name": "stdout"
        }
      ]
    },
    {
      "cell_type": "markdown",
      "metadata": {
        "id": "jcB1R3Zpq1h5",
        "colab_type": "text"
      },
      "source": [
        "## TF variable : Reassign value"
      ]
    },
    {
      "cell_type": "code",
      "metadata": {
        "id": "kpzCxo9nV-8J",
        "colab_type": "code",
        "outputId": "35ff1eb0-4b04-4dd1-eb2f-f6bf76efbb81",
        "colab": {
          "base_uri": "https://localhost:8080/",
          "height": 141
        }
      },
      "source": [
        "a = tf.get_variable('a_1', initializer=tf.constant(2) )\n",
        "a_times_two = a.assign(a * 2)\n",
        "\n",
        "with tf.Session() as sess:\n",
        "  sess.run(tf.global_variables_initializer())\n",
        "  print(sess.run(a))   # >> 4 \n",
        "  print(sess.run(a_times_two ))   # >> 4 \n",
        "  print(sess.run(a_times_two ))   # >> 8\n",
        "  print(sess.run(a_times_two ))   # >> 16\n",
        "\n",
        "\n",
        "# Add / Reassign variables from within scope\n",
        "a = tf.get_variable('a_3', initializer=tf.constant(2) )\n",
        "with tf.Session() as sess:\n",
        "    sess.run(tf.global_variables_initializer())\n",
        "    print(sess.run(a))   # >> 4 \n",
        "    print(sess.run(a.assign_add(2)) )   # >> 4 \n",
        "    print(sess.run(a.assign_sub(2) ))   # >> 2\n",
        "    "
      ],
      "execution_count": 13,
      "outputs": [
        {
          "output_type": "stream",
          "text": [
            "2\n",
            "4\n",
            "8\n",
            "16\n",
            "2\n",
            "4\n",
            "2\n"
          ],
          "name": "stdout"
        }
      ]
    },
    {
      "cell_type": "markdown",
      "metadata": {
        "id": "Ea5p4Hp5rqOt",
        "colab_type": "text"
      },
      "source": [
        "## TF Variable Scoping @ Session"
      ]
    },
    {
      "cell_type": "code",
      "metadata": {
        "id": "wpNj80P1cauZ",
        "colab_type": "code",
        "outputId": "3b3f89db-9460-4c0c-ce48-b4170f410374",
        "colab": {
          "base_uri": "https://localhost:8080/",
          "height": 88
        }
      },
      "source": [
        "## Variable : Each session has its own copy\n",
        "\n",
        "a = tf.get_variable('a_4', initializer=tf.constant(2))\n",
        "\n",
        "sess1 = tf.Session()\n",
        "sess2 = tf.Session()\n",
        "\n",
        "sess1.run(tf.global_variables_initializer())\n",
        "sess2.run(tf.global_variables_initializer())\n",
        "\n",
        "print('SESSION 1: Adding 20 to a', sess1.run(a.assign_add(20))) # >> 22\n",
        "print('SESSION 2: Adding 2 to a',sess2.run(a.assign_add(2))) # >> 4\n",
        "\n",
        "print('SESSION 1: Adding 20 to a', sess1.run(a.assign_add(20))) # >> 42\n",
        "print('SESSION 2: Adding 2 to a',sess2.run(a.assign_add(2))) # >> 6\n",
        "\n",
        "sess1.close()\n",
        "sess2.close()"
      ],
      "execution_count": 14,
      "outputs": [
        {
          "output_type": "stream",
          "text": [
            "SESSION 1: Adding 20 to a 22\n",
            "SESSION 2: Adding 2 to a 4\n",
            "SESSION 1: Adding 20 to a 42\n",
            "SESSION 2: Adding 2 to a 6\n"
          ],
          "name": "stdout"
        }
      ]
    },
    {
      "cell_type": "markdown",
      "metadata": {
        "id": "CR7RPDv2sKgW",
        "colab_type": "text"
      },
      "source": [
        "## TF Weight variable"
      ]
    },
    {
      "cell_type": "code",
      "metadata": {
        "id": "N63Ulj94emfC",
        "colab_type": "code",
        "colab": {}
      },
      "source": [
        "# W =tf.get_variable('weights1',  tf.truncated_normal( [700, 10] )  )\n"
      ],
      "execution_count": 0,
      "outputs": []
    },
    {
      "cell_type": "markdown",
      "metadata": {
        "id": "0QhHMyPjsai5",
        "colab_type": "text"
      },
      "source": [
        "## TF Normal Loading vs Lazy Loading  : 1 Add node vs 10 Add nodes created"
      ]
    },
    {
      "cell_type": "code",
      "metadata": {
        "id": "QnvZgf2j_-g6",
        "colab_type": "code",
        "colab": {}
      },
      "source": [
        "######################################## \n",
        "## NORMAL LOADING   \t\t\t      ##\n",
        "## print out a graph with 1 Add node  ## \n",
        "########################################\n",
        "\n",
        "x = tf.Variable(10, name='x')\n",
        "y = tf.Variable(20, name='y')\n",
        "z = tf.add(x, y)\n",
        "\n",
        "with tf.Session() as sess:\n",
        "\tsess.run(tf.global_variables_initializer())\n",
        "\twriter = tf.summary.FileWriter('graphs/normal_loading', sess.graph)\n",
        "\tfor _ in range(3):\n",
        "\t\tsess.run(z)\n",
        "\t# print(tf.get_default_graph().as_graph_def())\n",
        "\twriter.close()\n",
        "\n",
        "######################################## \n",
        "## LAZY LOADING   \t\t\t\t\t  ##\n",
        "## print out a graph with 10 Add nodes## \n",
        "########################################\n",
        "\n",
        "x = tf.Variable(10, name='x')\n",
        "y = tf.Variable(20, name='y')\n",
        "\n",
        "with tf.Session() as sess:\n",
        "\tsess.run(tf.global_variables_initializer())\n",
        "\twriter = tf.summary.FileWriter('graphs/lazy_loading', sess.graph)\n",
        "\tfor _ in range(3):\n",
        "\t\tsess.run(tf.add(x, y))\n",
        "\t# print(tf.get_default_graph().as_graph_def()) \n",
        "\twriter.close()"
      ],
      "execution_count": 0,
      "outputs": []
    }
  ]
}
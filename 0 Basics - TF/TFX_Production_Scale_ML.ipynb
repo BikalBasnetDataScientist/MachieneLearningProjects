{
  "nbformat": 4,
  "nbformat_minor": 0,
  "metadata": {
    "colab": {
      "name": "TFX : Production Scale ML.ipynb",
      "provenance": [],
      "collapsed_sections": [],
      "authorship_tag": "ABX9TyNdt+5aprM78Zb9U5m11SXJ",
      "include_colab_link": true
    },
    "kernelspec": {
      "name": "python3",
      "display_name": "Python 3"
    }
  },
  "cells": [
    {
      "cell_type": "markdown",
      "metadata": {
        "id": "view-in-github",
        "colab_type": "text"
      },
      "source": [
        "<a href=\"https://colab.research.google.com/github/beekal/MachieneLearningProjects/blob/master/0%20Basics%20-%20TF/TFX_Production_Scale_ML.ipynb\" target=\"_parent\"><img src=\"https://colab.research.google.com/assets/colab-badge.svg\" alt=\"Open In Colab\"/></a>"
      ]
    },
    {
      "cell_type": "markdown",
      "metadata": {
        "id": "QfiXx2p98rNY",
        "colab_type": "text"
      },
      "source": [
        "## TFX : Why ?\n",
        "  - Provides end to end research to prod level ML solution , including Model versioning.\n",
        "  - Bundles all the task into a package ranging from\n",
        "    - Reading a data\n",
        "    - Preprocessing\n",
        "    - Model building / validation\n",
        "    - Model Deployment\n",
        "    - Model Versioning with rollback feature\n",
        "\n",
        "If we do not use the TFX and a separate model independent preprocessing steps, then we really would not be able to rollback, in case preprocessing step changes with the model version updates.\n",
        "\n",
        "### TFX Components :\n",
        "A TFX consists of following components which we will discuss here\n",
        "  - ExampleGen : Read data into TFX pipeline\n",
        "  - StatisticsGen : Calculate exploratory Statistics about the data\n",
        "  - SchemaGen : Create a data schema based on the Statistics\n",
        "  - ExampleValidator: Analyse the data for abnormalities / inconsistencies\n",
        "  - Transform: Perform necessary transformation in the data\n",
        "  - Trainer : Trains the model\n",
        "  - Evaluator : Evaluate the model performance to determine its readiness for deployment/ discard\n",
        "  - Pusher : Deploys model to the production\n",
        "  ![alt text](https://www.tensorflow.org/tfx/guide/images/diag_all.png)\n",
        "\n",
        "## TF Libraries for the components:\n",
        "  - StatsticsGen / SchemaGen/ ExampleValidator: [(TFDV) Tensorflow Data Validation](https://www.tensorflow.org/tfx/guide/tfdv) to generate Statistics, inspect Schema, Analyse/ validate Data. Also used to calculate/ record drifts/ anamolies  to identify if a model needs a retraining.\n",
        "  - ExampleValidator: (TFMD) : TensorFlow MetaData provides/stores Schema metadata to aid in Validation. Contains Schema for Data, Summary Statistics of the data.\n",
        "  - Transform: [(TFT). Tensorflow Transform](https://www.tensorflow.org/tfx/guide/tft)\n",
        "  - Evaluator: (TFMA). TensorFlow Model Analysis to evaluate models. Allows eval over large amount of data in a distributed way.\n",
        "  - MLMD: [ML MetaData](https://www.tensorflow.org/tfx/guide/mlmd) stores all relevant ML information other than data statistics including workflow.\n",
        "  - Pusher : [SavedModel](https://www.tensorflow.org/versions/r1.15/api_docs/python/tf/saved_model) + [TF Serving](https://www.tensorflow.org/tfx/tutorials/serving/rest_simple). SavedModel is a universal, portable and recommended serialization for TF Model deployment across any mobile, JS app or any other infrastructure . TFServing serilises the TF model as SavedModel and deploys it.\n",
        "\n"
      ]
    },
    {
      "cell_type": "markdown",
      "metadata": {
        "id": "4J7WZeAJw7qX",
        "colab_type": "text"
      },
      "source": [
        "## Visualisation :\n",
        "We can inspect the data visually using TFDV library using\n",
        "  - tfdv.load_statistics()\n",
        "  - tfdv.visualize_statistics()\n",
        "\n",
        "## Evaluator:\n",
        "\n",
        "## [TFX Guidelines](https://www.tensorflow.org/tfx/guide/train):\n",
        "If using TFX for developing pipelines, then \n",
        "- Model's input layes must consume from the SavedModel\n",
        "- Transform must be included in the model, so that the transformation can be exported along with the model using SavedModel\n",
        "- The model must be saved as both SavedModel (Used by TF Serving) and EvalSavedModel(used by TF Model Analyis for evaluation)\n",
        "\n",
        "REF: "
      ]
    },
    {
      "cell_type": "markdown",
      "metadata": {
        "id": "-ek_xlXs2eoM",
        "colab_type": "text"
      },
      "source": [
        "## Additional Dependency :\n",
        "  - Apache Beam :Develop in single node, run in multi-node \n",
        "\n",
        "  We want our ML to run parallely for  greater speed while also being scalable. E.g we would likely develop the Ml model  on a single computer, however when we want it on a prod, we would like to run it on a multi-node cluster environment to serve a lot of parallel requests  with low latency.  Apache  Beam provides this abstraction i.e whatever we research / develop in a single nodeis easily scalable  to multi-node cluster, without any extra work/effort or code modification.\n",
        "  - Apache Airflow / Kubeflow : Deploy, Scale and manage ML application automatically. \n",
        "  \n",
        "  Some example Cases Airflow/ Kubeflow handles\n",
        "    - Define 100 nodes/ input file path / checkpoint path / src code github path / \n",
        "    - Install required libraries in 100 node clusters\n",
        "    - then Deploy ML model to all of them\n",
        "    - Receiving tremendous volume of request for ML model, scale them up..\n",
        "    - Terrible disaster 50 nodes have gone down, we need to bring another 50 uoo to compensate.\n",
        "    - Efficiently utilise CPU/ GPU and minismise cost\n",
        "    - Train your model  cheaply using the AWS spot instance ( i.e use lower cost spot if available )\n",
        "\n",
        "REF : https://docs.agilestacks.com/article/gkyq26pzmr-creating-an-ml-pipeline"
      ]
    },
    {
      "cell_type": "markdown",
      "metadata": {
        "id": "_5iM4CfSV1mE",
        "colab_type": "text"
      },
      "source": [
        "### TFX End to End\n",
        "- ExampleGen : Read data into TFX pipeline\n",
        "- StatisticsGen : Calculate exploratory Statistics about the data\n",
        "- SchemaGen : Create a data schema based on the Statistics\n",
        "-  ExampleValidator: Analyse the data for abnormalities / inconsistencies\n",
        "- Transform: Perform necessary transformation in the data\n",
        "- Trainer : Trains the model\n",
        "- Evaluator : Evaluate the model performance to determine its readiness for deployment/ discard\n",
        "- Pusher : Deploys model to the production alt text"
      ]
    },
    {
      "cell_type": "markdown",
      "metadata": {
        "id": "WTV-7LgEd0dF",
        "colab_type": "text"
      },
      "source": [
        "### Install Libraries"
      ]
    },
    {
      "cell_type": "code",
      "metadata": {
        "id": "n3uyg-RPd3QA",
        "colab_type": "code",
        "outputId": "390fe33f-feec-4329-e892-adcf1f93f640",
        "colab": {
          "base_uri": "https://localhost:8080/",
          "height": 124
        }
      },
      "source": [
        "!pip install -q pyarrow==0.15.1\n",
        "!pip install -q tfx-bsl==0.21.4\n",
        "!pip install -Uq apache_beam==2.20.0\n",
        "!pip install -q tensorflow==2.1.0\n",
        "!pip install -q tensorflow_data_validation==0.21.5\n",
        "\n",
        "\n",
        "# INSTALL LIBRARIES\n",
        "import pyarrow\n",
        "import tensorflow as tf\n",
        "import apache_beam as beam\n",
        "import apache_beam.io.iobase\n",
        "import tensorflow_data_validation as tfdv\n",
        "\n",
        "print(f'Pyarrow : ',pyarrow.__version__)\n",
        "print(f'Beam : ', beam.__version__)\n",
        "print(f'Tensorflow : ',tf.__version__)\n",
        "print(f'TFDV :', tfdv.version.__version__)\n",
        "\n",
        "## ExampleGen : Get Chicago Taxi Data from internet"
      ],
      "execution_count": 0,
      "outputs": [
        {
          "output_type": "stream",
          "text": [
            "\u001b[31mERROR: apache-beam 2.20.0 has requirement httplib2<=0.12.0,>=0.8, but you'll have httplib2 0.17.3 which is incompatible.\u001b[0m\n",
            "\u001b[31mERROR: google-api-python-client 1.7.12 has requirement httplib2<1dev,>=0.17.0, but you'll have httplib2 0.12.0 which is incompatible.\u001b[0m\n",
            "Pyarrow :  0.15.1\n",
            "Beam :  2.20.0\n",
            "Tensorflow :  2.1.0\n",
            "TFDV : 0.21.5\n"
          ],
          "name": "stdout"
        }
      ]
    },
    {
      "cell_type": "markdown",
      "metadata": {
        "id": "54fpUjk0qCRP",
        "colab_type": "text"
      },
      "source": [
        "###  ExampleGen : Read data into TFX Pipeline\n",
        "We will read the CSV  data into the TFX pipeline."
      ]
    },
    {
      "cell_type": "code",
      "metadata": {
        "id": "Q0ao80eZ3sKM",
        "colab_type": "code",
        "outputId": "db662c27-a503-47d3-a37f-06b96ed44ef0",
        "colab": {
          "base_uri": "https://localhost:8080/",
          "height": 586
        }
      },
      "source": [
        "import  os, tempfile, urllib, zipfile\n",
        "\n",
        "ROOT_DIR = tempfile.mkdtemp()\n",
        "OUTPUT_DIR = os.path.join(ROOT_DIR, 'output')\n",
        "\n",
        "def get_chicago_taxi_data():\n",
        "  \"\"\" Download, unzip and return Train, Eval, and Serving Data \"\"\"\n",
        "  zipfile_url, _ = urllib.request.urlretrieve('https://storage.googleapis.com/artifacts.tfx-oss-public.appspot.com/datasets/chicago_data.zip')\n",
        "  zipfile.ZipFile(zipfile_url).extractall(ROOT_DIR)\n",
        "\n",
        "  TRAIN_DATA = os.path.join(ROOT_DIR,'data', 'train', 'data.csv')\n",
        "  EVAL_DATA = os.path.join(ROOT_DIR,'data', 'eval', 'data.csv')\n",
        "  SERVING_DATA = os.path.join(ROOT_DIR,'data', 'serving', 'data.csv')\n",
        "  return TRAIN_DATA, EVAL_DATA, SERVING_DATA\n",
        "\n",
        "TRAIN_DATA, EVAL_DATA, SERVING_DATA = get_chicago_taxi_data()\n",
        "\n",
        "print('Inspecting Train, eval  and serving Data Files')\n",
        "!ls -R -all {os.path.join(ROOT_DIR)}"
      ],
      "execution_count": 0,
      "outputs": [
        {
          "output_type": "stream",
          "text": [
            "Inspecting Train, eval  and serving Data Files\n",
            "/tmp/tmpme9ybo7h:\n",
            "total 12\n",
            "drwx------ 3 root root 4096 May 14 03:43 .\n",
            "drwxrwxrwt 1 root root 4096 May 14 03:43 ..\n",
            "drwxr-xr-x 5 root root 4096 May 14 03:43 data\n",
            "\n",
            "/tmp/tmpme9ybo7h/data:\n",
            "total 20\n",
            "drwxr-xr-x 5 root root 4096 May 14 03:43 .\n",
            "drwx------ 3 root root 4096 May 14 03:43 ..\n",
            "drwxr-xr-x 2 root root 4096 May 14 03:43 eval\n",
            "drwxr-xr-x 2 root root 4096 May 14 03:43 serving\n",
            "drwxr-xr-x 2 root root 4096 May 14 03:43 train\n",
            "\n",
            "/tmp/tmpme9ybo7h/data/eval:\n",
            "total 636\n",
            "drwxr-xr-x 2 root root   4096 May 14 03:43 .\n",
            "drwxr-xr-x 5 root root   4096 May 14 03:43 ..\n",
            "-rw-r--r-- 1 root root 641083 May 14 03:43 data.csv\n",
            "\n",
            "/tmp/tmpme9ybo7h/data/serving:\n",
            "total 24\n",
            "drwxr-xr-x 2 root root  4096 May 14 03:43 .\n",
            "drwxr-xr-x 5 root root  4096 May 14 03:43 ..\n",
            "-rw-r--r-- 1 root root 12727 May 14 03:43 data.csv\n",
            "\n",
            "/tmp/tmpme9ybo7h/data/train:\n",
            "total 1260\n",
            "drwxr-xr-x 2 root root    4096 May 14 03:43 .\n",
            "drwxr-xr-x 5 root root    4096 May 14 03:43 ..\n",
            "-rw-r--r-- 1 root root 1281883 May 14 03:43 data.csv\n"
          ],
          "name": "stdout"
        }
      ]
    },
    {
      "cell_type": "markdown",
      "metadata": {
        "id": "B2wsEIFh_Btk",
        "colab_type": "text"
      },
      "source": [
        "## StatisticsGen : Perform Exploratory Analysis\n",
        "- For large dataset, it uses Apache Beam to do parallel processing and scale."
      ]
    },
    {
      "cell_type": "code",
      "metadata": {
        "id": "mDNH3Mned-HQ",
        "colab_type": "code",
        "outputId": "f2a23cda-4248-44c5-838d-9c3ac984fa15",
        "colab": {
          "base_uri": "https://localhost:8080/",
          "height": 250
        }
      },
      "source": [
        "train_statistics = tfdv.generate_statistics_from_csv(data_location=TRAIN_DATA)"
      ],
      "execution_count": 0,
      "outputs": [
        {
          "output_type": "stream",
          "text": [
            "WARNING:apache_beam.runners.interactive.interactive_environment:Dependencies required for Interactive Beam PCollection visualization are not available, please use: `pip install apache-beam[interactive]` to install necessary dependencies to enable all data visualization features.\n",
            "/usr/local/lib/python3.6/dist-packages/tensorflow_data_validation/arrow/arrow_util.py:239: FutureWarning: Calling .data on ChunkedArray is provided for compatibility after Column was removed, simply drop this attribute\n",
            "  types.FeaturePath([column_name]), column.data.chunk(0), weights):\n",
            "WARNING:apache_beam.io.tfrecordio:Couldn't find python-snappy so the implementation of _TFRecordUtil._masked_crc32c is not as fast as it could be.\n"
          ],
          "name": "stderr"
        },
        {
          "output_type": "stream",
          "text": [
            "WARNING:tensorflow:From /usr/local/lib/python3.6/dist-packages/tensorflow_data_validation/utils/stats_gen_lib.py:366: tf_record_iterator (from tensorflow.python.lib.io.tf_record) is deprecated and will be removed in a future version.\n",
            "Instructions for updating:\n",
            "Use eager execution and: \n",
            "`tf.data.TFRecordDataset(path)`\n"
          ],
          "name": "stdout"
        },
        {
          "output_type": "stream",
          "text": [
            "WARNING:tensorflow:From /usr/local/lib/python3.6/dist-packages/tensorflow_data_validation/utils/stats_gen_lib.py:366: tf_record_iterator (from tensorflow.python.lib.io.tf_record) is deprecated and will be removed in a future version.\n",
            "Instructions for updating:\n",
            "Use eager execution and: \n",
            "`tf.data.TFRecordDataset(path)`\n"
          ],
          "name": "stderr"
        }
      ]
    },
    {
      "cell_type": "markdown",
      "metadata": {
        "id": "0GYbY6pRSw8D",
        "colab_type": "text"
      },
      "source": [
        "-  Company column is missing values  for 34% of rows/ data.\n",
        "    - Create dummy variables.\n",
        "- Payment_type : create dummy variable\n",
        "\n",
        "- Company column : Normalisation necessary\n",
        "-  0.17% fare is zero which seems odd as to \"How can the fares be zero?\"\n",
        "-  trip_start_day should not contain float value. Confirm\n",
        "- trip_start_timestamp wrong format\n",
        "- dropoff_latitude/ longitude missing values\n",
        "- trip_miles : 27% zero. How can the trip mile be zero ?\n",
        "-\n"
      ]
    },
    {
      "cell_type": "code",
      "metadata": {
        "id": "PNF-fSeYjQKb",
        "colab_type": "code",
        "outputId": "e164eb68-21c5-4ef6-a180-a7c314bb27c8",
        "colab": {
          "base_uri": "https://localhost:8080/",
          "height": 1000
        }
      },
      "source": [
        "tfdv.visualize_statistics(train_statistics)"
      ],
      "execution_count": 0,
      "outputs": [
        {
          "output_type": "display_data",
          "data": {
            "text/html": [
              "<iframe id='facets-iframe' width=\"100%\" height=\"500px\"></iframe>\n",
              "        <script>\n",
              "        facets_iframe = document.getElementById('facets-iframe');\n",
              "        facets_html = '<script src=\"https://cdnjs.cloudflare.com/ajax/libs/webcomponentsjs/1.3.3/webcomponents-lite.js\"><\\/script><link rel=\"import\" href=\"https://raw.githubusercontent.com/PAIR-code/facets/master/facets-dist/facets-jupyter.html\"><facets-overview proto-input=\"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\"></facets-overview>';\n",
              "        facets_iframe.srcdoc = facets_html;\n",
              "         facets_iframe.id = \"\";\n",
              "         setTimeout(() => {\n",
              "           facets_iframe.setAttribute('height', facets_iframe.contentWindow.document.body.offsetHeight + 'px')\n",
              "         }, 1500)\n",
              "         </script>"
            ],
            "text/plain": [
              "<IPython.core.display.HTML object>"
            ]
          },
          "metadata": {
            "tags": []
          }
        }
      ]
    },
    {
      "cell_type": "markdown",
      "metadata": {
        "id": "-MxGMaiWSEY7",
        "colab_type": "text"
      },
      "source": [
        "## Observation:\n",
        "  - pickup_census_tract : Missing all values. FIX: Remove column\n",
        "  - "
      ]
    },
    {
      "cell_type": "code",
      "metadata": {
        "id": "7BBNcGBDj3-V",
        "colab_type": "code",
        "colab": {}
      },
      "source": [
        ""
      ],
      "execution_count": 0,
      "outputs": []
    },
    {
      "cell_type": "code",
      "metadata": {
        "id": "SsmapR_Fj-PZ",
        "colab_type": "code",
        "colab": {}
      },
      "source": [
        ""
      ],
      "execution_count": 0,
      "outputs": []
    }
  ]
}
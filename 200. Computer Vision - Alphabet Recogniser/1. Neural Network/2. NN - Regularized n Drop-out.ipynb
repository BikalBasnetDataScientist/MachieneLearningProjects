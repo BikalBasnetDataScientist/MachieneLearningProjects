{
 "cells": [
  {
   "cell_type": "markdown",
   "metadata": {
    "colab_type": "text",
    "id": "kR-4eNdK6lYS"
   },
   "source": [
    "Deep Learning\n",
    "=============\n",
    "\n",
    "Assignment 3\n",
    "------------\n",
    "\n",
    "Previously in `2_fullyconnected.ipynb`, you trained a logistic regression and a neural network model.\n",
    "\n",
    "The goal of this assignment is to explore regularization techniques."
   ]
  },
  {
   "cell_type": "code",
   "execution_count": 3,
   "metadata": {
    "cellView": "both",
    "colab": {
     "autoexec": {
      "startup": false,
      "wait_interval": 0
     }
    },
    "colab_type": "code",
    "collapsed": true,
    "id": "JLpLa8Jt7Vu4"
   },
   "outputs": [],
   "source": [
    "# These are all the modules we'll be using later. Make sure you can import them\n",
    "# before proceeding further.\n",
    "from __future__ import print_function\n",
    "import numpy as np\n",
    "import tensorflow as tf\n",
    "from six.moves import cPickle as pickle\n",
    "import datetime"
   ]
  },
  {
   "cell_type": "markdown",
   "metadata": {
    "colab_type": "text",
    "id": "1HrCK6e17WzV"
   },
   "source": [
    "First reload the data we generated in _notmist.ipynb_."
   ]
  },
  {
   "cell_type": "code",
   "execution_count": 4,
   "metadata": {
    "cellView": "both",
    "colab": {
     "autoexec": {
      "startup": false,
      "wait_interval": 0
     },
     "output_extras": [
      {
       "item_id": 1
      }
     ]
    },
    "colab_type": "code",
    "collapsed": false,
    "executionInfo": {
     "elapsed": 11777,
     "status": "ok",
     "timestamp": 1449849322348,
     "user": {
      "color": "",
      "displayName": "",
      "isAnonymous": false,
      "isMe": true,
      "permissionId": "",
      "photoUrl": "",
      "sessionId": "0",
      "userId": ""
     },
     "user_tz": 480
    },
    "id": "y3-cj1bpmuxc",
    "outputId": "e03576f1-ebbe-4838-c388-f1777bcc9873"
   },
   "outputs": [
    {
     "name": "stdout",
     "output_type": "stream",
     "text": [
      "Training set (200000, 28, 28) (200000,)\n",
      "Validation set (10000, 28, 28) (10000,)\n",
      "Test set (10000, 28, 28) (10000,)\n"
     ]
    }
   ],
   "source": [
    "pickle_file = 'notMNIST.pickle'\n",
    "\n",
    "with open(pickle_file, 'rb') as f:\n",
    "  save = pickle.load(f)\n",
    "  train_dataset = save['train_dataset']\n",
    "  train_labels = save['train_labels']\n",
    "  valid_dataset = save['valid_dataset']\n",
    "  valid_labels = save['valid_labels']\n",
    "  test_dataset = save['test_dataset']\n",
    "  test_labels = save['test_labels']\n",
    "  del save  # hint to help gc free up memory\n",
    "  print('Training set', train_dataset.shape, train_labels.shape)\n",
    "  print('Validation set', valid_dataset.shape, valid_labels.shape)\n",
    "  print('Test set', test_dataset.shape, test_labels.shape)"
   ]
  },
  {
   "cell_type": "markdown",
   "metadata": {
    "colab_type": "text",
    "id": "L7aHrm6nGDMB"
   },
   "source": [
    "Reformat into a shape that's more adapted to the models we're going to train:\n",
    "- data as a flat matrix,\n",
    "- labels as float 1-hot encodings."
   ]
  },
  {
   "cell_type": "code",
   "execution_count": 5,
   "metadata": {
    "cellView": "both",
    "colab": {
     "autoexec": {
      "startup": false,
      "wait_interval": 0
     }
    },
    "colab_type": "code",
    "collapsed": true,
    "id": "RajPLaL_ZW6w"
   },
   "outputs": [],
   "source": [
    "def accuracy(predictions, labels):\n",
    "  return (100.0 * np.sum(np.argmax(predictions, 1) == np.argmax(labels, 1))\n",
    "          / predictions.shape[0])\n"
   ]
  },
  {
   "cell_type": "code",
   "execution_count": 6,
   "metadata": {
    "collapsed": false
   },
   "outputs": [
    {
     "name": "stdout",
     "output_type": "stream",
     "text": [
      "Training set (200000, 784) (200000, 10)\n",
      "Validation set (10000, 784) (10000, 10)\n",
      "Test set (10000, 784) (10000, 10)\n",
      "2017-02-02 04:52:12.074552\n"
     ]
    }
   ],
   "source": [
    "# Good beta value to start, as referenced by ritchieng.com\n",
    "beta = 0.01\n",
    "image_size = 28\n",
    "num_labels = 10\n",
    "\n",
    "def reformat(dataset, labels):\n",
    "  dataset = dataset.reshape((-1, image_size * image_size)).astype(np.float32)\n",
    "  # Map 0 to [1.0, 0.0, 0.0 ...], 1 to [0.0, 1.0, 0.0 ...]\n",
    "  labels = (np.arange(num_labels) == labels[:,None]).astype(np.float32)\n",
    "  return dataset, labels\n",
    "train_dataset, train_labels = reformat(train_dataset, train_labels)\n",
    "valid_dataset, valid_labels = reformat(valid_dataset, valid_labels)\n",
    "test_dataset, test_labels = reformat(test_dataset, test_labels)\n",
    "print('Training set', train_dataset.shape, train_labels.shape)\n",
    "print('Validation set', valid_dataset.shape, valid_labels.shape)\n",
    "print('Test set', test_dataset.shape, test_labels.shape)\n",
    "print(datetime.datetime.now())"
   ]
  },
  {
   "cell_type": "code",
   "execution_count": 7,
   "metadata": {
    "collapsed": false
   },
   "outputs": [],
   "source": [
    "assert( train_dataset.shape[1] != 10  )  , 'Traiin data shape must be [x, 10]'\n",
    "assert( valid_dataset.shape[1] != 10 )  , 'valid data shape must be [x, 10]'\n",
    "assert( test_dataset.shape[1] != 10 )  , 'Test data shape must be [x, 10]'\n"
   ]
  },
  {
   "cell_type": "markdown",
   "metadata": {
    "colab_type": "text",
    "id": "sgLbUAQ1CW-1"
   },
   "source": [
    "---\n",
    "Problem 1\n",
    "---------\n",
    "\n",
    "Introduce and tune L2 regularization for both logistic and neural network models. Remember that L2 amounts to adding a penalty on the norm of the weights to the loss. In TensorFlow, you can compute the L2 loss for a tensor `t` using `nn.l2_loss(t)`. The right amount of regularization should improve your validation / test accuracy.\n",
    "\n",
    "---"
   ]
  },
  {
   "cell_type": "markdown",
   "metadata": {},
   "source": [
    "**Regularisation for Logistic Model :  Better to no regularisation : 88.8% @1m2sec  vs 82.1% @58sec**\n",
    "\n"
   ]
  },
  {
   "cell_type": "code",
   "execution_count": 81,
   "metadata": {
    "collapsed": false
   },
   "outputs": [
    {
     "name": "stdout",
     "output_type": "stream",
     "text": [
      "Simple Logistic REgression with Regularisation initialisation complete1\n"
     ]
    }
   ],
   "source": [
    "# With gradient descent training, even this much data is prohibitive.\n",
    "# Subset the training data for faster turnaround.\n",
    "train_subset = 10000\n",
    "\n",
    "graph = tf.Graph()\n",
    "with graph.as_default():\n",
    "\n",
    "  # Input data.\n",
    "  # Load the training, validation and test data into constants that are\n",
    "  # attached to the graph.\n",
    "  tf_train_dataset = tf.constant(train_dataset[:train_subset, :])\n",
    "  tf_train_labels = tf.constant(train_labels[:train_subset])\n",
    "  tf_valid_dataset = tf.constant(valid_dataset)\n",
    "  tf_test_dataset = tf.constant(test_dataset)\n",
    "  \n",
    "  # Variables.\n",
    "  # These are the parameters that we are going to be training. The weight\n",
    "  # matrix will be initialized using random values following a (truncated)\n",
    "  # normal distribution. The biases get initialized to zero.\n",
    "  weights = tf.Variable(\n",
    "    tf.truncated_normal([image_size * image_size, num_labels]))\n",
    "  biases = tf.Variable(tf.zeros([num_labels]))\n",
    "  \n",
    "  # Training computation.\n",
    "  # We multiply the inputs with the weight matrix, and add biases. We compute\n",
    "  # the softmax and cross-entropy (it's one operation in TensorFlow, because\n",
    "  # it's very common, and it can be optimized). We take the average of this\n",
    "  # cross-entropy across all training examples: that's our loss.\n",
    "  logits = tf.matmul(tf_train_dataset, weights) + biases\n",
    "  # loss function without regularisation\n",
    "  loss = tf.reduce_mean(\n",
    "    tf.nn.softmax_cross_entropy_with_logits(logits, tf_train_labels))\n",
    "    # Loss function with regularisation\n",
    "  regularisation_term = tf.nn.l2_loss(weights)\n",
    "  #loss = tf.reduce_mean(\n",
    "  #  tf.nn.softmax_cross_entropy_with_logits(logits, tf_train_labels)) + beta * regularisation_term\n",
    "  loss = tf.reduce_mean(\n",
    "    tf.nn.softmax_cross_entropy_with_logits(logits, tf_train_labels)) + beta * regularisation_term\n",
    "  \n",
    "  # Optimizer.\n",
    "  # We are going to find the minimum of this loss using gradient descent.\n",
    "  optimizer = tf.train.GradientDescentOptimizer(0.5).minimize(loss)\n",
    "  \n",
    "  # Predictions for the training, validation, and test data.\n",
    "  # These are not part of training, but merely here so that we can report\n",
    "  # accuracy figures as we train.\n",
    "  train_prediction = tf.nn.softmax(logits)\n",
    "  valid_prediction = tf.nn.softmax(\n",
    "    tf.matmul(tf_valid_dataset, weights) + biases)\n",
    "  test_prediction = tf.nn.softmax(tf.matmul(tf_test_dataset, weights) + biases)\n",
    "print('Simple Logistic REgression with Regularisation initialisation complete1')"
   ]
  },
  {
   "cell_type": "markdown",
   "metadata": {},
   "source": [
    "Run NOW!!"
   ]
  },
  {
   "cell_type": "code",
   "execution_count": 82,
   "metadata": {
    "collapsed": false
   },
   "outputs": [
    {
     "name": "stdout",
     "output_type": "stream",
     "text": [
      "Initialized\n",
      "Loss at step 0: 47.382645\n",
      "Training accuracy: 11.8%\n",
      "Validation accuracy: 14.2%\n",
      "Loss at step 100: 12.152847\n",
      "Training accuracy: 73.2%\n",
      "Validation accuracy: 72.3%\n",
      "Loss at step 200: 4.563519\n",
      "Training accuracy: 78.5%\n",
      "Validation accuracy: 76.8%\n",
      "Loss at step 300: 1.998346\n",
      "Training accuracy: 82.2%\n",
      "Validation accuracy: 79.8%\n",
      "Loss at step 400: 1.133048\n",
      "Training accuracy: 83.9%\n",
      "Validation accuracy: 81.3%\n",
      "Loss at step 500: 0.837161\n",
      "Training accuracy: 84.6%\n",
      "Validation accuracy: 81.8%\n",
      "Loss at step 600: 0.734502\n",
      "Training accuracy: 84.8%\n",
      "Validation accuracy: 82.0%\n",
      "Loss at step 700: 0.698494\n",
      "Training accuracy: 84.8%\n",
      "Validation accuracy: 82.1%\n",
      "Loss at step 800: 0.685753\n",
      "Training accuracy: 84.9%\n",
      "Validation accuracy: 82.1%\n",
      "Test accuracy: 88.8%\n",
      "Simple Logit regression with tensor graph run time  0:01:59.836733\n"
     ]
    }
   ],
   "source": [
    "import datetime\n",
    "num_steps = 801\n",
    "\n",
    "def accuracy(predictions, labels):\n",
    "  return (100.0 * np.sum(np.argmax(predictions, 1) == np.argmax(labels, 1))\n",
    "          / predictions.shape[0])\n",
    "\n",
    "start_run = datetime.datetime.now()\n",
    "with tf.Session(graph=graph) as session:\n",
    "  # This is a one-time operation which ensures the parameters get initialized as\n",
    "  # we described in the graph: random weights for the matrix, zeros for the\n",
    "  # biases. \n",
    "  #tf.global_variables_initializer().run() ## using old tensorflow hence switching to old variable intialisation approach \n",
    "  tf.initialize_all_variables().run()  \n",
    "  print('Initialized')\n",
    "  for step in range(num_steps):\n",
    "    # Run the computations. We tell .run() that we want to run the optimizer,\n",
    "    # and get the loss value and the training predictions returned as numpy\n",
    "    # arrays.\n",
    "    _, l, predictions = session.run([optimizer, loss, train_prediction])\n",
    "    if (step % 100 == 0):\n",
    "      print('Loss at step %d: %f' % (step, l))\n",
    "      print('Training accuracy: %.1f%%' % accuracy(\n",
    "        predictions, train_labels[:train_subset, :]))\n",
    "      # Calling .eval() on valid_prediction is basically like calling run(), but\n",
    "      # just to get that one numpy array. Note that it recomputes all its graph\n",
    "      # dependencies.\n",
    "      print('Validation accuracy: %.1f%%' % accuracy(\n",
    "        valid_prediction.eval(), valid_labels))\n",
    "  print('Test accuracy: %.1f%%' % accuracy(test_prediction.eval(), test_labels))\n",
    "print('Simple Logit regression with tensor graph run time ', datetime.datetime.now() - start_run)"
   ]
  },
  {
   "cell_type": "markdown",
   "metadata": {},
   "source": [
    "** Regularisation for SGD  Model  : Better  **     \n",
    "-----------------------------------------------\n",
    "** Regularised SGD vs SGD ::  88.6%@22s vs 86.9% @9s   **                 \n",
    "** Regularised SGD vs Regularised GD  ::  88.6%@22s vs 88.8% @1m2sec **                \n"
   ]
  },
  {
   "cell_type": "code",
   "execution_count": 4,
   "metadata": {
    "cellView": "both",
    "colab": {
     "autoexec": {
      "startup": false,
      "wait_interval": 0
     },
     "output_extras": [
      {
       "item_id": 1
      }
     ]
    },
    "colab_type": "code",
    "collapsed": false,
    "executionInfo": {
     "elapsed": 11728,
     "status": "ok",
     "timestamp": 1449849322356,
     "user": {
      "color": "",
      "displayName": "",
      "isAnonymous": false,
      "isMe": true,
      "permissionId": "",
      "photoUrl": "",
      "sessionId": "0",
      "userId": ""
     },
     "user_tz": 480
    },
    "id": "IRSyYiIIGIzS",
    "outputId": "3f8996ee-3574-4f44-c953-5c8a04636582"
   },
   "outputs": [],
   "source": [
    "image_size = 28\n",
    "num_labels = 10"
   ]
  },
  {
   "cell_type": "code",
   "execution_count": 84,
   "metadata": {
    "collapsed": false
   },
   "outputs": [
    {
     "name": "stdout",
     "output_type": "stream",
     "text": [
      "SGD Initialisation Complete 2017-01-17 21:58:34.324332\n"
     ]
    }
   ],
   "source": [
    "#def init_SGD():\n",
    "batch_size = 128\n",
    "\n",
    "graph = tf.Graph()\n",
    "with graph.as_default():\n",
    "\n",
    "  # Input data. For the training data, we use a placeholder that will be fed\n",
    "  # at run time with a training minibatch.\n",
    "  tf_train_dataset = tf.placeholder(tf.float32,\n",
    "                                    shape=(batch_size, image_size * image_size))\n",
    "  tf_train_labels = tf.placeholder(tf.float32, shape=(batch_size, num_labels))\n",
    "  tf_valid_dataset = tf.constant(valid_dataset)\n",
    "  tf_test_dataset = tf.constant(test_dataset)\n",
    "  \n",
    "  # Variables.\n",
    "  weights = tf.Variable(\n",
    "    tf.truncated_normal([image_size * image_size, num_labels]))\n",
    "  biases = tf.Variable(tf.zeros([num_labels]))\n",
    "  \n",
    "  # Training computation.\n",
    "  def loss_function_no_regularisation(logits, tf_train_labels):\n",
    "      return tf.reduce_mean(tf.nn.softmax_cross_entropy_with_logits(logits, tf_train_labels))\n",
    "  \n",
    "  def loss_function_with_regularisation(logits, tf_train_labels, weights,  beta):\n",
    "      regularisation_term = tf.nn.l2_loss(weights)\n",
    "      return loss_function_no_regularisation(logits, tf_train_labels) + beta * regularisation_term\n",
    "\n",
    "  logits = tf.matmul(tf_train_dataset, weights) + biases\n",
    "  # Loss function with regularisation\n",
    "  #loss = loss_function_no_regularisation(logits, tf_train_labels)\n",
    "  loss = loss_function_with_regularisation(logits, tf_train_labels, weights, beta)\n",
    "  \n",
    "  # Optimizer.\n",
    "  optimizer = tf.train.GradientDescentOptimizer(0.5).minimize(loss)\n",
    "  \n",
    "  # Predictions for the training, validation, and test data.\n",
    "  train_prediction = tf.nn.softmax(logits)\n",
    "  valid_prediction = tf.nn.softmax(\n",
    "    tf.matmul(tf_valid_dataset, weights) + biases)\n",
    "  test_prediction = tf.nn.softmax(tf.matmul(tf_test_dataset, weights) + biases)\n",
    "print('SGD Initialisation Complete', datetime.datetime.now() )"
   ]
  },
  {
   "cell_type": "markdown",
   "metadata": {},
   "source": [
    "**Run SGD with Regularisation NOW !!!**"
   ]
  },
  {
   "cell_type": "code",
   "execution_count": 85,
   "metadata": {
    "collapsed": false
   },
   "outputs": [
    {
     "name": "stdout",
     "output_type": "stream",
     "text": [
      "Initialized\n",
      "Minibatch loss at step 0: 50.877048\n",
      "Minibatch accuracy: 5.5%\n",
      "Validation accuracy: 8.2%\n",
      "Minibatch loss at step 500: 0.737145\n",
      "Minibatch accuracy: 88.3%\n",
      "Validation accuracy: 81.4%\n",
      "Minibatch loss at step 1000: 0.798753\n",
      "Minibatch accuracy: 80.5%\n",
      "Validation accuracy: 81.3%\n",
      "Minibatch loss at step 1500: 0.566086\n",
      "Minibatch accuracy: 83.6%\n",
      "Validation accuracy: 81.1%\n",
      "Minibatch loss at step 2000: 0.648415\n",
      "Minibatch accuracy: 88.3%\n",
      "Validation accuracy: 81.2%\n",
      "Minibatch loss at step 2500: 0.782515\n",
      "Minibatch accuracy: 78.9%\n",
      "Validation accuracy: 81.1%\n",
      "Minibatch loss at step 3000: 0.784389\n",
      "Minibatch accuracy: 80.5%\n",
      "Validation accuracy: 81.4%\n",
      "Test accuracy: 88.6%\n",
      "Training time taken with stochastic gradient and tensorflow 0:00:15.207834\n",
      "2017-01-17 21:58:50.953392\n"
     ]
    }
   ],
   "source": [
    "def run_SGD(num_steps = 3001, limit_train_size_to = ''):\n",
    "    if limit_train_size_to == '':\n",
    "        # consider all train data\n",
    "        limit_train_size_to = train_dataset.shape[0]\n",
    "    train_dataset_limited_to = train_dataset[0:limit_train_size_to,:]\n",
    "    train_labels_limited_to = train_labels[0:limit_train_size_to,:]\n",
    "    accuracy_all = np.ndarray(shape = (1 + num_steps/500, 4), dtype = np.float32)\n",
    "    \n",
    "    start = datetime.datetime.now()\n",
    "    with tf.Session(graph=graph) as session:\n",
    "      #tf.global_variables_initializer().run()\n",
    "      tf.initialize_all_variables().run()\n",
    "      print(\"Initialized\")\n",
    "      for step in range(num_steps):\n",
    "        # Pick an offset within the training data, which has been randomized.\n",
    "        # Note: we could use better randomization across epochs.\n",
    "        offset = (step * batch_size) % (train_labels_limited_to.shape[0] - batch_size)\n",
    "        # Generate a minibatch.\n",
    "        batch_data = train_dataset_limited_to[offset:(offset + batch_size), :]\n",
    "        batch_labels = train_labels_limited_to[offset:(offset + batch_size), :]\n",
    "        # Prepare a dictionary telling the session where to feed the minibatch.\n",
    "        # The key of the dictionary is the placeholder node of the graph to be fed,\n",
    "        # and the value is the numpy array to feed to it.\n",
    "        feed_dict = {tf_train_dataset : batch_data, tf_train_labels : batch_labels}\n",
    "        _, l, predictions = session.run(\n",
    "          [optimizer, loss, train_prediction], feed_dict=feed_dict)\n",
    "        if (step % 500 == 0):\n",
    "          print(\"Minibatch loss at step %d: %f\" % (step, l))\n",
    "          print(\"Minibatch accuracy: %.1f%%\" % accuracy(predictions, batch_labels))\n",
    "          print(\"Validation accuracy: %.1f%%\" % accuracy(\n",
    "            valid_prediction.eval(), valid_labels))\n",
    "      print(\"Test accuracy: %.1f%%\" % accuracy(test_prediction.eval(), test_labels))\n",
    "    print('Training time taken with stochastic gradient and tensorflow', datetime.datetime.now()-start)\n",
    "\n",
    "num_steps = 3001\n",
    "run_SGD( num_steps = num_steps)\n",
    "print(datetime.datetime.now())\n",
    "#run_SGD( num_steps = num_steps , limit_train_size_to = 512 )"
   ]
  },
  {
   "cell_type": "markdown",
   "metadata": {},
   "source": [
    "** Regularised NN :  Deep Learning Neural Network - 1 hidden network ( 1024 hidden nodes)**\n",
    "------------------------------------------------------------------------------\n",
    "** Better and More Robust to SGD**                      \n",
    "** Regularised NN vs NN : 90.3% @2.23m vs 89.3% @3.15m  **             \n"
   ]
  },
  {
   "cell_type": "code",
   "execution_count": 105,
   "metadata": {
    "collapsed": false
   },
   "outputs": [
    {
     "name": "stdout",
     "output_type": "stream",
     "text": [
      "2017-01-17 22:23:11.692179\n"
     ]
    }
   ],
   "source": [
    "import matplotlib.pyplot as plt\n",
    "import datetime\n",
    "import numpy as np\n",
    "%matplotlib inline\n",
    "\n",
    "def plot_accuracy(data):\n",
    "    figure, axis = plt.subplots()\n",
    "    axis.plot(data[:,0], data[:, 1:4] )\n",
    "    axis.set_title('Accuracy across diff training size')\n",
    "    axis.legend(('training batch data','validation data', 'test data'), loc = 'lower right')\n",
    "    axis.set_xticks(data[:,0]) # set batch size on x -axis\n",
    "    axis.set_xlabel('')\n",
    "    axis.grid()\n",
    "    plt.show()\n",
    "\n",
    "print(datetime.datetime.now())"
   ]
  },
  {
   "cell_type": "code",
   "execution_count": 39,
   "metadata": {
    "collapsed": false
   },
   "outputs": [
    {
     "name": "stdout",
     "output_type": "stream",
     "text": [
      "Initialisation Complete.  2017-01-18 07:56:53.872597\n"
     ]
    }
   ],
   "source": [
    "# Training computation.\n",
    "def loss_function_no_regularisation_1_hidden_layer(logits, tf_train_labels):\n",
    "  print('no regularisation')\n",
    "  return tf.reduce_mean(tf.nn.softmax_cross_entropy_with_logits(logits, tf_train_labels))\n",
    "\n",
    "def loss_function_with_regularisation_1_hidden_layer(logits, tf_train_labels, weights_for_hidden,weights,  beta):\n",
    "  print('regularisation')\n",
    "  regularisation_term = tf.nn.l2_loss(weights_for_hidden) + tf.nn.l2_loss(weights)\n",
    "  return (( loss_function_no_regularisation(logits, tf_train_labels) + beta * regularisation_term))\n",
    "\n",
    "def forwardprop_no_dropout(tf_dataset,weights_for_hidden, biases_for_hidden ):\n",
    "  print('no dropout')  \n",
    "  return tf.nn.relu(tf.matmul(tf_dataset, weights_for_hidden ) + biases_for_hidden)\n",
    "\n",
    "# IMP: must not be done for validation or testing set\n",
    "def forwardprop_dropout_for_training_data_only(tf_train_dataset,weights_for_hidden, biases_for_hidden, dropout_examples_by = 0.5 ):\n",
    "  print('dropout')    \n",
    "  return tf.nn.dropout( forwardprop_no_dropout(tf_train_dataset,weights_for_hidden, biases_for_hidden ), dropout_examples_by )\n",
    "\n",
    "def run_NN(batch_size = 128, num_hidden = 1024, beta = 0.01,\\\n",
    "            overfitting_prevention_startegy_regularisation  = 'No',\\\n",
    "            overfitting_prevention_startegy_dropout  = 'No',\\\n",
    "           num_steps = 3001, limit_train_size_to  = '' ):\n",
    "    print('batch_size = ',batch_size,' num_hidden = ', num_hidden, ' beta = ', beta )\n",
    "    seed = 100 # control randomness\n",
    "    graph = tf.Graph()\n",
    "    with graph.as_default():\n",
    "\n",
    "      # Input data. Unlike in earlier gradient descent, now we can take the whole data.\n",
    "      # With gradient descent, we could not process all the input data and we had poor accuracy\n",
    "      # For the training data, we use a placeholder that will be fed\n",
    "      # at run time with a training minibatch.\n",
    "      tf_train_dataset = tf.placeholder(tf.float32,\n",
    "                                        shape=(batch_size, image_size * image_size))\n",
    "      tf_train_labels = tf.placeholder(tf.float32, shape=(batch_size, num_labels))\n",
    "      tf_valid_dataset = tf.constant(valid_dataset)\n",
    "      tf_test_dataset = tf.constant(test_dataset)\n",
    "\n",
    "      # Variables.\n",
    "      weights_for_hidden = tf.Variable(tf.truncated_normal([ image_size * image_size , num_hidden]))\n",
    "      biases_for_hidden = tf.Variable(tf.zeros([num_hidden]))\n",
    "      weights = tf.Variable(\n",
    "        tf.truncated_normal([num_hidden, num_labels]))\n",
    "      biases = tf.Variable(tf.zeros([num_labels]))\n",
    "\n",
    "      \n",
    "      if overfitting_prevention_startegy_dropout == 'Yes':\n",
    "        hidden1_layer_with_50_percent_examples_dropped_out = \\\n",
    "                forwardprop_dropout_for_training_data_only(tf_train_dataset,weights_for_hidden, biases_for_hidden, dropout_examples_by = 0.5 )\n",
    "        hidden_layer1 = hidden1_layer_with_50_percent_examples_dropped_out\n",
    "      else:\n",
    "        hidden_layer1 = forwardprop_no_dropout(tf_train_dataset,weights_for_hidden, biases_for_hidden )\n",
    "        \n",
    "             \n",
    "      # Training computation.        \n",
    "      hidden_valid_dataset = forwardprop_no_dropout (tf_valid_dataset, weights_for_hidden,  biases_for_hidden)\n",
    "      hidden_test_dataset = forwardprop_no_dropout (tf_test_dataset, weights_for_hidden,  biases_for_hidden)\n",
    "             \n",
    "      logits = tf.matmul(hidden_layer1, weights) + biases\n",
    "      \n",
    "      if overfitting_prevention_startegy_regularisation == 'Yes':\n",
    "        loss = loss_function_with_regularisation_1_hidden_layer\\\n",
    "                                (logits, tf_train_labels,  weights_for_hidden, weights, beta )\n",
    "      else:\n",
    "        loss = loss_function_no_regularisation_1_hidden_layer( logits, tf_train_labels )        \n",
    "      \n",
    "      # Optimizer.\n",
    "      optimizer = tf.train.GradientDescentOptimizer(0.5).minimize(loss)  \n",
    "\n",
    "      # Predictions for the training, validation, and test data.\n",
    "      train_prediction = tf.nn.softmax(logits)\n",
    "      valid_prediction = tf.nn.softmax(\n",
    "        tf.matmul(hidden_valid_dataset, weights) + biases)\n",
    "      test_prediction = tf.nn.softmax(tf.matmul(hidden_test_dataset, weights) + biases)\n",
    "    print('Deep Neural Network with 1 Hidden layer with 1024 hidden nodes -')\n",
    "    print(overfitting_prevention_startegy_regularisation+' Regularisation')\n",
    "    print(overfitting_prevention_startegy_dropout+' Dropout')\n",
    "    print('Initialisation complete', datetime.datetime.now())\n",
    "    #return graph\n",
    "\n",
    "#def run_NN( num_steps = 3001, limit_train_size_to  = ''):    \n",
    "    if limit_train_size_to == '':\n",
    "        # consider all train data\n",
    "        limit_train_size_to = train_dataset.shape[0]\n",
    "    train_dataset_limited_to = train_dataset[0:limit_train_size_to,:]\n",
    "    train_labels_limited_to = train_labels[0:limit_train_size_to,:]\n",
    "    accuracy_all = np.ndarray(shape = (1 + num_steps/collect_accuracy_at_batch_interval_of, 4), dtype = np.float32)\n",
    "    offset_range = set()\n",
    "\n",
    "    start = datetime.datetime.now()\n",
    "    with tf.Session(graph=graph) as session:\n",
    "      tf.initialize_all_variables().run()\n",
    "      print(\"Initialized\")\n",
    "      for step in range(num_steps):\n",
    "        # Pick an offset within the training data, which has been randomized.\n",
    "        # Note: we could use better randomization across epochs.\n",
    "        offset = (step * batch_size) % (train_labels_limited_to.shape[0] - batch_size)\n",
    "        offset_range.add(str(offset) + '-' + str(offset + batch_size))\n",
    "        # Generate a minibatch.\n",
    "        batch_data = train_dataset_limited_to[offset:(offset + batch_size), :]\n",
    "        batch_labels = train_labels_limited_to[offset:(offset + batch_size), :]\n",
    "        # Prepare a dictionary telling the session where to feed the minibatch.\n",
    "        # The key of the dictionary is the placeholder node of the graph to be fed,\n",
    "        # and the value is the numpy array to feed to it.\n",
    "        feed_dict = {tf_train_dataset : batch_data, tf_train_labels : batch_labels}\n",
    "        _, l, predictions = session.run(\n",
    "          [optimizer, loss, train_prediction], feed_dict=feed_dict)\n",
    "        if (step % collect_accuracy_at_batch_interval_of == 0):\n",
    "          #print(predictions)\n",
    "          #print(batch_labels)  \n",
    "          train_batch_accuracy = accuracy(predictions, batch_labels)\n",
    "          validation_accuracy = accuracy( valid_prediction.eval(), valid_labels)\n",
    "          test_accuracy = accuracy(test_prediction.eval(), test_labels) \n",
    "          accuracy_all[step /collect_accuracy_at_batch_interval_of, :  ] = [step * batch_size, train_batch_accuracy, \n",
    "                                                          validation_accuracy, test_accuracy  ]\n",
    "          print('Step @ ', step)\n",
    "          print(\"      Minibatch loss %d: %.2f .Accuracy Minibatch / Validation : %.1f%% / %.1f%%\" % (step, l, train_batch_accuracy, validation_accuracy))\n",
    "          #print(\"Minibatch accuracy: %.1f%%\" % train_batch_accuracy)\n",
    "          #print(\"Validation accuracy: %.1f%%\" % validation_accuracy )\n",
    "      print(\"Test accuracy: %.1f%%\" % accuracy(test_prediction.eval(), test_labels))\n",
    "    print(' Following training sets has been tried . Range Set Size',len(offset_range) )\n",
    "    print(' Training with deep neural netowrk 1 hidden layer, 1024 node. Time taken ', datetime.datetime.now() - start )\n",
    "    #print(accuracy_all)\n",
    "    plot_accuracy(accuracy_all)\n",
    "    print('. Sample 10 Ranges are : ', list(offset_range)[0:10] )\n",
    "\n",
    "    \n",
    "print('Initialisation Complete. ',datetime.datetime.now())"
   ]
  },
  {
   "cell_type": "markdown",
   "metadata": {},
   "source": [
    "**NN with NO Regularisation !!**"
   ]
  },
  {
   "cell_type": "code",
   "execution_count": 37,
   "metadata": {
    "collapsed": false
   },
   "outputs": [
    {
     "name": "stdout",
     "output_type": "stream",
     "text": [
      "batch_size =  128  num_hidden =  1024  beta =  0.01\n",
      "no dropout\n",
      "no dropout\n",
      "no dropout\n",
      "no regularisation\n",
      "Deep Neural Network with 1 Hidden layer with 1024 hidden nodes -\n",
      "No Regularisation\n",
      "No Dropout\n",
      "Initialisation complete 2017-01-18 07:52:04.797651\n",
      "Initialized\n",
      "Step @  0\n",
      "Minibatch loss 0: 479.74 .Accuracy Minibatch / Validation : 9.4% / 30.5%\n",
      "Step @  500\n",
      "Minibatch loss 500: 28.62 .Accuracy Minibatch / Validation : 78.1% / 77.3%\n",
      "Step @  1000\n",
      "Minibatch loss 1000: 14.32 .Accuracy Minibatch / Validation : 78.1% / 80.7%\n",
      "Step @  1500\n",
      "Minibatch loss 1500: 8.31 .Accuracy Minibatch / Validation : 88.3% / 81.8%\n",
      "Step @  2000\n",
      "Minibatch loss 2000: 3.30 .Accuracy Minibatch / Validation : 83.6% / 81.8%\n",
      "Step @  2500\n",
      "Minibatch loss 2500: 2.34 .Accuracy Minibatch / Validation : 82.0% / 82.0%\n",
      "Step @  3000\n",
      "Minibatch loss 3000: 2.38 .Accuracy Minibatch / Validation : 82.8% / 82.2%\n",
      "Test accuracy: 89.2%\n",
      " Following training sets has been tried . Range Set Size 3001\n",
      " Training with deep neural netowrk 1 hidden layer, 1024 node. Time taken  0:02:17.678870\n"
     ]
    },
    {
     "ename": "NameError",
     "evalue": "global name 'plot_accuracy' is not defined",
     "output_type": "error",
     "traceback": [
      "\u001b[0;31m---------------------------------------------------------------------------\u001b[0m",
      "\u001b[0;31mNameError\u001b[0m                                 Traceback (most recent call last)",
      "\u001b[0;32m<ipython-input-37-7ee91619313c>\u001b[0m in \u001b[0;36m<module>\u001b[0;34m()\u001b[0m\n\u001b[1;32m      5\u001b[0m \u001b[0mnum_steps\u001b[0m \u001b[0;34m=\u001b[0m \u001b[0;36m3001\u001b[0m\u001b[0;34m\u001b[0m\u001b[0m\n\u001b[1;32m      6\u001b[0m \u001b[0;34m\u001b[0m\u001b[0m\n\u001b[0;32m----> 7\u001b[0;31m \u001b[0mrun_NN\u001b[0m\u001b[0;34m(\u001b[0m\u001b[0mbatch_size\u001b[0m \u001b[0;34m=\u001b[0m \u001b[0;36m128\u001b[0m\u001b[0;34m,\u001b[0m \u001b[0mnum_hidden\u001b[0m \u001b[0;34m=\u001b[0m \u001b[0;36m1024\u001b[0m\u001b[0;34m,\u001b[0m \u001b[0mbeta\u001b[0m \u001b[0;34m=\u001b[0m \u001b[0;36m0.01\u001b[0m\u001b[0;34m,\u001b[0m            \u001b[0moverfitting_prevention_startegy_regularisation\u001b[0m  \u001b[0;34m=\u001b[0m \u001b[0;34m'No'\u001b[0m\u001b[0;34m,\u001b[0m            \u001b[0moverfitting_prevention_startegy_dropout\u001b[0m  \u001b[0;34m=\u001b[0m \u001b[0;34m'No'\u001b[0m\u001b[0;34m,\u001b[0m \u001b[0mnum_steps\u001b[0m \u001b[0;34m=\u001b[0m \u001b[0mnum_steps\u001b[0m \u001b[0;34m)\u001b[0m\u001b[0;34m\u001b[0m\u001b[0m\n\u001b[0m\u001b[1;32m      8\u001b[0m \u001b[0;34m\u001b[0m\u001b[0m\n\u001b[1;32m      9\u001b[0m \u001b[0;31m#run_NN(graph2, num_steps = num_steps )\u001b[0m\u001b[0;34m\u001b[0m\u001b[0;34m\u001b[0m\u001b[0m\n",
      "\u001b[0;32m<ipython-input-35-439334833294>\u001b[0m in \u001b[0;36mrun_NN\u001b[0;34m(batch_size, num_hidden, beta, overfitting_prevention_startegy_regularisation, overfitting_prevention_startegy_dropout, num_steps, limit_train_size_to)\u001b[0m\n\u001b[1;32m    116\u001b[0m     \u001b[0;32mprint\u001b[0m\u001b[0;34m(\u001b[0m\u001b[0;34m' Training with deep neural netowrk 1 hidden layer, 1024 node. Time taken '\u001b[0m\u001b[0;34m,\u001b[0m \u001b[0mdatetime\u001b[0m\u001b[0;34m.\u001b[0m\u001b[0mdatetime\u001b[0m\u001b[0;34m.\u001b[0m\u001b[0mnow\u001b[0m\u001b[0;34m(\u001b[0m\u001b[0;34m)\u001b[0m \u001b[0;34m-\u001b[0m \u001b[0mstart\u001b[0m \u001b[0;34m)\u001b[0m\u001b[0;34m\u001b[0m\u001b[0m\n\u001b[1;32m    117\u001b[0m     \u001b[0;31m#print(accuracy_all)\u001b[0m\u001b[0;34m\u001b[0m\u001b[0;34m\u001b[0m\u001b[0m\n\u001b[0;32m--> 118\u001b[0;31m     \u001b[0mplot_accuracy\u001b[0m\u001b[0;34m(\u001b[0m\u001b[0maccuracy_all\u001b[0m\u001b[0;34m)\u001b[0m\u001b[0;34m\u001b[0m\u001b[0m\n\u001b[0m\u001b[1;32m    119\u001b[0m     \u001b[0;32mprint\u001b[0m\u001b[0;34m(\u001b[0m\u001b[0;34m'. Sample 10 Ranges are : '\u001b[0m\u001b[0;34m,\u001b[0m \u001b[0mlist\u001b[0m\u001b[0;34m(\u001b[0m\u001b[0moffset_range\u001b[0m\u001b[0;34m)\u001b[0m\u001b[0;34m[\u001b[0m\u001b[0;36m0\u001b[0m\u001b[0;34m:\u001b[0m\u001b[0;36m10\u001b[0m\u001b[0;34m]\u001b[0m \u001b[0;34m)\u001b[0m\u001b[0;34m\u001b[0m\u001b[0m\n\u001b[1;32m    120\u001b[0m \u001b[0;34m\u001b[0m\u001b[0m\n",
      "\u001b[0;31mNameError\u001b[0m: global name 'plot_accuracy' is not defined"
     ]
    }
   ],
   "source": [
    "batch_size = 128\n",
    "num_hidden = 1024\n",
    "beta = 0.01\n",
    "collect_accuracy_at_batch_interval_of = 500\n",
    "num_steps = 3001\n",
    "\n",
    "run_NN(batch_size = 128, num_hidden = 1024, beta = 0.01,\\\n",
    "            overfitting_prevention_startegy_regularisation  = 'No',\\\n",
    "            overfitting_prevention_startegy_dropout  = 'No', num_steps = num_steps )\n",
    "\n",
    "#run_NN(graph2, num_steps = num_steps )\n",
    "#run_NN(num_steps = num_steps. limit_train_size_to = 512)"
   ]
  },
  {
   "cell_type": "markdown",
   "metadata": {},
   "source": [
    "**NN with Regularisation !!**"
   ]
  },
  {
   "cell_type": "code",
   "execution_count": 167,
   "metadata": {
    "collapsed": false
   },
   "outputs": [
    {
     "name": "stdout",
     "output_type": "stream",
     "text": [
      "batch_size =  128  num_hidden =  1024  beta =  0.01\n",
      "no dropout\n",
      "no dropout\n",
      "no dropout\n",
      "regularisation\n",
      "Deep Neural Network with 1 Hidden layer with 1024 hidden nodes -\n",
      "Yes Regularisation\n",
      "No Dropout\n",
      "Initialisation complete 2017-01-17 23:19:16.620059\n",
      "Initialized\n",
      "Minibatch loss @ step 0: 3469.13 .Accuracy Minibatch / Validation : 10.2% / 30.9%\n",
      "Minibatch loss @ step 500: 21.16 .Accuracy Minibatch / Validation : 87.5% / 84.0%\n",
      "Minibatch loss @ step 1000: 0.95 .Accuracy Minibatch / Validation : 80.5% / 83.1%\n",
      "Minibatch loss @ step 1500: 0.58 .Accuracy Minibatch / Validation : 88.3% / 83.5%\n",
      "Minibatch loss @ step 2000: 0.61 .Accuracy Minibatch / Validation : 90.6% / 83.3%\n",
      "Minibatch loss @ step 2500: 0.72 .Accuracy Minibatch / Validation : 83.6% / 83.3%\n",
      "Minibatch loss @ step 3000: 0.77 .Accuracy Minibatch / Validation : 82.8% / 83.4%\n",
      "Test accuracy: 90.3%\n",
      " Following training sets has been tried . Range Set Size 3001\n",
      " Training with deep neural netowrk 1 hidden layer, 1024 node. Time taken  0:02:10.354289\n"
     ]
    },
    {
     "data": {
      "image/png": "[encoded data removed]",
      "text/plain": [
       "<matplotlib.figure.Figure at 0x7fc1d0d44910>"
      ]
     },
     "metadata": {},
     "output_type": "display_data"
    },
    {
     "name": "stdout",
     "output_type": "stream",
     "text": [
      ". Sample 10 Ranges are :  ['104832-104960', '48512-48640', '183488-183616', '44480-44608', '94528-94656', '17792-17920', '42368-42496', '9600-9728', '95680-95808', '169920-170048']\n"
     ]
    }
   ],
   "source": [
    "# PS: The right amount of regularisation should improve the accuracy. \n",
    "#If accuracy does not improve then then try reducing the beta \n",
    "run_NN(batch_size = 128, num_hidden = 1024, beta = 0.01,\\\n",
    "            overfitting_prevention_startegy_regularisation  = 'Yes',\\\n",
    "            overfitting_prevention_startegy_dropout  = 'No', num_steps = num_steps )"
   ]
  },
  {
   "cell_type": "markdown",
   "metadata": {
    "colab_type": "text",
    "id": "na8xX2yHZzNF"
   },
   "source": [
    "---\n",
    "Problem 2\n",
    "---------\n",
    "Let's demonstrate an extreme case of overfitting. Restrict your training data to just a few batches. What happens?\n",
    "\n",
    "---"
   ]
  },
  {
   "cell_type": "markdown",
   "metadata": {},
   "source": [
    "Small Training Size @ SGD \n",
    "-----------------------------------------------------"
   ]
  },
  {
   "cell_type": "code",
   "execution_count": 20,
   "metadata": {
    "collapsed": false
   },
   "outputs": [
    {
     "name": "stdout",
     "output_type": "stream",
     "text": [
      "Initialized\n",
      "Minibatch loss at step 0: 46.123348\n",
      "Minibatch accuracy: 14.1%\n",
      "Validation accuracy: 13.7%\n",
      "Minibatch loss at step 500: 0.427420\n",
      "Minibatch accuracy: 100.0%\n",
      "Validation accuracy: 76.4%\n",
      "Minibatch loss at step 1000: 0.282288\n",
      "Minibatch accuracy: 100.0%\n",
      "Validation accuracy: 77.2%\n",
      "Minibatch loss at step 1500: 0.317578\n",
      "Minibatch accuracy: 99.2%\n",
      "Validation accuracy: 77.1%\n",
      "Minibatch loss at step 2000: 0.247546\n",
      "Minibatch accuracy: 100.0%\n",
      "Validation accuracy: 77.2%\n",
      "Minibatch loss at step 2500: 0.280649\n",
      "Minibatch accuracy: 100.0%\n",
      "Validation accuracy: 77.3%\n",
      "Minibatch loss at step 3000: 0.317401\n",
      "Minibatch accuracy: 99.2%\n",
      "Validation accuracy: 77.1%\n",
      "Test accuracy: 84.0%\n",
      "Training time taken with stochastic gradient and tensorflow 0:00:14.538419\n"
     ]
    }
   ],
   "source": [
    "# Run SGD with small training size\n",
    "# See how it performs, compared to NN for the same data size\n",
    "run_SGD( num_steps = num_steps , limit_train_size_to = 512 )\n"
   ]
  },
  {
   "cell_type": "markdown",
   "metadata": {},
   "source": [
    "**Conclusion :** Extreme case of overfitting. Minibatch accuracy is 100% i.e perfectly predicts the train data indicating overfitting on the training data."
   ]
  },
  {
   "cell_type": "markdown",
   "metadata": {},
   "source": [
    "Small Training Size @ Regularised Neural Network\n",
    "-----------------------------------------------------\n"
   ]
  },
  {
   "cell_type": "code",
   "execution_count": 168,
   "metadata": {
    "collapsed": false
   },
   "outputs": [
    {
     "name": "stdout",
     "output_type": "stream",
     "text": [
      "batch_size =  128  num_hidden =  1024  beta =  0.01\n",
      "no dropout\n",
      "no dropout\n",
      "no dropout\n",
      "regularisation\n",
      "Deep Neural Network with 1 Hidden layer with 1024 hidden nodes -\n",
      "Yes Regularisation\n",
      "No Dropout\n",
      "Initialisation complete 2017-01-17 23:26:34.274330\n",
      "Initialized\n",
      "Minibatch loss @ step 0: 3524.03 .Accuracy Minibatch / Validation : 7.0% / 27.9%\n",
      "Minibatch loss @ step 500: 21.01 .Accuracy Minibatch / Validation : 100.0% / 76.7%\n",
      "Minibatch loss @ step 1000: 0.45 .Accuracy Minibatch / Validation : 100.0% / 78.6%\n",
      "Minibatch loss @ step 1500: 0.31 .Accuracy Minibatch / Validation : 100.0% / 78.4%\n",
      "Minibatch loss @ step 2000: 0.26 .Accuracy Minibatch / Validation : 100.0% / 78.3%\n",
      "Minibatch loss @ step 2500: 0.27 .Accuracy Minibatch / Validation : 100.0% / 78.6%\n",
      "Minibatch loss @ step 3000: 0.28 .Accuracy Minibatch / Validation : 100.0% / 78.6%\n",
      "Test accuracy: 85.8%\n",
      " Following training sets has been tried . Range Set Size 3\n",
      " Training with deep neural netowrk 1 hidden layer, 1024 node. Time taken  0:02:11.272242\n"
     ]
    },
    {
     "data": {
      "image/png": "[encoded data removed]",
      "text/plain": [
       "<matplotlib.figure.Figure at 0x7fc1aa176490>"
      ]
     },
     "metadata": {},
     "output_type": "display_data"
    },
    {
     "name": "stdout",
     "output_type": "stream",
     "text": [
      ". Sample 10 Ranges are :  ['256-384', '128-256', '0-128']\n"
     ]
    }
   ],
   "source": [
    "run_NN(batch_size = 128, num_hidden = 1024, beta = 0.01,\\\n",
    "            overfitting_prevention_startegy_regularisation  = 'Yes',\\\n",
    "            overfitting_prevention_startegy_dropout  = 'No', num_steps = num_steps\\\n",
    "      , limit_train_size_to = 512)\n"
   ]
  },
  {
   "cell_type": "markdown",
   "metadata": {},
   "source": [
    "Small Training Size @ No Regularised Neural Network\n",
    "-----------------------------------------------------\n"
   ]
  },
  {
   "cell_type": "code",
   "execution_count": 169,
   "metadata": {
    "collapsed": false
   },
   "outputs": [
    {
     "name": "stdout",
     "output_type": "stream",
     "text": [
      "batch_size =  128  num_hidden =  1024  beta =  0.01\n",
      "no dropout\n",
      "no dropout\n",
      "no dropout\n",
      "no regularisation\n",
      "Deep Neural Network with 1 Hidden layer with 1024 hidden nodes -\n",
      "No Regularisation\n",
      "No Dropout\n",
      "Initialisation complete 2017-01-17 23:31:03.340140\n",
      "Initialized\n",
      "Minibatch loss @ step 0: 296.72 .Accuracy Minibatch / Validation : 9.4% / 25.0%\n",
      "Minibatch loss @ step 500: 0.00 .Accuracy Minibatch / Validation : 100.0% / 75.5%\n",
      "Minibatch loss @ step 1000: 0.00 .Accuracy Minibatch / Validation : 100.0% / 75.5%\n",
      "Minibatch loss @ step 1500: 0.00 .Accuracy Minibatch / Validation : 100.0% / 75.5%\n",
      "Minibatch loss @ step 2000: 0.00 .Accuracy Minibatch / Validation : 100.0% / 75.5%\n",
      "Minibatch loss @ step 2500: 0.00 .Accuracy Minibatch / Validation : 100.0% / 75.5%\n",
      "Minibatch loss @ step 3000: 0.00 .Accuracy Minibatch / Validation : 100.0% / 75.5%\n",
      "Test accuracy: 82.8%\n",
      " Following training sets has been tried . Range Set Size 3\n",
      " Training with deep neural netowrk 1 hidden layer, 1024 node. Time taken  0:02:18.066540\n"
     ]
    },
    {
     "data": {
      "image/png": "[encoded data removed]",
      "text/plain": [
       "<matplotlib.figure.Figure at 0x7fc1aa19fc10>"
      ]
     },
     "metadata": {},
     "output_type": "display_data"
    },
    {
     "name": "stdout",
     "output_type": "stream",
     "text": [
      ". Sample 10 Ranges are :  ['256-384', '128-256', '0-128']\n"
     ]
    }
   ],
   "source": [
    "run_NN(batch_size = 128, num_hidden = 1024, beta = 0.01,\\\n",
    "            overfitting_prevention_startegy_regularisation  = 'No',\\\n",
    "            overfitting_prevention_startegy_dropout  = 'No', num_steps = num_steps\\\n",
    "      , limit_train_size_to = 512)\n"
   ]
  },
  {
   "cell_type": "markdown",
   "metadata": {},
   "source": [
    "Small Training Size @ No Regularised, Yes Drop out Neural Network\n",
    "-----------------------------------------------------\n"
   ]
  },
  {
   "cell_type": "code",
   "execution_count": 170,
   "metadata": {
    "collapsed": false
   },
   "outputs": [
    {
     "name": "stdout",
     "output_type": "stream",
     "text": [
      "batch_size =  128  num_hidden =  1024  beta =  0.01\n",
      "dropout\n",
      "no dropout\n",
      "no dropout\n",
      "no dropout\n",
      "no regularisation\n",
      "Deep Neural Network with 1 Hidden layer with 1024 hidden nodes -\n",
      "No Regularisation\n",
      "Yes Dropout\n",
      "Initialisation complete 2017-01-17 23:33:51.464817\n",
      "Initialized\n",
      "Minibatch loss @ step 0: 503.69 .Accuracy Minibatch / Validation : 9.4% / 32.8%\n",
      "Minibatch loss @ step 500: 0.00 .Accuracy Minibatch / Validation : 100.0% / 76.5%\n",
      "Minibatch loss @ step 1000: 0.00 .Accuracy Minibatch / Validation : 100.0% / 76.8%\n",
      "Minibatch loss @ step 1500: 0.00 .Accuracy Minibatch / Validation : 100.0% / 77.2%\n",
      "Minibatch loss @ step 2000: 0.00 .Accuracy Minibatch / Validation : 100.0% / 77.4%\n",
      "Minibatch loss @ step 2500: 0.00 .Accuracy Minibatch / Validation : 100.0% / 77.5%\n",
      "Minibatch loss @ step 3000: 0.00 .Accuracy Minibatch / Validation : 100.0% / 77.4%\n",
      "Test accuracy: 85.0%\n",
      " Following training sets has been tried . Range Set Size 3\n",
      " Training with deep neural netowrk 1 hidden layer, 1024 node. Time taken  0:02:06.143027\n"
     ]
    },
    {
     "data": {
      "image/png": "[encoded data removed]",
      "text/plain": [
       "<matplotlib.figure.Figure at 0x7fc1901be610>"
      ]
     },
     "metadata": {},
     "output_type": "display_data"
    },
    {
     "name": "stdout",
     "output_type": "stream",
     "text": [
      ". Sample 10 Ranges are :  ['256-384', '128-256', '0-128']\n"
     ]
    }
   ],
   "source": [
    "run_NN(batch_size = 128, num_hidden = 1024, beta = 0.01,\\\n",
    "            overfitting_prevention_startegy_regularisation  = 'No',\\\n",
    "            overfitting_prevention_startegy_dropout  = 'Yes', num_steps = num_steps\\\n",
    "      , limit_train_size_to = 512)\n"
   ]
  },
  {
   "cell_type": "markdown",
   "metadata": {},
   "source": [
    "Small Training Size @ Yes Regularised , Yes Dropout Neural Network\n",
    "-----------------------------------------------------\n"
   ]
  },
  {
   "cell_type": "code",
   "execution_count": 171,
   "metadata": {
    "collapsed": false
   },
   "outputs": [
    {
     "name": "stdout",
     "output_type": "stream",
     "text": [
      "batch_size =  128  num_hidden =  1024  beta =  0.01\n",
      "dropout\n",
      "no dropout\n",
      "no dropout\n",
      "no dropout\n",
      "regularisation\n",
      "Deep Neural Network with 1 Hidden layer with 1024 hidden nodes -\n",
      "Yes Regularisation\n",
      "Yes Dropout\n",
      "Initialisation complete 2017-01-17 23:38:56.984547\n",
      "Initialized\n",
      "Minibatch loss @ step 0: 3595.41 .Accuracy Minibatch / Validation : 12.5% / 24.6%\n",
      "Minibatch loss @ step 500: 21.06 .Accuracy Minibatch / Validation : 100.0% / 77.2%\n",
      "Minibatch loss @ step 1000: 0.49 .Accuracy Minibatch / Validation : 100.0% / 78.5%\n",
      "Minibatch loss @ step 1500: 0.34 .Accuracy Minibatch / Validation : 100.0% / 78.3%\n",
      "Minibatch loss @ step 2000: 0.28 .Accuracy Minibatch / Validation : 100.0% / 78.4%\n",
      "Minibatch loss @ step 2500: 0.30 .Accuracy Minibatch / Validation : 100.0% / 78.8%\n",
      "Minibatch loss @ step 3000: 0.31 .Accuracy Minibatch / Validation : 99.2% / 78.7%\n",
      "Test accuracy: 85.9%\n",
      " Following training sets has been tried . Range Set Size 3\n",
      " Training with deep neural netowrk 1 hidden layer, 1024 node. Time taken  0:02:24.800583\n"
     ]
    },
    {
     "data": {
      "image/png": "[encoded data removed]",
      "text/plain": [
       "<matplotlib.figure.Figure at 0x7fc1aa63f610>"
      ]
     },
     "metadata": {},
     "output_type": "display_data"
    },
    {
     "name": "stdout",
     "output_type": "stream",
     "text": [
      ". Sample 10 Ranges are :  ['256-384', '128-256', '0-128']\n"
     ]
    }
   ],
   "source": [
    "run_NN(batch_size = 128, num_hidden = 1024, beta = 0.01,\\\n",
    "            overfitting_prevention_startegy_regularisation  = 'Yes',\\\n",
    "            overfitting_prevention_startegy_dropout  = 'Yes', num_steps = num_steps\\\n",
    "      , limit_train_size_to = 512)\n"
   ]
  },
  {
   "cell_type": "markdown",
   "metadata": {},
   "source": [
    "**Conclusion : ** We observed that, when few train datasets (i.e 500) are provided, then the Minibatch accuracy is 100% across each steps, while the validation accuracy is 78.5%. This indicates the extreme case of overfitting, where our model is completely able to predict across training dataset with 100% correctness, however when faced with new data as in the validation set,  the performance significantly drops. This may be explained by the fact that  the only training set is ['256-384', '128-256', '0-128'] index data of the all available.  \n",
    "\n",
    "Compare this to our earlier cases, where we used the full dataset and our training samples were 3000 different training examples, the minibatch accuracy was never vastly different to the validation accurayc and never greater than 89%, which meant that the model generated from the training was never overfitting. And that the train model also performed with fairly similar performance across train and validation set meant that the model was generic enough to work even for the unseen data.\n",
    "\n",
    "In addition, we also observed that due to the overfitting model thus obtained our prediction accuracy in the real data i.e test data in fact performed poorly i.e a typical case of overfitting model.\n",
    "\n"
   ]
  },
  {
   "cell_type": "markdown",
   "metadata": {
    "colab_type": "text",
    "id": "ww3SCBUdlkRc"
   },
   "source": [
    "---\n",
    "Problem 3\n",
    "---------\n",
    "Introduce Dropout on the hidden layer of the neural network. Remember: Dropout should only be introduced during training, not evaluation, otherwise your evaluation results would be stochastic as well. TensorFlow provides `nn.dropout()` for that, but you have to make sure it's only inserted during training.\n",
    "\n",
    "What happens to our extreme overfitting case?\n",
    "\n",
    "---"
   ]
  },
  {
   "cell_type": "markdown",
   "metadata": {},
   "source": [
    "NN with Dropout - Yes, Regularisation - No  @ Full Data\n",
    "--------------------------------------------"
   ]
  },
  {
   "cell_type": "code",
   "execution_count": 172,
   "metadata": {
    "collapsed": false
   },
   "outputs": [
    {
     "name": "stdout",
     "output_type": "stream",
     "text": [
      "batch_size =  128  num_hidden =  1024  beta =  0.01\n",
      "dropout\n",
      "no dropout\n",
      "no dropout\n",
      "no dropout\n",
      "no regularisation\n",
      "Deep Neural Network with 1 Hidden layer with 1024 hidden nodes -\n",
      "No Regularisation\n",
      "Yes Dropout\n",
      "Initialisation complete 2017-01-17 23:42:54.907942\n",
      "Initialized\n",
      "Minibatch loss @ step 0: 461.60 .Accuracy Minibatch / Validation : 13.3% / 28.0%\n",
      "Minibatch loss @ step 500: 45.67 .Accuracy Minibatch / Validation : 74.2% / 79.2%\n",
      "Minibatch loss @ step 1000: 19.64 .Accuracy Minibatch / Validation : 71.9% / 79.1%\n",
      "Minibatch loss @ step 1500: 20.14 .Accuracy Minibatch / Validation : 77.3% / 78.7%\n",
      "Minibatch loss @ step 2000: 4.33 .Accuracy Minibatch / Validation : 75.8% / 79.8%\n",
      "Minibatch loss @ step 2500: 5.46 .Accuracy Minibatch / Validation : 75.0% / 79.8%\n",
      "Minibatch loss @ step 3000: 2.54 .Accuracy Minibatch / Validation : 75.8% / 79.5%\n",
      "Test accuracy: 87.2%\n",
      " Following training sets has been tried . Range Set Size 3001\n",
      " Training with deep neural netowrk 1 hidden layer, 1024 node. Time taken  0:02:21.919360\n"
     ]
    },
    {
     "data": {
      "image/png": "[encoded data removed]",
      "text/plain": [
       "<matplotlib.figure.Figure at 0x7fc1aa5b3c10>"
      ]
     },
     "metadata": {},
     "output_type": "display_data"
    },
    {
     "name": "stdout",
     "output_type": "stream",
     "text": [
      ". Sample 10 Ranges are :  ['104832-104960', '48512-48640', '183488-183616', '44480-44608', '94528-94656', '17792-17920', '42368-42496', '9600-9728', '95680-95808', '169920-170048']\n"
     ]
    }
   ],
   "source": [
    "run_NN(batch_size = 128, num_hidden = 1024, beta = 0.01,\\\n",
    "            overfitting_prevention_startegy_regularisation  = 'No',\\\n",
    "            overfitting_prevention_startegy_dropout  = 'Yes', num_steps = num_steps\\\n",
    "      )"
   ]
  },
  {
   "cell_type": "markdown",
   "metadata": {},
   "source": [
    "** Test what happens with the OVerfitting with drop out overfitting prevention strategy  **\n",
    "\n",
    "*NN with Dropout - Yes, Regularisation - Yes @ Full Data*"
   ]
  },
  {
   "cell_type": "code",
   "execution_count": 173,
   "metadata": {
    "collapsed": false
   },
   "outputs": [
    {
     "name": "stdout",
     "output_type": "stream",
     "text": [
      "batch_size =  128  num_hidden =  1024  beta =  0.01\n",
      "dropout\n",
      "no dropout\n",
      "no dropout\n",
      "no dropout\n",
      "regularisation\n",
      "Deep Neural Network with 1 Hidden layer with 1024 hidden nodes -\n",
      "Yes Regularisation\n",
      "Yes Dropout\n",
      "Initialisation complete 2017-01-17 23:48:47.338666\n",
      "Initialized\n",
      "Minibatch loss @ step 0: 3666.44 .Accuracy Minibatch / Validation : 8.6% / 25.5%\n",
      "Minibatch loss @ step 500: 21.34 .Accuracy Minibatch / Validation : 85.2% / 83.7%\n",
      "Minibatch loss @ step 1000: 1.04 .Accuracy Minibatch / Validation : 79.7% / 82.7%\n",
      "Minibatch loss @ step 1500: 0.67 .Accuracy Minibatch / Validation : 85.2% / 83.1%\n",
      "Minibatch loss @ step 2000: 0.67 .Accuracy Minibatch / Validation : 90.6% / 82.9%\n",
      "Minibatch loss @ step 2500: 0.76 .Accuracy Minibatch / Validation : 83.6% / 83.2%\n",
      "Minibatch loss @ step 3000: 0.84 .Accuracy Minibatch / Validation : 82.0% / 83.0%\n",
      "Test accuracy: 89.8%\n",
      " Following training sets has been tried . Range Set Size 3001\n",
      " Training with deep neural netowrk 1 hidden layer, 1024 node. Time taken  0:02:15.138192\n"
     ]
    },
    {
     "data": {
      "image/png": "[encoded data removed]",
      "text/plain": [
       "<matplotlib.figure.Figure at 0x7fc1aa5dff10>"
      ]
     },
     "metadata": {},
     "output_type": "display_data"
    },
    {
     "name": "stdout",
     "output_type": "stream",
     "text": [
      ". Sample 10 Ranges are :  ['104832-104960', '48512-48640', '183488-183616', '44480-44608', '94528-94656', '17792-17920', '42368-42496', '9600-9728', '95680-95808', '169920-170048']\n"
     ]
    }
   ],
   "source": [
    "run_NN(batch_size = 128, num_hidden = 1024, beta = 0.01,\\\n",
    "            overfitting_prevention_startegy_regularisation  = 'Yes',\\\n",
    "            overfitting_prevention_startegy_dropout  = 'Yes', num_steps = num_steps\\\n",
    "      )"
   ]
  },
  {
   "cell_type": "code",
   "execution_count": 174,
   "metadata": {
    "collapsed": false
   },
   "outputs": [
    {
     "name": "stdout",
     "output_type": "stream",
     "text": [
      "batch_size =  128  num_hidden =  1024  beta =  0.01\n",
      "no dropout\n",
      "no dropout\n",
      "no dropout\n",
      "regularisation\n",
      "Deep Neural Network with 1 Hidden layer with 1024 hidden nodes -\n",
      "Yes Regularisation\n",
      "No Dropout\n",
      "Initialisation complete 2017-01-17 23:52:38.216992\n",
      "Initialized\n",
      "Minibatch loss @ step 0: 3519.76 .Accuracy Minibatch / Validation : 5.5% / 32.5%\n",
      "Minibatch loss @ step 500: 21.21 .Accuracy Minibatch / Validation : 89.8% / 84.2%\n",
      "Minibatch loss @ step 1000: 0.95 .Accuracy Minibatch / Validation : 81.2% / 83.2%\n",
      "Minibatch loss @ step 1500: 0.58 .Accuracy Minibatch / Validation : 86.7% / 83.6%\n",
      "Minibatch loss @ step 2000: 0.61 .Accuracy Minibatch / Validation : 90.6% / 83.4%\n",
      "Minibatch loss @ step 2500: 0.72 .Accuracy Minibatch / Validation : 84.4% / 83.3%\n",
      "Minibatch loss @ step 3000: 0.76 .Accuracy Minibatch / Validation : 80.5% / 83.4%\n",
      "Test accuracy: 90.3%\n",
      " Following training sets has been tried . Range Set Size 3001\n",
      " Training with deep neural netowrk 1 hidden layer, 1024 node. Time taken  0:02:08.081631\n"
     ]
    },
    {
     "data": {
      "image/png": "[encoded data removed]",
      "text/plain": [
       "<matplotlib.figure.Figure at 0x7fc19339b2d0>"
      ]
     },
     "metadata": {},
     "output_type": "display_data"
    },
    {
     "name": "stdout",
     "output_type": "stream",
     "text": [
      ". Sample 10 Ranges are :  ['104832-104960', '48512-48640', '183488-183616', '44480-44608', '94528-94656', '17792-17920', '42368-42496', '9600-9728', '95680-95808', '169920-170048']\n"
     ]
    }
   ],
   "source": [
    "run_NN(batch_size = 128, num_hidden = 1024, beta = 0.01,\\\n",
    "            overfitting_prevention_startegy_regularisation  = 'Yes',\\\n",
    "            overfitting_prevention_startegy_dropout  = 'No', num_steps = num_steps\\\n",
    "      )"
   ]
  },
  {
   "cell_type": "markdown",
   "metadata": {
    "colab_type": "text",
    "id": "-b1hTz3VWZjw"
   },
   "source": [
    "---\n",
    "Problem 4\n",
    "---------\n",
    "\n",
    "Try to get the best performance you can using a multi-layer model! The best reported test accuracy using a deep network is [97.1%](http://yaroslavvb.blogspot.com/2011/09/notmnist-dataset.html?showComment=1391023266211#c8758720086795711595).\n",
    "\n",
    "One avenue you can explore is to add multiple layers.\n",
    "\n",
    "Another one is to use learning rate decay:\n",
    "\n",
    "    global_step = tf.Variable(0)  # count the number of steps taken.\n",
    "    learning_rate = tf.train.exponential_decay(0.5, global_step, ...)\n",
    "    optimizer = tf.train.GradientDescentOptimizer(learning_rate).minimize(loss, global_step=global_step)\n",
    " \n",
    " ---\n"
   ]
  },
  {
   "cell_type": "code",
   "execution_count": 12,
   "metadata": {
    "collapsed": false
   },
   "outputs": [
    {
     "name": "stdout",
     "output_type": "stream",
     "text": [
      "Deep Learning 2 hidden layer model initialisation complete 2017-02-06 21:07:54.161074\n"
     ]
    }
   ],
   "source": [
    "import datetime\n",
    "import tensorflow as tf \n",
    "\n",
    "collect_accuracy_at_batch_interval_of = 500\n",
    "# Training computation.\n",
    "def loss_function_no_regularisation_1_hidden_layer(logits, tf_labels_train):\n",
    "  #print('no regularisation')\n",
    "  return tf.reduce_mean(tf.nn.softmax_cross_entropy_with_logits(logits, tf_labels_train))\n",
    "\n",
    "def loss_function_with_regularisation_1_hidden_layer(logits, tf_labels_train, weights_for_hidden,weights,  beta):\n",
    "  print('regularisation')\n",
    "  regularisation_term = tf.nn.l2_loss(weights_for_hidden) + tf.nn.l2_loss(weights)\n",
    "  return (( loss_function_no_regularisation(logits, tf_labels_train ) + beta * regularisation_term))\n",
    "\n",
    "def forwardprop_no_dropout(tf_dataset,weights_for_hidden, biases_for_hidden ):\n",
    "  #print('no dropout')  \n",
    "  #return tf.nn.softmax(tf.nn.relu(tf.matmul(tf_dataset, weights_for_hidden ) + biases_for_hidden))\n",
    "  return (tf.nn.relu(tf.matmul(tf_dataset, weights_for_hidden ) + biases_for_hidden))\n",
    "\n",
    "# IMP: must not be done for validation or testing set\n",
    "def forwardprop_dropout_for_training_data_only(tf_train_dataset,weights_for_hidden, biases_for_hidden, dropout_examples_by = 0.5 ):\n",
    "  print('dropout')    \n",
    "  return (tf.nn.dropout( forwardprop_no_dropout(tf_train_dataset,weights_for_hidden, biases_for_hidden ), dropout_examples_by ))\n",
    "\n",
    "def forwardprop( dataset, weight, biases, overfitting_prevention_startegy_dropout  ):\n",
    "    return  forwardprop_dropout_for_training_data_only( dataset, weight, biases ) \\\n",
    "                if overfitting_prevention_startegy_dropout == 'Yes' else\\\n",
    "            forwardprop_no_dropout( dataset, weight, biases )\n",
    "\n",
    "def get_cost_function(logits, weights, tf_labels_train , beta_regularisation_coef, overfitting_prevention_startegy_regularisation ):\n",
    "    if  overfitting_prevention_startegy_regularisation == 'Yes':\n",
    "        print('Regularisation implemented')\n",
    "        regularisation_term = tf.nn.l2_loss(weights['hidden_1']) + tf.nn.l2_loss(weights['hidden_2']) + tf.nn.l2_loss(weights['output'])  \n",
    "        return tf.reduce_mean(tf.nn.sigmoid_cross_entropy_with_logits(logits, tf_labels_train) ) + beta_regularisation_coef * regularisation_term\n",
    "    else:\n",
    "        #print('no Regularisation implemented')\n",
    "        return  tf.reduce_mean(tf.nn.sigmoid_cross_entropy_with_logits(logits, tf_labels_train) )\n",
    "\n",
    "                               \n",
    "def run_NN_custom(batch_size = 256, num_hidden_nodes_1 = 1024\n",
    "                  ,num_hidden_nodes_2 = 12\n",
    "                  ,beta_regularisation_coef = 0.1,\\\n",
    "            overfitting_prevention_startegy_regularisation  = 'No',\\\n",
    "            overfitting_prevention_startegy_dropout  = 'Yes',\\\n",
    "            learning_rate = 0.01, num_steps = 1001, limit_train_size_to  = '' ):\n",
    "    print('batch_size = ',batch_size,' num_hidden_nodes_1 = ', num_hidden_nodes_1, ' beta = ', beta_regularisation_coef )\n",
    "    graph = tf.Graph()\n",
    "    with graph.as_default():\n",
    "\n",
    "      # Input data. Unlike in earlier gradient descent, now we can take the whole data.\n",
    "      # With gradient descent, we could not process all the input data and we had poor accuracy\n",
    "      # For the training data, we use a placeholder that will be fed\n",
    "      # at run time with a training minibatch.\n",
    "      tf_datasets = {\n",
    "          'train' : tf.placeholder(tf.float32,  shape=(batch_size, image_size * image_size)),\n",
    "          'valid' : tf.constant(valid_dataset) ,\n",
    "          'test'  : tf.constant(test_dataset)\n",
    "      }\n",
    "      tf_labels = {\n",
    "          'train' : tf.placeholder(tf.float32, shape=(batch_size, num_labels))           \n",
    "      }\n",
    "      \n",
    "      # Variables.\n",
    "      weights = {\n",
    "          'hidden_1' : tf.Variable(tf.truncated_normal([ image_size * image_size , num_hidden_nodes_1])) ,\n",
    "          'hidden_2' : tf.Variable(tf.truncated_normal([ num_hidden_nodes_1 , num_hidden_nodes_2])) ,\n",
    "          'output'   : tf.Variable( tf.truncated_normal([num_hidden_nodes_2, num_labels]))\n",
    "      }\n",
    "        \n",
    "      biases = {\n",
    "          'hidden_1' : tf.Variable(tf.zeros([num_hidden_nodes_1])) ,\n",
    "          'hidden_2' : tf.Variable(tf.zeros([num_hidden_nodes_2])) ,\n",
    "          'output'   : tf.Variable(tf.zeros([num_labels]))\n",
    "      }  \n",
    "      \n",
    "          \n",
    "                #       if overfitting_prevention_startegy_dropout == 'Yes':            \n",
    "                #         hidden_layers1 = forwardprop_dropout_for_training_data_only(\\\n",
    "                #                 tf_datasets['train'],weights['hidden_1'], biases['hidden_1'] , dropout_examples_by = 0.5 )\n",
    "                #                                 #hidden_layers1_op = tf.nn.softmax(hidden1_layer_with_50_percent_examples_dropped_out)        \n",
    "                #         hidden_layers2 = forwardprop_dropout_for_training_data_only(\\\n",
    "                #                         hidden_layers1, weights['hidden_2'], biases['hidden_2'], dropout_examples_by = 0.5 )\n",
    "\n",
    "                #       else:\n",
    "      hidden_layers1 ={\n",
    "         'train' : forwardprop (tf_datasets['train'], weights['hidden_1'] , biases['hidden_1'] , overfitting_prevention_startegy_dropout) ,\n",
    "         'valid' : forwardprop_no_dropout (tf_datasets['valid'], weights['hidden_1'],  biases['hidden_1']) ,\n",
    "         'test'  : forwardprop_no_dropout (tf_datasets['test'],  weights['hidden_1'],  biases['hidden_1'])\n",
    "      }  \n",
    "    \n",
    "      hidden_layers2 = {\n",
    "        'train' : forwardprop (hidden_layers1['train'], weights['hidden_2'] , biases['hidden_2'],  overfitting_prevention_startegy_dropout) ,\n",
    "        'valid' : forwardprop_no_dropout (hidden_layers1['valid'] ,weights['hidden_2'],  biases['hidden_2']) ,\n",
    "        'test'  : forwardprop_no_dropout (hidden_layers1['test'] , weights['hidden_2'],  biases['hidden_2'])\n",
    "     }             \n",
    "     \n",
    "      # Training computation.        \n",
    "             \n",
    "              #logits = tf.matmul(hidden_layers2, weights['output'] ) + biases['output']\n",
    "                ## equivalent to\n",
    "      logits = tf.add( tf.matmul(hidden_layers2['train'], weights['output'] ) , biases['output'] )    \n",
    "      \n",
    "              #logits = logits + e      \n",
    "              #loss = tf.reduce_mean( -tf.reduce_sum( tf_labels['train'] * tf.log(tf.nn.softmax(logits)), reduction_indices = [1]) )\n",
    "############# Loss Function\n",
    "              #loss =  tf.reduce_mean( -tf.reduce_sum( tf_labels['train'] * (tf.log(tf.nn.softmax(logits) + 1e-10 )) ) )  ## avoid nan due to 0 * log(0)  \n",
    "      \n",
    "              #loss =  -tf.reduce_sum( tf_labels['train'] * (tf.log(tf.nn.softmax(logits) + 1e-10 )) )  ## avoid nan due to 0 * log(0)  \n",
    "              #cost_function =   tf.log(logits + 1e-50)\n",
    "              #tf.Print( cost_function, [cost_function] , \"cost\") ## debug runtime tensorflow\n",
    "\n",
    "              #loss = tf.reduce_mean( -tf.reduce_sum( tf_labels['train'] * (tf.nn.log_softmax(logits)), reduction_indices = [1]) )\n",
    "\n",
    "              # clippign is bad idea\n",
    "              #loss = tf.reduce_mean( -tf.reduce_sum( tf_labels['train'] * tf.log(tf.clip_by_value(softmax , 1e-10,1.0) ), reduction_indices = [1]) )\n",
    "              #loss =  tf.reduce_mean((logits, tf_labels['train']))\n",
    "              #cost =  tf.reduce_mean((logits, tf_labels['train']))    # nan    \n",
    "      #regularisation_term = tf.nn.l2_loss(weights['hidden_1']) + tf.nn.l2_loss(weights['hidden_2']) + tf.nn.l2_loss(weights['output'])  \n",
    "    \n",
    "                  #cost =  tf.reduce_mean(tf.nn.sigmoid_cross_entropy_with_logits(logits, tf_labels['train'])) \n",
    "      #cost =  tf.reduce_mean(tf.nn.sigmoid_cross_entropy_with_logits(logits, tf_labels['train'])) \\\n",
    "      #              + beta_regularisation_coef * regularisation_term\n",
    "      cost = get_cost_function(logits, weights, tf_labels['train'] , beta_regularisation_coef,  overfitting_prevention_startegy_regularisation )\n",
    "      \n",
    "\n",
    "      #### Optimizer.\n",
    "          #optimizer = tf.train.GradientDescentOptimizer(0.5).minimize(cost)  \n",
    "      optimizer = tf.train.AdamOptimizer(learning_rate).minimize(cost)  \n",
    "\n",
    "      #### Predictions for the training, validation, and test data.\n",
    "      predictions ={\n",
    "          'train' : tf.nn.softmax(logits) ,\n",
    "          'valid' : tf.nn.softmax(tf.matmul(hidden_layers2['valid'] , weights['output']) + biases['output']) ,\n",
    "          'test'  : tf.nn.softmax(tf.matmul(hidden_layers2['test'] , weights['output']) + biases['output'])\n",
    "      }\n",
    "    \n",
    "    print('Deep Neural Network with 1 Hidden layer with 1024 hidden nodes -')\n",
    "    print(overfitting_prevention_startegy_regularisation+' Regularisation')\n",
    "    print(overfitting_prevention_startegy_dropout+' Dropout')\n",
    "    print('Initialisation complete', datetime.datetime.now())\n",
    "    #return graph\n",
    "\n",
    "#def run_NN( num_steps = 3001, limit_train_size_to  = ''):    \n",
    "    if limit_train_size_to == '':\n",
    "        # consider all train data\n",
    "        limit_train_size_to = train_dataset.shape[0]\n",
    "    train_dataset_limited_to = train_dataset[0:limit_train_size_to,:]\n",
    "    train_labels_limited_to = train_labels[0:limit_train_size_to,:]\n",
    "    accuracy_all = np.ndarray(shape = (1 + num_steps/collect_accuracy_at_batch_interval_of, 4), dtype = np.float32)\n",
    "    offset_range = set()\n",
    "\n",
    "    start = datetime.datetime.now()\n",
    "    with tf.Session(graph=graph) as session:\n",
    "      tf.initialize_all_variables().run()\n",
    "      print('')\n",
    "      print(\"Initialized\")        \n",
    "      for step in range(num_steps):\n",
    "                                # Pick an offset within the training data, which has been randomized.\n",
    "                                # Note: we could use better randomization across epochs.\n",
    "        offset = (step * batch_size) % (train_labels_limited_to.shape[0] - batch_size)\n",
    "        offset_range.add(str(offset) + '-' + str(offset + batch_size))\n",
    "                                # Generate a minibatch.\n",
    "        batch = {\n",
    "            'data'   : train_dataset_limited_to[offset:(offset + batch_size), :] ,\n",
    "            'labels' : train_labels_limited_to[offset:(offset + batch_size), :]\n",
    "        }\n",
    "        \n",
    "                                # Prepare a dictionary telling the session where to feed the minibatch.\n",
    "                                # The key of the dictionary is the placeholder node of the graph to be fed,\n",
    "                                # and the value is the numpy array to feed to it.\n",
    "        feed_dict = { tf_datasets['train'] : batch['data'], tf_labels['train'] : batch['labels'] }\n",
    "        _, l, predictions_train = session.run([optimizer, cost, predictions['train']], feed_dict=feed_dict)        \n",
    "        if (step % collect_accuracy_at_batch_interval_of == 0):\n",
    "          print('Step @ ', step)            \n",
    "                                          #print('    predictions size', (predictions['train'].shape), 'prediction for 5', predictions[train][0] )\n",
    "                                          #print('    batch_labels size', (batch_labels.shape), 'batch_labels for 5', batch_labels[0] )\n",
    "          accuracy_of = {\n",
    "              'train' : accuracy( predictions_train, batch['labels'] ) ,\n",
    "              'valid' : accuracy( predictions['valid'].eval(), valid_labels) ,\n",
    "              'test'  : accuracy(predictions['test'].eval(), test_labels)               \n",
    "          }      \n",
    "        \n",
    "          accuracy_all[step /collect_accuracy_at_batch_interval_of, :  ] = \\\n",
    "                        [ (step+1) * batch_size, accuracy_of['train'], accuracy_of['valid'], accuracy_of['test'] ]\n",
    "          print(\"    Minibatch @ step %d. Loss: %.2f. Accuracy Minibatch / Validation / Test : %.1f%% / %.1f%% / %.1f%% \" \\\n",
    "                        %(step, l, accuracy_of['train'], accuracy_of['valid'], accuracy_of['test']) )            \n",
    "      session.close()  \n",
    "      print(\"Final Test accuracy: %.1f%%\" % accuracy_of['test'])\n",
    "    \n",
    "    print('')\n",
    "    print(' Following training sets has been tried . Range Set Size',len(offset_range) )\n",
    "    print(' Training with deep neural netowrk 1 hidden layer, 1024 node. Time taken ', datetime.datetime.now() - start )\n",
    "    print('. Sample 10 Ranges are : ', list(offset_range)[0:10] )\n",
    "                                                        #print(accuracy_all)\n",
    "                                                        #plot_accuracy(accuracy_all)\n",
    "print('Deep Learning 2 hidden layer model initialisation complete', datetime.datetime.now())"
   ]
  },
  {
   "cell_type": "code",
   "execution_count": 58,
   "metadata": {
    "collapsed": false
   },
   "outputs": [
    {
     "name": "stdout",
     "output_type": "stream",
     "text": [
      "batch_size =  1280  num_hidden_nodes_1 =  2048  beta =  0.01\n",
      "Regularisation implemented\n",
      "Deep Neural Network with 1 Hidden layer with 1024 hidden nodes -\n",
      "Yes Regularisation\n",
      "No Dropout\n",
      "Initialisation complete 2017-01-23 06:52:03.187061\n",
      "\n",
      "Initialized\n",
      "Step @  0\n",
      "    Minibatch @ step 0. Loss: 1737.95. Accuracy Minibatch / Validation / Test : 7.5% / 9.6% / 9.3% \n",
      "Step @  500\n",
      "    Minibatch @ step 500. Loss: 184.82. Accuracy Minibatch / Validation / Test : 84.7% / 82.9% / 89.7% \n",
      "Step @  1000\n",
      "    Minibatch @ step 1000. Loss: 164.64. Accuracy Minibatch / Validation / Test : 87.4% / 84.5% / 91.1% \n",
      "Step @  1500\n",
      "    Minibatch @ step 1500. Loss: 150.40. Accuracy Minibatch / Validation / Test : 90.8% / 85.3% / 91.4% \n",
      "Final Test accuracy: 91.4%\n",
      "\n",
      " Following training sets has been tried . Range Set Size 621\n",
      " Training with deep neural netowrk 1 hidden layer, 1024 node. Time taken  0:26:26.637773\n",
      ". Sample 10 Ranges are :  ['131840-133120', '149120-150400', '75840-77120', '34240-35520', '58560-59840', '91840-93120', '136320-137600', '69120-70400', '114240-115520', '25280-26560']\n",
      "Sucessfully Completed @  2017-01-23 07:18:29.896495\n"
     ]
    }
   ],
   "source": [
    "    \n",
    "# Best Case\n",
    "run_NN_custom(batch_size = 1280, num_hidden_nodes_1 = 2048\\\n",
    "                  ,num_hidden_nodes_2 = 1000\n",
    "                  ,beta_regularisation_coef = 0.0001,\\\n",
    "            overfitting_prevention_startegy_regularisation  = 'Yes',\\\n",
    "            overfitting_prevention_startegy_dropout  = 'No',\\\n",
    "            learning_rate = 0.001, num_steps = 1501 )\n",
    "print( 'Sucessfully Completed @ ', datetime.datetime.now() )\n"
   ]
  },
  {
   "cell_type": "code",
   "execution_count": 9,
   "metadata": {
    "collapsed": false
   },
   "outputs": [
    {
     "name": "stdout",
     "output_type": "stream",
     "text": [
      "batch_size =  1280  num_hidden_nodes_1 =  2048  beta =  0.0001\n",
      "dropout\n",
      "dropout\n",
      "Regularisation implemented\n",
      "Deep Neural Network with 1 Hidden layer with 1024 hidden nodes -\n",
      "Yes Regularisation\n",
      "Yes Dropout\n",
      "Initialisation complete 2017-02-02 04:55:37.062919\n",
      "\n",
      "Initialized\n",
      "Step @  0\n",
      "    Minibatch @ step 0. Loss: 5086.71. Accuracy Minibatch / Validation / Test : 9.5% / 7.6% / 7.4% \n",
      "Step @  500\n",
      "    Minibatch @ step 500. Loss: 314.00. Accuracy Minibatch / Validation / Test : 73.8% / 82.3% / 89.6% \n",
      "Step @  1000\n",
      "    Minibatch @ step 1000. Loss: 211.52. Accuracy Minibatch / Validation / Test : 74.1% / 81.6% / 89.1% \n",
      "Step @  1500\n",
      "    Minibatch @ step 1500. Loss: 175.51. Accuracy Minibatch / Validation / Test : 73.2% / 79.5% / 86.7% \n",
      "Final Test accuracy: 86.7%\n",
      "\n",
      " Following training sets has been tried . Range Set Size 621\n",
      " Training with deep neural netowrk 1 hidden layer, 1024 node. Time taken  0:25:52.885183\n",
      ". Sample 10 Ranges are :  ['131840-133120', '149120-150400', '75840-77120', '34240-35520', '58560-59840', '91840-93120', '136320-137600', '69120-70400', '114240-115520', '25280-26560']\n"
     ]
    }
   ],
   "source": [
    "#### Trying Other cases too..\n",
    "run_NN_custom(batch_size = 1280, num_hidden_nodes_1 = 2048\\\n",
    "                  ,num_hidden_nodes_2 = 1000\n",
    "                  ,beta_regularisation_coef = 0.0001,\\\n",
    "            overfitting_prevention_startegy_regularisation  = 'Yes',\\\n",
    "            overfitting_prevention_startegy_dropout  = 'Yes',\\\n",
    "            learning_rate = 0.001, num_steps = 1501 )"
   ]
  },
  {
   "cell_type": "code",
   "execution_count": 10,
   "metadata": {
    "collapsed": false
   },
   "outputs": [
    {
     "name": "stdout",
     "output_type": "stream",
     "text": [
      "batch_size =  2560  num_hidden_nodes_1 =  2048  beta =  0.0001\n",
      "dropout\n",
      "dropout\n",
      "Regularisation implemented\n",
      "Deep Neural Network with 1 Hidden layer with 1024 hidden nodes -\n",
      "Yes Regularisation\n",
      "Yes Dropout\n",
      "Initialisation complete 2017-02-02 05:31:42.669230\n",
      "\n",
      "Initialized\n",
      "Step @  0\n",
      "    Minibatch @ step 0. Loss: 5473.27. Accuracy Minibatch / Validation / Test : 8.3% / 7.6% / 7.4% \n",
      "Step @  500\n",
      "    Minibatch @ step 500. Loss: 303.13. Accuracy Minibatch / Validation / Test : 74.9% / 82.2% / 89.6% \n",
      "Step @  1000\n",
      "    Minibatch @ step 1000. Loss: 205.76. Accuracy Minibatch / Validation / Test : 74.5% / 81.2% / 88.9% \n",
      "Step @  1500\n",
      "    Minibatch @ step 1500. Loss: 169.22. Accuracy Minibatch / Validation / Test : 72.5% / 78.7% / 86.1% \n",
      "Final Test accuracy: 86.1%\n",
      "\n",
      " Following training sets has been tried . Range Set Size 617\n",
      " Training with deep neural netowrk 1 hidden layer, 1024 node. Time taken  0:43:38.251520\n",
      ". Sample 10 Ranges are :  ['74880-77440', '106240-108800', '179200-181760', '23360-25920', '58240-60800', '61120-63680', '36800-39360', '56960-59520', '80960-83520', '109120-111680']\n"
     ]
    }
   ],
   "source": [
    "run_NN_custom(batch_size = 2560, num_hidden_nodes_1 = 2048\\\n",
    "                  ,num_hidden_nodes_2 = 1000\n",
    "                  ,beta_regularisation_coef = 0.0001,\\\n",
    "            overfitting_prevention_startegy_regularisation  = 'Yes',\\\n",
    "            overfitting_prevention_startegy_dropout  = 'Yes',\\\n",
    "            learning_rate = 0.001, num_steps = 1501 )"
   ]
  },
  {
   "cell_type": "code",
   "execution_count": 11,
   "metadata": {
    "collapsed": false
   },
   "outputs": [
    {
     "name": "stdout",
     "output_type": "stream",
     "text": [
      "batch_size =  5120  num_hidden_nodes_1 =  2048  beta =  0.0001\n",
      "dropout\n",
      "dropout\n",
      "Regularisation implemented\n",
      "Deep Neural Network with 1 Hidden layer with 1024 hidden nodes -\n",
      "Yes Regularisation\n",
      "Yes Dropout\n",
      "Initialisation complete 2017-02-02 21:08:31.279159\n",
      "\n",
      "Initialized\n",
      "Step @  0\n",
      "    Minibatch @ step 0. Loss: 5057.24. Accuracy Minibatch / Validation / Test : 9.8% / 9.1% / 8.8% \n",
      "Step @  500\n",
      "    Minibatch @ step 500. Loss: 281.70. Accuracy Minibatch / Validation / Test : 74.1% / 82.3% / 89.8% \n",
      "Step @  1000\n",
      "    Minibatch @ step 1000. Loss: 191.86. Accuracy Minibatch / Validation / Test : 74.7% / 81.0% / 87.5% \n",
      "Step @  1500\n",
      "    Minibatch @ step 1500. Loss: 160.35. Accuracy Minibatch / Validation / Test : 70.1% / 76.6% / 83.7% \n",
      "Final Test accuracy: 83.7%\n",
      "\n",
      " Following training sets has been tried . Range Set Size 609\n",
      " Training with deep neural netowrk 1 hidden layer, 1024 node. Time taken  1:51:45.474582\n",
      ". Sample 10 Ranges are :  ['130240-135360', '73600-78720', '146240-151360', '6720-11840', '92480-97600', '130880-136000', '27200-32320', '162880-168000', '119680-124800', '40000-45120']\n"
     ]
    }
   ],
   "source": [
    "run_NN_custom(batch_size = 5120, num_hidden_nodes_1 = 2048\\\n",
    "                  ,num_hidden_nodes_2 = 1000\n",
    "                  ,beta_regularisation_coef = 0.0001,\\\n",
    "            overfitting_prevention_startegy_regularisation  = 'Yes',\\\n",
    "            overfitting_prevention_startegy_dropout  = 'Yes',\\\n",
    "            learning_rate = 0.001, num_steps = 1501 )"
   ]
  },
  {
   "cell_type": "markdown",
   "metadata": {},
   "source": [
    "**Vanishing Gradient Problem** "
   ]
  },
  {
   "cell_type": "raw",
   "metadata": {},
   "source": [
    "------- Vanishing Gradient Problem @ Deep Networks\n",
    "Step @  0\n",
    "    predictions size (128, 10) prediction for 5 [ 0.  0.  0.  0.  0.  0.  0.  0.  1.  0.]    \n",
    "    batch_labels size (128, 10) batch_labels for 5 [ 0.  0.  0.  0.  1.  0.  0.  0.  0.  0.]    \n",
    "    Minibatch loss @ step 0: 2102.19 .Accuracy Minibatch / Validation : 8.6% / 11.4%\n",
    "    \n",
    "Step @  500\n",
    "    predictions size (128, 10) prediction for 5 [ nan  nan  nan  nan  nan  nan  nan  nan  nan  nan]    \n",
    "    batch_labels size (128, 10) batch_labels for 5 [ 0.  0.  0.  0.  0.  0.  0.  0.  1.  0.]    \n",
    "    Minibatch loss @ step 500: nan .Accuracy Minibatch / Validation : 9.4% / 10.0%\n",
    "    \n",
    "**Imp Note :** Seems like our algorithm is suffering from  Vanishing Gradient problem. When thenetwork is deep, the gradient in the loss function becomes very small and this can cause NaN values. .Input of the 2nd layer should not be the softmax of the output of the first  layer. If so, we will be killing the gradient and hence nothing can flow through the second layer and hence \"nan\".\n",
    "\n",
    "Ref : Sample n layer implementation code, to understand better and for clarity\n",
    "import tensorflow as tf\n",
    "x = tf.placeholder(tf.float32, [None, 784])\n",
    "\n",
    "#layer 1\n",
    "W1 = tf.Variable(tf.zeros([784, 100]))\n",
    "b1 = tf.Variable(tf.zeros([100]))\n",
    "y1 = tf.matmul(x, W1) + b1 #remove softmax\n",
    "\n",
    "#layer 2\n",
    "W2 = tf.Variable(tf.zeros([100, 10]))\n",
    "b2 = tf.Variable(tf.zeros([10]))\n",
    "y2 = tf.nn.softmax(tf.matmul(y1, W2) + b2)\n",
    "\n",
    "#output\n",
    "y = y2\n",
    "y_ = tf.placeholder(tf.float32, [None, 10])"
   ]
  },
  {
   "cell_type": "markdown",
   "metadata": {},
   "source": [
    "**Batch Size : 10 -500 is generally recommended. See https://bikalblogs.wordpress.com/2017/02/03/batch-size/**"
   ]
  },
  {
   "cell_type": "code",
   "execution_count": 17,
   "metadata": {
    "collapsed": false
   },
   "outputs": [
    {
     "name": "stdout",
     "output_type": "stream",
     "text": [
      "batch_size =  128  num_hidden_nodes_1 =  2048  beta =  0.0001\n",
      "Regularisation implemented\n",
      "Deep Neural Network with 1 Hidden layer with 1024 hidden nodes -\n",
      "Yes Regularisation\n",
      "No Dropout\n",
      "Initialisation complete 2017-02-06 21:52:16.657681\n",
      "\n",
      "Initialized\n",
      "Step @  0\n",
      "    Minibatch @ step 0. Loss: 3037.01. Accuracy Minibatch / Validation / Test : 6.2% / 9.1% / 9.1% \n",
      "Step @  500\n",
      "    Minibatch @ step 500. Loss: 203.47. Accuracy Minibatch / Validation / Test : 84.4% / 80.7% / 88.0% \n",
      "Step @  1000\n",
      "    Minibatch @ step 1000. Loss: 198.93. Accuracy Minibatch / Validation / Test : 78.9% / 82.4% / 89.5% \n",
      "Step @  1500\n",
      "    Minibatch @ step 1500. Loss: 163.48. Accuracy Minibatch / Validation / Test : 89.1% / 83.6% / 90.5% \n",
      "Step @  2000\n",
      "    Minibatch @ step 2000. Loss: 159.41. Accuracy Minibatch / Validation / Test : 91.4% / 84.0% / 91.2% \n",
      "Step @  2500\n",
      "    Minibatch @ step 2500. Loss: 160.82. Accuracy Minibatch / Validation / Test : 85.9% / 84.6% / 91.5% \n",
      "Step @  3000\n",
      "    Minibatch @ step 3000. Loss: 161.96. Accuracy Minibatch / Validation / Test : 83.6% / 84.7% / 91.6% \n",
      "Step @  3500\n",
      "    Minibatch @ step 3500. Loss: 156.50. Accuracy Minibatch / Validation / Test : 85.2% / 84.9% / 91.7% \n",
      "Step @  4000\n",
      "    Minibatch @ step 4000. Loss: 147.80. Accuracy Minibatch / Validation / Test : 89.8% / 85.1% / 91.9% \n",
      "Step @  4500\n",
      "    Minibatch @ step 4500. Loss: 139.17. Accuracy Minibatch / Validation / Test : 91.4% / 85.2% / 92.0% \n",
      "Step @  5000\n",
      "    Minibatch @ step 5000. Loss: 140.20. Accuracy Minibatch / Validation / Test : 91.4% / 85.7% / 92.3% \n",
      "Final Test accuracy: 92.3%\n",
      "\n",
      " Following training sets has been tried . Range Set Size 3123\n",
      " Training with deep neural netowrk 1 hidden layer, 1024 node. Time taken  0:12:10.622087\n",
      ". Sample 10 Ranges are :  ['104832-104960', '48512-48640', '183488-183616', '44480-44608', '94528-94656', '17792-17920', '42368-42496', '9600-9728', '95680-95808', '169920-170048']\n"
     ]
    }
   ],
   "source": [
    "run_NN_custom(batch_size = 128, num_hidden_nodes_1 = 2048\\\n",
    "                  ,num_hidden_nodes_2 = 1000\n",
    "                  ,beta_regularisation_coef = 0.0001,\\\n",
    "            overfitting_prevention_startegy_regularisation  = 'Yes',\\\n",
    "            overfitting_prevention_startegy_dropout  = 'No',\\\n",
    "            learning_rate = 0.001, num_steps = 5001 )"
   ]
  },
  {
   "cell_type": "code",
   "execution_count": 20,
   "metadata": {
    "collapsed": false
   },
   "outputs": [
    {
     "name": "stdout",
     "output_type": "stream",
     "text": [
      "batch_size =  50  num_hidden_nodes_1 =  2048  beta =  0.0001\n",
      "Regularisation implemented\n",
      "Deep Neural Network with 1 Hidden layer with 1024 hidden nodes -\n",
      "Yes Regularisation\n",
      "No Dropout\n",
      "Initialisation complete 2017-02-06 22:13:41.820437\n",
      "\n",
      "Initialized\n",
      "Step @  0\n",
      "    Minibatch @ step 0. Loss: 3186.09. Accuracy Minibatch / Validation / Test : 12.0% / 12.2% / 12.5% \n",
      "Step @  500\n",
      "    Minibatch @ step 500. Loss: 192.33. Accuracy Minibatch / Validation / Test : 84.0% / 79.6% / 87.1% \n",
      "Step @  1000\n",
      "    Minibatch @ step 1000. Loss: 211.71. Accuracy Minibatch / Validation / Test : 78.0% / 81.3% / 88.5% \n",
      "Step @  1500\n",
      "    Minibatch @ step 1500. Loss: 191.62. Accuracy Minibatch / Validation / Test : 78.0% / 82.1% / 89.5% \n",
      "Step @  2000\n",
      "    Minibatch @ step 2000. Loss: 220.49. Accuracy Minibatch / Validation / Test : 68.0% / 82.4% / 89.7% \n",
      "Step @  2500\n",
      "    Minibatch @ step 2500. Loss: 166.55. Accuracy Minibatch / Validation / Test : 88.0% / 82.7% / 89.6% \n",
      "Step @  3000\n",
      "    Minibatch @ step 3000. Loss: 166.59. Accuracy Minibatch / Validation / Test : 82.0% / 83.4% / 90.0% \n",
      "Step @  3500\n",
      "    Minibatch @ step 3500. Loss: 174.38. Accuracy Minibatch / Validation / Test : 76.0% / 82.8% / 89.9% \n",
      "Step @  4000\n",
      "    Minibatch @ step 4000. Loss: 147.32. Accuracy Minibatch / Validation / Test : 88.0% / 83.3% / 90.2% \n",
      "Step @  4500\n",
      "    Minibatch @ step 4500. Loss: 142.87. Accuracy Minibatch / Validation / Test : 92.0% / 82.3% / 89.7% \n",
      "Step @  5000\n",
      "    Minibatch @ step 5000. Loss: 149.73. Accuracy Minibatch / Validation / Test : 80.0% / 82.5% / 89.5% \n",
      "Step @  5500\n",
      "    Minibatch @ step 5500. Loss: 142.39. Accuracy Minibatch / Validation / Test : 82.0% / 82.7% / 89.2% \n",
      "Step @  6000\n",
      "    Minibatch @ step 6000. Loss: 137.61. Accuracy Minibatch / Validation / Test : 90.0% / 82.4% / 89.5% \n",
      "Step @  6500\n",
      "    Minibatch @ step 6500. Loss: 135.14. Accuracy Minibatch / Validation / Test : 80.0% / 81.1% / 87.5% \n",
      "Step @  7000\n",
      "    Minibatch @ step 7000. Loss: 135.45. Accuracy Minibatch / Validation / Test : 78.0% / 79.6% / 86.2% \n",
      "Step @  7500\n",
      "    Minibatch @ step 7500. Loss: 131.44. Accuracy Minibatch / Validation / Test : 80.0% / 77.9% / 84.7% \n",
      "Step @  8000\n",
      "    Minibatch @ step 8000. Loss: 126.16. Accuracy Minibatch / Validation / Test : 76.0% / 75.7% / 82.8% \n",
      "Step @  8500\n",
      "    Minibatch @ step 8500. Loss: 121.49. Accuracy Minibatch / Validation / Test : 78.0% / 73.7% / 80.5% \n",
      "Step @  9000\n",
      "    Minibatch @ step 9000. Loss: 118.06. Accuracy Minibatch / Validation / Test : 78.0% / 71.5% / 78.5% \n",
      "Final Test accuracy: 78.5%\n",
      "\n",
      " Following training sets has been tried . Range Set Size 3999\n",
      " Training with deep neural netowrk 1 hidden layer, 1024 node. Time taken  0:12:57.364745\n",
      ". Sample 10 Ranges are :  ['86750-86800', '19000-19050', '136250-136300', '119450-119500', '86600-86650', '48550-48600', '137450-137500', '128900-128950', '114850-114900', '150100-150150']\n"
     ]
    }
   ],
   "source": [
    "run_NN_custom(batch_size = 50, num_hidden_nodes_1 = 2048\\\n",
    "                  ,num_hidden_nodes_2 = 1000\n",
    "                  ,beta_regularisation_coef = 0.0001,\\\n",
    "            overfitting_prevention_startegy_regularisation  = 'Yes',\\\n",
    "            overfitting_prevention_startegy_dropout  = 'No',\\\n",
    "            learning_rate = 0.001, num_steps = 9001 )"
   ]
  },
  {
   "cell_type": "code",
   "execution_count": 22,
   "metadata": {
    "collapsed": false
   },
   "outputs": [
    {
     "name": "stdout",
     "output_type": "stream",
     "text": [
      "batch_size =  256  num_hidden_nodes_1 =  2048  beta =  0.0001\n",
      "Regularisation implemented\n",
      "Deep Neural Network with 1 Hidden layer with 1024 hidden nodes -\n",
      "Yes Regularisation\n",
      "No Dropout\n",
      "Initialisation complete 2017-02-07 08:46:28.387805\n",
      "\n",
      "Initialized\n",
      "Step @  0\n",
      "    Minibatch @ step 0. Loss: 2443.22. Accuracy Minibatch / Validation / Test : 13.3% / 11.4% / 11.8% \n",
      "Step @  500\n",
      "    Minibatch @ step 500. Loss: 224.60. Accuracy Minibatch / Validation / Test : 78.5% / 81.5% / 88.8% \n",
      "Step @  1000\n",
      "    Minibatch @ step 1000. Loss: 173.51. Accuracy Minibatch / Validation / Test : 88.3% / 83.2% / 90.2% \n",
      "Step @  1500\n",
      "    Minibatch @ step 1500. Loss: 173.25. Accuracy Minibatch / Validation / Test : 87.9% / 84.1% / 91.2% \n",
      "Step @  2000\n",
      "    Minibatch @ step 2000. Loss: 160.44. Accuracy Minibatch / Validation / Test : 88.7% / 85.0% / 91.9% \n",
      "Step @  2500\n",
      "    Minibatch @ step 2500. Loss: 157.02. Accuracy Minibatch / Validation / Test : 86.7% / 85.4% / 92.1% \n",
      "Step @  3000\n",
      "    Minibatch @ step 3000. Loss: 150.28. Accuracy Minibatch / Validation / Test : 87.9% / 85.5% / 92.3% \n",
      "Step @  3500\n",
      "    Minibatch @ step 3500. Loss: 145.91. Accuracy Minibatch / Validation / Test : 92.6% / 86.0% / 92.6% \n",
      "Step @  4000\n",
      "    Minibatch @ step 4000. Loss: 140.43. Accuracy Minibatch / Validation / Test : 89.1% / 86.2% / 92.6% \n",
      "Step @  4500\n",
      "    Minibatch @ step 4500. Loss: 137.57. Accuracy Minibatch / Validation / Test : 91.0% / 86.0% / 92.7% \n",
      "Step @  5000\n",
      "    Minibatch @ step 5000. Loss: 133.38. Accuracy Minibatch / Validation / Test : 93.8% / 86.7% / 93.0% \n",
      "Step @  5500\n",
      "    Minibatch @ step 5500. Loss: 129.64. Accuracy Minibatch / Validation / Test : 93.8% / 86.9% / 93.0% \n",
      "Step @  6000\n",
      "    Minibatch @ step 6000. Loss: 125.07. Accuracy Minibatch / Validation / Test : 96.1% / 86.9% / 93.3% \n",
      "Step @  6500\n",
      "    Minibatch @ step 6500. Loss: 126.39. Accuracy Minibatch / Validation / Test : 93.8% / 86.8% / 93.0% \n",
      "Step @  7000\n",
      "    Minibatch @ step 7000. Loss: 119.67. Accuracy Minibatch / Validation / Test : 94.1% / 87.0% / 93.2% \n",
      "Step @  7500\n",
      "    Minibatch @ step 7500. Loss: 115.41. Accuracy Minibatch / Validation / Test : 97.7% / 87.0% / 93.3% \n",
      "Step @  8000\n",
      "    Minibatch @ step 8000. Loss: 113.91. Accuracy Minibatch / Validation / Test : 95.7% / 87.2% / 93.7% \n",
      "Step @  8500\n",
      "    Minibatch @ step 8500. Loss: 110.26. Accuracy Minibatch / Validation / Test : 97.7% / 87.5% / 93.8% \n",
      "Step @  9000\n",
      "    Minibatch @ step 9000. Loss: 107.50. Accuracy Minibatch / Validation / Test : 95.7% / 87.6% / 93.7% \n",
      "Step @  9500\n",
      "    Minibatch @ step 9500. Loss: 104.27. Accuracy Minibatch / Validation / Test : 96.1% / 87.6% / 93.9% \n",
      "Step @  10000\n",
      "    Minibatch @ step 10000. Loss: 101.15. Accuracy Minibatch / Validation / Test : 97.3% / 87.5% / 93.9% \n",
      "Step @  10500\n",
      "    Minibatch @ step 10500. Loss: 98.98. Accuracy Minibatch / Validation / Test : 96.5% / 88.1% / 94.2% \n",
      "Step @  11000\n",
      "    Minibatch @ step 11000. Loss: 95.70. Accuracy Minibatch / Validation / Test : 96.9% / 87.8% / 94.1% \n",
      "Step @  11500\n",
      "    Minibatch @ step 11500. Loss: 92.16. Accuracy Minibatch / Validation / Test : 96.1% / 88.3% / 94.1% \n",
      "Step @  12000\n",
      "    Minibatch @ step 12000. Loss: 88.73. Accuracy Minibatch / Validation / Test : 97.3% / 88.4% / 94.2% \n",
      "Step @  12500\n",
      "    Minibatch @ step 12500. Loss: 85.62. Accuracy Minibatch / Validation / Test : 97.7% / 88.4% / 94.3% \n",
      "Step @  13000\n",
      "    Minibatch @ step 13000. Loss: 82.99. Accuracy Minibatch / Validation / Test : 98.4% / 88.1% / 94.3% \n",
      "Step @  13500\n",
      "    Minibatch @ step 13500. Loss: 80.02. Accuracy Minibatch / Validation / Test : 96.9% / 88.2% / 94.1% \n",
      "Step @  14000\n",
      "    Minibatch @ step 14000. Loss: 76.97. Accuracy Minibatch / Validation / Test : 98.4% / 88.3% / 94.5% \n",
      "Step @  14500\n",
      "    Minibatch @ step 14500. Loss: 74.23. Accuracy Minibatch / Validation / Test : 97.7% / 88.4% / 94.2% \n",
      "Step @  15000\n",
      "    Minibatch @ step 15000. Loss: 71.30. Accuracy Minibatch / Validation / Test : 97.7% / 88.2% / 94.5% \n",
      "Step @  15500\n",
      "    Minibatch @ step 15500. Loss: 68.01. Accuracy Minibatch / Validation / Test : 99.2% / 88.1% / 94.1% \n",
      "Step @  16000\n",
      "    Minibatch @ step 16000. Loss: 65.10. Accuracy Minibatch / Validation / Test : 98.0% / 88.2% / 94.4% \n",
      "Step @  16500\n",
      "    Minibatch @ step 16500. Loss: 61.99. Accuracy Minibatch / Validation / Test : 99.2% / 88.6% / 94.7% \n",
      "Step @  17000\n",
      "    Minibatch @ step 17000. Loss: 60.17. Accuracy Minibatch / Validation / Test : 96.5% / 88.6% / 94.8% \n",
      "Step @  17500\n",
      "    Minibatch @ step 17500. Loss: 57.05. Accuracy Minibatch / Validation / Test : 95.7% / 88.4% / 94.3% \n",
      "Step @  18000\n",
      "    Minibatch @ step 18000. Loss: 53.90. Accuracy Minibatch / Validation / Test : 97.7% / 88.7% / 94.7% \n",
      "Step @  18500\n",
      "    Minibatch @ step 18500. Loss: 51.07. Accuracy Minibatch / Validation / Test : 99.2% / 89.0% / 94.9% \n",
      "Step @  19000\n",
      "    Minibatch @ step 19000. Loss: 48.85. Accuracy Minibatch / Validation / Test : 97.3% / 88.7% / 94.7% \n",
      "Step @  19500\n",
      "    Minibatch @ step 19500. Loss: 45.98. Accuracy Minibatch / Validation / Test : 98.0% / 88.8% / 94.6% \n",
      "Step @  20000\n",
      "    Minibatch @ step 20000. Loss: 43.44. Accuracy Minibatch / Validation / Test : 98.8% / 88.5% / 94.5% \n",
      "Final Test accuracy: 94.5%\n",
      "\n",
      " Following training sets has been tried . Range Set Size 3121\n",
      " Training with deep neural netowrk 1 hidden layer, 1024 node. Time taken  1:21:04.815412\n",
      ". Sample 10 Ranges are :  ['108864-109120', '188224-188480', '48640-48896', '125888-126144', '48320-48576', '30720-30976', '139328-139584', '152128-152384', '46912-47168', '142400-142656']\n"
     ]
    }
   ],
   "source": [
    "run_NN_custom(batch_size = 256, num_hidden_nodes_1 = 2048\\\n",
    "                  ,num_hidden_nodes_2 = 1000\n",
    "                  ,beta_regularisation_coef = 0.0001,\\\n",
    "            overfitting_prevention_startegy_regularisation  = 'Yes',\\\n",
    "            overfitting_prevention_startegy_dropout  = 'No',\\\n",
    "            learning_rate = 0.001, num_steps = 20001 )"
   ]
  },
  {
   "cell_type": "markdown",
   "metadata": {},
   "source": [
    "CONCLUSION : Final Model Accuracy : 94.5% accuracy \n",
    "----------------------------------------"
   ]
  }
 ],
 "metadata": {
  "colab": {
   "default_view": {},
   "name": "3_regularization.ipynb",
   "provenance": [],
   "version": "0.3.2",
   "views": {}
  },
  "kernelspec": {
   "display_name": "Python 2",
   "language": "python",
   "name": "python2"
  },
  "language_info": {
   "codemirror_mode": {
    "name": "ipython",
    "version": 2
   },
   "file_extension": ".py",
   "mimetype": "text/x-python",
   "name": "python",
   "nbconvert_exporter": "python",
   "pygments_lexer": "ipython2",
   "version": "2.7.9"
  }
 },
 "nbformat": 4,
 "nbformat_minor": 0
}

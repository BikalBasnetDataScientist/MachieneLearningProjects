{
 "cells": [
  {
   "cell_type": "markdown",
   "metadata": {},
   "source": [
    "Dimensionality Reduction with SVD\n",
    "---------------------------\n",
    "Document :\n",
    "\n",
    "I Like NLP.\n",
    "\n",
    "I like deep learning.\n",
    "\n",
    "I enjoy Flying.\n"
   ]
  },
  {
   "cell_type": "raw",
   "metadata": {},
   "source": [
    "#Matrix representation\n",
    "               I          Like    enjoy    NLP        deep     learning     Flying            .\n",
    "I           [  0      ,    2    ,    1  ,   0    ,      0    ,    0       ,    0     ,        0]     \n",
    "like        [  2      ,    0    ,    0  ,   1    ,      0    ,    1       ,    0     ,        0]     \n",
    "enjoy       [  1      ,    0    ,    0  ,   0    ,      0    ,    0       ,    1     ,        0]     \n",
    "NLP         [  0      ,    1    ,    0  ,   0    ,      1    ,    0       ,    0     ,        0]     \n",
    "deep        [  0      ,    0    ,    0  ,   1    ,      0    ,    0       ,    0     ,        1]     \n",
    "learning    [  0      ,    1    ,    0  ,   0    ,      0    ,    0       ,    0     ,        1]     \n",
    "Flying      [  0      ,    0    ,    1  ,   0    ,      0    ,    0       ,    0     ,        1]     \n",
    ".           [  0      ,    0    ,    0  ,   0    ,      1    ,    1       ,    1     ,        0]     "
   ]
  },
  {
   "cell_type": "markdown",
   "metadata": {},
   "source": [
    "SVD Computation\n",
    "--------------"
   ]
  },
  {
   "cell_type": "code",
   "execution_count": 29,
   "metadata": {
    "collapsed": false
   },
   "outputs": [],
   "source": [
    "%matplotlib inline\n",
    "import numpy as np\n",
    "linear_algebra = np.linalg\n",
    "words = [\"I\", \"like\", \"enjoy\",  \"deep\", \"learning\" ,\"NLP\",\"Flying\",\".\"]\n",
    "X = np.array([\n",
    "       [  0      ,    2    ,    1  ,   0    ,      0    ,    0       ,    0     ,        0]     ,\n",
    "       [  2      ,    0    ,    0  ,   1    ,      0    ,    1       ,    0     ,        0]     ,\n",
    "       [  1      ,    0    ,    0  ,   0    ,      0    ,    0       ,    1     ,        0]     ,\n",
    "       [  0      ,    1    ,    0  ,   0    ,      1    ,    0       ,    0     ,        0]     ,\n",
    "       [  0      ,    0    ,    0  ,   1    ,      0    ,    0       ,    0     ,        1]     ,\n",
    "       [  0      ,    1    ,    0  ,   0    ,      0    ,    0       ,    0     ,        1]     ,\n",
    "       [  0      ,    0    ,    1  ,   0    ,      0    ,    0       ,    0     ,        1]     ,\n",
    "       [  0      ,    0    ,    0  ,   0    ,      1    ,    1       ,    1     ,        0]     \n",
    "    ])\n",
    "U, s, Vh = linear_algebra.svd(X, full_matrices = False)"
   ]
  },
  {
   "cell_type": "markdown",
   "metadata": {},
   "source": [
    "**Plotting Top two SVD**"
   ]
  },
  {
   "cell_type": "code",
   "execution_count": 30,
   "metadata": {
    "collapsed": false
   },
   "outputs": [
    {
     "name": "stdout",
     "output_type": "stream",
     "text": [
      "(-0.52412493017406292, -0.57285914453699827, 'I')\n",
      "(-0.59443807113218572, 0.63012066356268703, 'like')\n",
      "(-0.25627400477818973, 0.27401753321708028, 'enjoy')\n",
      "(-0.28563740754103384, -0.24791213037947094, 'deep')\n",
      "(-0.19313931308361704, 0.033849504755903981, 'learning')\n",
      "(-0.30513468365021862, -0.29398898991693051, 'NLP')\n",
      "(-0.18248983734972854, -0.16102776682111042, 'Flying')\n",
      "(-0.24689842625299258, 0.15725476183570436, '.')\n"
     ]
    },
    {
     "data": {
      "image/png": "[encoded data removed]",
      "text/plain": [
       "<matplotlib.figure.Figure at 0x98fa8f0>"
      ]
     },
     "metadata": {},
     "output_type": "display_data"
    }
   ],
   "source": [
    "import matplotlib.pyplot as plt\n",
    "fig, ax = plt.subplots(1, 1)\n",
    "ax.set_xlim(-0.8, 0)\n",
    "ax.set_ylim(-0.8,0.8)\n",
    "for i in xrange(len(words)):\n",
    "    print(U[i,0] , U[i,1], words[i])\n",
    "    plt.text( U[i,0] , U[i,1], words[i] )\n",
    "plt.show()"
   ]
  },
  {
   "cell_type": "markdown",
   "metadata": {},
   "source": [
    "**Conclusion:** We observe that using just two SVD only i.e [2 by 2] matrix representation from [8 x 8], we are significantly able to reduce the dimension while grasping the information."
   ]
  }
 ],
 "metadata": {
  "kernelspec": {
   "display_name": "Python 2",
   "language": "python",
   "name": "python2"
  },
  "language_info": {
   "codemirror_mode": {
    "name": "ipython",
    "version": 2
   },
   "file_extension": ".py",
   "mimetype": "text/x-python",
   "name": "python",
   "nbconvert_exporter": "python",
   "pygments_lexer": "ipython2",
   "version": "2.7.10"
  }
 },
 "nbformat": 4,
 "nbformat_minor": 0
}

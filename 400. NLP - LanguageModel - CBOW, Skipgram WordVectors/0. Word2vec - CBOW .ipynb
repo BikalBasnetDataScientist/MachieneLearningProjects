{
 "cells": [
  {
   "cell_type": "markdown",
   "metadata": {
    "colab_type": "text",
    "collapsed": false,
    "id": "D7tqLMoKF6uq"
   },
   "source": [
    "Word Vector : Continous Bag of Words (CBOW)\n",
    "=============\n",
    "\n",    
    "------------\n",
    "\n",
    "The goal is to train a Word2Vec continous bag of words model over [Text8](http://mattmahoney.net/dc/textdata) data.\n",
    "\n",
    "**REF:To Know more on the skip-gram models , the theoritical foundation please visit [Word2Vector- CBOW](https://deepdatascience.wordpress.com/2017/04/25/word2vec-continous-bag-of-words/),\n",
    "**"
   ]
  },
  {
   "cell_type": "code",
   "execution_count": 1,
   "metadata": {
    "cellView": "both",
    "colab": {
     "autoexec": {
      "startup": false,
      "wait_interval": 0
     }
    },
    "colab_type": "code",
    "collapsed": true,
    "id": "0K1ZyLn04QZf"
   },
   "outputs": [],
   "source": [
    "# These are all the modules we'll be using later. Make sure you can import them\n",
    "# before proceeding further.\n",
    "%matplotlib inline\n",
    "from __future__ import print_function\n",
    "import collections\n",
    "import math\n",
    "import numpy as np\n",
    "import os\n",
    "import random\n",
    "import tensorflow as tf\n",
    "import zipfile\n",
    "from matplotlib import pylab\n",
    "from six.moves import range\n",
    "from six.moves.urllib.request import urlretrieve\n",
    "from sklearn.manifold import TSNE\n",
    "import datetime"
   ]
  },
  {
   "cell_type": "markdown",
   "metadata": {
    "colab_type": "text",
    "id": "aCjPJE944bkV"
   },
   "source": [
    "STEP 1 : Download Text data\n",
    "----------------------------\n",
    "Download the text data from the source website."
   ]
  },
  {
   "cell_type": "code",
   "execution_count": 2,
   "metadata": {
    "cellView": "both",
    "colab": {
     "autoexec": {
      "startup": false,
      "wait_interval": 0
     },
     "output_extras": [
      {
       "item_id": 1
      }
     ]
    },
    "colab_type": "code",
    "collapsed": false,
    "executionInfo": {
     "elapsed": 14640,
     "status": "ok",
     "timestamp": 1445964482948,
     "user": {
      "color": "#1FA15D",
      "displayName": "Vincent Vanhoucke",
      "isAnonymous": false,
      "isMe": true,
      "permissionId": "05076109866853157986",
      "photoUrl": "//lh6.googleusercontent.com/-cCJa7dTDcgQ/AAAAAAAAAAI/AAAAAAAACgw/r2EZ_8oYer4/s50-c-k-no/photo.jpg",
      "sessionId": "2f1ffade4c9f20de",
      "userId": "102167687554210253930"
     },
     "user_tz": 420
    },
    "id": "RJ-o3UBUFtCw",
    "outputId": "c4ec222c-80b5-4298-e635-93ca9f79c3b7"
   },
   "outputs": [
    {
     "name": "stdout",
     "output_type": "stream",
     "text": [
      "Found and verified text8.zip\n",
      "Completed 2017-05-30 21:40:31.788988\n"
     ]
    }
   ],
   "source": [
    "url = 'http://mattmahoney.net/dc/'\n",
    "\n",
    "def maybe_download(filename, expected_bytes):\n",
    "  \"\"\"Download a file if not present, and make sure it's the right size.\"\"\"\n",
    "  if not os.path.exists(filename):\n",
    "    filename, _ = urlretrieve(url + filename, filename)\n",
    "  statinfo = os.stat(filename)\n",
    "  if statinfo.st_size == expected_bytes:\n",
    "    print('Found and verified %s' % filename)\n",
    "  else:\n",
    "    print(statinfo.st_size)\n",
    "    raise Exception(\n",
    "      'Failed to verify ' + filename + '. Can you get to it with a browser?')\n",
    "  return filename\n",
    "\n",
    "filename = maybe_download('text8.zip', 31344016)\n",
    "print('Completed', datetime.datetime.now() )"
   ]
  },
  {
   "cell_type": "markdown",
   "metadata": {
    "colab_type": "text",
    "id": "Zqz3XiqI4mZT"
   },
   "source": [
    "**Step 2 :Tokenize text data into words.**\n",
    "---------------------"
   ]
  },
  {
   "cell_type": "code",
   "execution_count": 3,
   "metadata": {
    "cellView": "both",
    "colab": {
     "autoexec": {
      "startup": false,
      "wait_interval": 0
     },
     "output_extras": [
      {
       "item_id": 1
      }
     ]
    },
    "colab_type": "code",
    "collapsed": false,
    "executionInfo": {
     "elapsed": 28844,
     "status": "ok",
     "timestamp": 1445964497165,
     "user": {
      "color": "#1FA15D",
      "displayName": "Vincent Vanhoucke",
      "isAnonymous": false,
      "isMe": true,
      "permissionId": "05076109866853157986",
      "photoUrl": "//lh6.googleusercontent.com/-cCJa7dTDcgQ/AAAAAAAAAAI/AAAAAAAACgw/r2EZ_8oYer4/s50-c-k-no/photo.jpg",
      "sessionId": "2f1ffade4c9f20de",
      "userId": "102167687554210253930"
     },
     "user_tz": 420
    },
    "id": "Mvf09fjugFU_",
    "outputId": "e3a928b4-1645-4fe8-be17-fcf47de5716d"
   },
   "outputs": [
    {
     "name": "stdout",
     "output_type": "stream",
     "text": [
      "Data size in number of words 5094672\n",
      "Completed 2017-05-30 21:40:39.489765\n"
     ]
    }
   ],
   "source": [
    "def read_data(filename):\n",
    "  \"\"\"Extract the first file enclosed in a zip file as a list of words\"\"\"\n",
    "  with zipfile.ZipFile(filename) as f:\n",
    "    data = tf.compat.as_str(f.read(f.namelist()[0])).split()\n",
    "  return data\n",
    "  \n",
    "words = read_data('text8_mid_30MB.zip')\n",
    "#words = read_data('text8.zip')\n",
    "print('Data size in number of words %d' % len(words))\n",
    "print('Completed', datetime.datetime.now() )"
   ]
  },
  {
   "cell_type": "code",
   "execution_count": 4,
   "metadata": {
    "collapsed": false
   },
   "outputs": [
    {
     "name": "stdout",
     "output_type": "stream",
     "text": [
      "anarchism originated as a term of abuse first used against early working class radicals including the diggers of the english revolution and the sans culottes of the french revolution whilst the term is still used in a pejorative way to describe any act that used violent means to destroy the organization of society it has also been taken up as a positive label by self defined anarchists the word anarchism is derived from the greek without archons ruler chief king anarchism as a political philosophy is the belief that rulers are unnecessary and should be abolished although there are differing\n"
     ]
    }
   ],
   "source": [
    "#print(type(words))\n",
    "#print(words[0:10])\n",
    "print( \" \".join(words[0:100]))"
   ]
  },
  {
   "cell_type": "markdown",
   "metadata": {
    "colab_type": "text",
    "id": "Zdw6i4F8glpp"
   },
   "source": [
    "Step 3: Build the  word  dictionary  i.e word - index \n",
    "------------------------------------------\n",
    "1. Dictionary :  word - index dictionary as in  { word1 : 1, word2 : 2 }\n",
    "2. Reverse_dictionary :  contains all words with key as index and value as word, so that it's easy to reference them e.g { word1 : 1, word2 : 2 } to reverse_dictionary becomes\n",
    "{  1: word1 , 2: word2  }\n"
   ]
  },
  {
   "cell_type": "code",
   "execution_count": 5,
   "metadata": {
    "cellView": "both",
    "colab": {
     "autoexec": {
      "startup": false,
      "wait_interval": 0
     },
     "output_extras": [
      {
       "item_id": 1
      }
     ]
    },
    "colab_type": "code",
    "collapsed": false,
    "executionInfo": {
     "elapsed": 28849,
     "status": "ok",
     "timestamp": 1445964497178,
     "user": {
      "color": "#1FA15D",
      "displayName": "Vincent Vanhoucke",
      "isAnonymous": false,
      "isMe": true,
      "permissionId": "05076109866853157986",
      "photoUrl": "//lh6.googleusercontent.com/-cCJa7dTDcgQ/AAAAAAAAAAI/AAAAAAAACgw/r2EZ_8oYer4/s50-c-k-no/photo.jpg",
      "sessionId": "2f1ffade4c9f20de",
      "userId": "102167687554210253930"
     },
     "user_tz": 420
    },
    "id": "gAL1EECXeZsD",
    "outputId": "3fb4ecd1-df67-44b6-a2dc-2291730970b2"
   },
   "outputs": [
    {
     "name": "stdout",
     "output_type": "stream",
     "text": [
      "Most common words (+UNK) [['UNK', 97870], ('the', 325643), ('of', 182950), ('and', 127938), ('one', 116440)]\n",
      "Sample data [3181, 2980, 12, 6, 181, 2, 3736, 49, 58, 149]\n"
     ]
    }
   ],
   "source": [
    "vocabulary_size = 50000\n",
    "\n",
    "def build_dataset(words):\n",
    "  count = [['UNK', -1]]\n",
    "  count.extend(collections.Counter(words).most_common(vocabulary_size - 1))\n",
    "  dictionary = dict()\n",
    "  for word, _ in count:\n",
    "    dictionary[word] = len(dictionary)\n",
    "  data = list()\n",
    "  unk_count = 0\n",
    "  for word in words:\n",
    "    if word in dictionary:\n",
    "      index = dictionary[word]\n",
    "    else:\n",
    "      index = 0  # dictionary['UNK']\n",
    "      unk_count = unk_count + 1\n",
    "    data.append(index)\n",
    "  count[0][1] = unk_count\n",
    "  reverse_dictionary = dict(zip(dictionary.values(), dictionary.keys())) \n",
    "  return data, count, dictionary, reverse_dictionary\n",
    "\n",
    "data, count, dictionary, reverse_dictionary = build_dataset(words)\n",
    "print('Most common words (+UNK)', count[:5])\n",
    "print('Sample data', data[:10])\n",
    "del words  # Hint to reduce memory."
   ]
  },
  {
   "cell_type": "markdown",
   "metadata": {},
   "source": [
    "**Inspect Sample Word - index pair**"
   ]
  },
  {
   "cell_type": "code",
   "execution_count": 6,
   "metadata": {
    "collapsed": false
   },
   "outputs": [
    {
     "name": "stdout",
     "output_type": "stream",
     "text": [
      "Dictionary  is \n",
      "{'fawn': 42300, 'homomorphism': 15286, 'nunnery': 29778, 'chthonic': 31253, 'sonja': 42301, 'woods': 6307, 'clotted': 42302, 'spiders': 13019, 'gai': 34017, 'hanging': 7083}\n",
      "reverse dictionary is   \n",
      "{0: 'UNK', 1: 'the', 2: 'of', 3: 'and', 4: 'one', 5: 'in', 6: 'a', 7: 'to', 8: 'zero', 9: 'nine'}\n"
     ]
    }
   ],
   "source": [
    "n_pairs_dict = {k : dictionary[k] for k in dictionary.keys()[:10]}\n",
    "print('Dictionary  is ')\n",
    "print(n_pairs_dict )\n",
    "\n",
    "n_pairs_reverse_dict = {k : reverse_dictionary[k] for k in reverse_dictionary.keys()[:10]}\n",
    "print('reverse dictionary is   ')\n",
    "print(n_pairs_reverse_dict)\n"
   ]
  },
  {
   "cell_type": "markdown",
   "metadata": {
    "colab_type": "text",
    "id": "lFwoyygOmWsL"
   },
   "source": [
    "Step 4:  Morph word frequency into Continous Bag of words data\n",
    "------------------------------\n",
    "CBOW model aims to predict the target word given n-context words. And in doing so, the nice side effect is that the word vectors are represented in an meaningful way capturing semantic and syntactic  relevance. \n",
    "\n",
    "e.g [anarchism, as] => [originated]\n",
    "\n",
    "\n",
    "\n",
    "**skip_window** = 1 # How many words to consider left and right for training. skip_window =1 means consider one word to the left one word to the right.\n",
    "\n"
   ]
  },
  {
   "cell_type": "markdown",
   "metadata": {},
   "source": [
    "Question :: Is num_skips relevant for CBOW\n",
    "---------------------------\n",
    "**ANSWER:** Compared to earlier skip-gram model, num-step is irrelevant in  CBOW model, since CBOW model all the words collectively as random collection of bag of words. There is no individual (input, output pair) in CBOw model, hence num_skip[s is irrelevant for CBOw"
   ]
  },
  {
   "cell_type": "code",
   "execution_count": 7,
   "metadata": {
    "collapsed": false
   },
   "outputs": [
    {
     "name": "stdout",
     "output_type": "stream",
     "text": [
      "Generating Train / Test Data from the text.\n",
      "Sample of first - 8 words data\n",
      "\" anarchism originated as a term of abuse first used against early working class radicals including the diggers of the english \"\n",
      "\n",
      "with skip_window = 1:\n",
      "train_data : label is  [(['as', 'anarchism'], 'originated'), (['originated', 'a'], 'as'), (['as', 'term'], 'a'), (['of', 'a'], 'term'), (['term', 'abuse'], 'of'), (['first', 'of'], 'abuse')]\n",
      "\n",
      "with skip_window = 2:\n",
      "train_data : label is  [(['a', 'originated', 'term', 'anarchism'], 'as'), (['originated', 'term', 'of', 'as'], 'a'), (['as', 'a', 'of', 'abuse'], 'term'), (['first', 'term', 'a', 'abuse'], 'of')]\n"
     ]
    }
   ],
   "source": [
    "data_index = 0\n",
    "\n",
    "#Example CASE :  batch_size = 8 and skip_window = 1\n",
    "def generate_batch(batch_size, skip_window, reverse_dictionary = None , verbose = 0):\n",
    "  global data_index  \n",
    "  \n",
    "  # batch_size, skip_window) => num of center_words  e.g (4,1)=>2 , (6,1)=>4, (8,1)=>6, (5,2)=>1, (7,2)=>3\n",
    "  cbow_no_of_output_word = batch_size - (2 * skip_window)    \n",
    "\n",
    "  # For Data : ['anarchism', 'originated', 'as', 'a', 'term', 'of', 'abuse', 'first']\n",
    "  # and skip_window = 1, batch = ['anarchism',  'as' . Label = [ 'originated']\n",
    "  # and skip_window = 2, batch = ['anarchism', 'originated', 'a', 'term', 'of'] . label = [ 'as']  \n",
    "  batch = np.ndarray(shape=( cbow_no_of_output_word , 2 * skip_window ), dtype=np.int32)\n",
    "  labels = np.ndarray(shape=( cbow_no_of_output_word ,1), dtype=np.int32)\n",
    "  \n",
    "  if verbose ==1:print('  batch size is  [',len(batch), len(batch[0]),'] label size is ::  [',  len(labels), len(labels[0]),']' )  \n",
    "    \n",
    "  # skip_window is the length of one side\n",
    "  # span : length of the whole frame i.e skip_window no of words to the left and skip_window no of words to the right\n",
    "  # Example CASE : span = 3\n",
    "  span = 2 * skip_window + 1 # [ context_word1 target context_word2 ] [w-1 w w+1 ]\n",
    "  \n",
    "  # Double ended queue\n",
    "  # Example CASE : buffer  length = 3\n",
    "  buffer = collections.deque(maxlen=span)\n",
    "  \n",
    "  # Iterate  over words starting from 0 to span\n",
    "  # CASE 1: Iterate over (0,1,2) \n",
    "  for _ in range(span):    \n",
    "    if verbose ==1:print('  Appending to processing word window(buffer)  \"',reverse_dictionary[data[data_index]], '\" . Data length is ', len(data))\n",
    "        \n",
    "    #add  word  to queue. Index is used for efficiency. Int is faster to string\n",
    "    buffer.append(data[data_index])    \n",
    "    \n",
    "    data_index = (data_index + 1) % len(data)\n",
    "  \n",
    "  \n",
    "  # Example CASE :  buffer = buffer = [anarchism.data.index, originated.data.index, as.data.index]\n",
    "  # Example CASE : Iterate over 0,1,2,3 \n",
    "  if verbose ==1:\n",
    "    buffer_words = [reverse_dictionary[i]  for i in buffer]\n",
    "    print('Current buffer_word list is  ', buffer_words )\n",
    "    print('   Iteration from 0 to ', cbow_no_of_output_word - 1,' inclusive starts' )\n",
    "    \n",
    "  #   Index   : [       0    ,       1     ,  2 ,   3 ,   4   , 5   ,    6   ,    7   ] \n",
    "  #   For Data : ['anarchism', 'originated', 'as', 'a', 'term', 'of', 'abuse', 'first']\n",
    "  #   Batch size = 8, skip_window = 1, repeat (6) times with 6 center words ['originated', 'as', 'a', 'term', 'of', 'abuse',]\n",
    "  #   Batch size = 8, skip_window = 2, repeat (4) times with 4 center words ['as', 'a', 'term', 'of']  \n",
    "  for i in range( cbow_no_of_output_word ) :\n",
    "    #print('Starting Processing words of batch :: \"',i,'\". Label index is ', skip_window * (i+1) )\n",
    "    # Example CASE iteration 0:  target = skip_window = 1 = originated.index\n",
    "    # Got label, now  we need batch data\n",
    "    target = skip_window  # target label at the center of the buffer    \n",
    "    targets_to_avoid = [ skip_window ]\n",
    "    label_index = skip_window #* (i+1)\n",
    "    \n",
    "    if verbose ==1:\n",
    "        print('      Got LABEL word \"',reverse_dictionary[buffer[label_index]],'\". Now we need batch data for the label for i =',i)\n",
    "        print('      Current o/p word (target - label)  avoid list is :: ',\\\n",
    "                         [reverse_dictionary[buffer[k]] for k in targets_to_avoid ]  )\n",
    "        print('      Iterating from 0 to ', span -1 ,' inclusive')\n",
    "        \n",
    "        \n",
    "    # Example CASE iteration 0 : BUFFER = [anarchism.data.index, originated.data.index, as.data.index], LABEL = 'originated'\n",
    "    # WE have LAbel data, now GET BATCH DATA \n",
    "    # skip_window = 1, get 2 outside words   # skip_window = 2, get 4 outside words    \n",
    "    for j in range( 2 * skip_window ):\n",
    "      # Choose target word randomly over \"anarchism\" and  \"as\". Also Avoid choosing originated as target word\n",
    "      # If \"anarchism\" is choosen as target word in the first instance, then it is added to the \"targets_to_avoid\"  \n",
    "      # list and is not considered as target word in the next iteration. This way, our target word finally will be\n",
    "      # after iteration over 0,1 times [\"anarchism\", \"as\"] for \n",
    "      if verbose ==1:\n",
    "        print('         Getting new I/P word  for i =',i)\n",
    "        print('         O/P word is \"',reverse_dictionary[buffer[skip_window]] ,'\"')\n",
    "        print('         I/p must be selected  from ',buffer_words)\n",
    "        print('         I/p must not be from Avoid_list = ',[reverse_dictionary[buffer[l]] for l in targets_to_avoid ] ) \n",
    "      while target in targets_to_avoid:\n",
    "        # Example CASE iteration 0, sub-iter -0  : target = \"anarchism\"\n",
    "        # Example CASE iteration 0, sub-iter -0 : target = \"as\"\n",
    "        target = random.randint(0, span - 1)\n",
    "        if verbose ==1:            \n",
    "            if(target not in targets_to_avoid):\n",
    "                print('           Curent I/P candidate word \"',reverse_dictionary[buffer[target]],'\" is ACCEPTED to batch[',i,'][',j,']' )\n",
    "            else:\n",
    "                print('           I/P (label) candidate word \"',reverse_dictionary[buffer[target]],'\" is REJECTED, because its from avoid list. RESELECTING.')\n",
    "      \n",
    "      # Example CASE iteration 0, sub-iter-0 targets-to_avoid = [ originated, anarchism]\n",
    "      # Example CASE iteration 0, sub-iter-1 = [ originated, anarchism,as]\n",
    "      targets_to_avoid.append(target)\n",
    "      if verbose ==1:print('         Now this new word \"', reverse_dictionary[target],\\\n",
    "                           '\"  is added as label and is added to targets_to_avoid list. After addition it is \"',targets_to_avoid,'\"')\n",
    "      \n",
    "      \n",
    "      # Example CASE iteration 0 :: batch[0] = ['anarchism', 'as'], labels[0] = ['originated']\n",
    "      # Example CASE iteration 1 :: batch[1] = ['originated', 'a'], labels[0] = ['as']        \n",
    "      labels[i,0] = buffer[label_index]\n",
    "      batch[i,j] =  buffer[target]      \n",
    "      \n",
    "      if verbose ==1:\n",
    "        print( '         Adding  I/p - O/p word as :: \"',reverse_dictionary[batch[i,j]],\\\n",
    "                           '\" - \"', reverse_dictionary[labels[i,0]],'\"' )    \n",
    "    \n",
    "    if verbose ==1:\n",
    "            print('         Adding \"',reverse_dictionary[data[data_index]], '\" to word processing window(buffer) ')\n",
    "    buffer.append(data[data_index])\n",
    "    data_index = (data_index + 1) % len(data)\n",
    "        \n",
    "  return batch, labels\n",
    "\n",
    "print('Generating Train / Test Data from the text.')\n",
    "print('Sample of first - 8 words data')\n",
    "print('\"', ' '.join([reverse_dictionary[di] for di in data[:20]]),'\"' )\n",
    "\n",
    "for  skip_window in [1,2]:\n",
    "    data_index = 0\n",
    "    _batch_size = 8\n",
    "    #_batch_size = 12\n",
    "    print('\\nwith skip_window = %d:' % ( skip_window))        \n",
    "    batch, labels = generate_batch(batch_size=_batch_size, skip_window=skip_window,\\\n",
    "                                   reverse_dictionary = reverse_dictionary, verbose =0)    \n",
    "    \n",
    "    train_word_list = [ [reverse_dictionary[bi[num]]  for num in range(len(batch[0]) )  ]  for  bi in batch ]    \n",
    "    label_word_list = [ reverse_dictionary[ li[0] ] for li in labels ]\n",
    "    print('train_data : label is ', zip (train_word_list , label_word_list ) )"
   ]
  },
  {
   "cell_type": "code",
   "execution_count": 8,
   "metadata": {
    "cellView": "both",
    "colab": {
     "autoexec": {
      "startup": false,
      "wait_interval": 0
     }
    },
    "colab_type": "code",
    "collapsed": false,
    "id": "8pQKsV4Vwlzy"
   },
   "outputs": [
    {
     "name": "stdout",
     "output_type": "stream",
     "text": [
      "embedding for train_dataset[:,i] \" Tensor(\"strided_slice_1:0\", shape=(126,), dtype=int32) \" is wv_1_batch_1_words :: \" Tensor(\"embedding_lookup:0\", shape=(126, 128), dtype=float32)\n",
      "embedding_0 shape is : [126, 128] emb_x :\"126\", emb_y: \"128\" \n",
      "embed is None, hence reshaping  from (126, 128) to  (126,128)\n",
      "embedding for train_dataset[:,i] \" Tensor(\"strided_slice_3:0\", shape=(126,), dtype=int32) \" is wv_1_batch_1_words :: \" Tensor(\"embedding_lookup_1:0\", shape=(126, 128), dtype=float32)\n",
      "embedding_1 shape is : [126, 128] emb_x :\"126\", emb_y: \"128\" \n",
      "embed is not None, hence  concating earlier wv_1_batch_n_words (126, 128, 1) with current wv_1_batch_1_words\n",
      "Concat embedding (wv_1_batch_n_words) size : [126, 128, 2]\n",
      "Avg embedding of the two batch word vectors  (avg_wv_1_batch_n_words) size: [126, 128]\n",
      "Initialized\n",
      "Average loss at step 0: 7.752290\n",
      "Nearest to people: dionysos, erebus, lakshman, parapsychology, knee, tavas, mushrooms, insiders,\n",
      "Nearest to his: flushing, remark, batch, colds, uncontrollable, mee, brower, cages,\n",
      "Nearest to many: meditating, theognis, recent, quay, wilburys, clair, kidnapping, asteroid,\n",
      "Nearest to all: silesian, esque, adoptionist, odos, messiaen, malleable, eyewitness, och,\n",
      "Nearest to th: genesis, tariffs, paul, tuan, pu, leaky, amazingly, elias,\n",
      "Nearest to are: wish, risky, phosphatase, pilkington, donating, courting, pesticides, congestive,\n",
      "Nearest to first: mortain, element, webber, governorates, metaphorically, scheduler, ujjain, covering,\n",
      "Nearest to only: hemorrhage, emitting, refectory, thrashers, runners, antagonists, thermodynamics, nigger,\n",
      "Nearest to province: blessed, bandits, driftwood, norway, secures, ravi, mountaineering, nude,\n",
      "Nearest to tree: overwhelmingly, generalised, wobbles, interconversion, affordable, deist, subway, proponent,\n",
      "Nearest to egypt: coquitlam, recovered, cv, praising, oo, statute, ozzy, quintet,\n",
      "Nearest to consists: cardoso, anchors, sofa, impeach, scullard, sara, detectors, wheelock,\n",
      "Nearest to places: sorceress, labyrinth, courtesy, roy, midgard, dkw, universalis, meltzer,\n",
      "Nearest to behind: tie, kuhn, cavers, icbm, deployment, saboteurs, ntoskrnl, tanning,\n",
      "Nearest to hold: sutcliff, pitchers, suborder, isp, achaeans, approaches, monotheist, paralipomena,\n",
      "Nearest to actress: archbishops, mithras, sensual, masterpiece, rips, sfor, selfless, slap,\n",
      "Average loss at step 2000: 4.042561\n",
      "Average loss at step 4000: 3.523998\n",
      "Average loss at step 6000: 3.336411\n",
      "Average loss at step 8000: 3.225412\n",
      "Average loss at step 10000: 3.171627\n",
      "Nearest to people: erebus, tavas, cleavage, hines, abzymes, insiders, several, ounces,\n",
      "Nearest to his: their, its, her, the, brower, seafood, parse, transmits,\n",
      "Nearest to many: some, recent, dialects, estadual, its, pobedonostsev, each, meditating,\n",
      "Nearest to all: some, mcc, licences, cuyp, prominently, creaturely, mississippi, hellenic,\n",
      "Nearest to th: tariffs, genesis, paul, pu, amazingly, friday, rayleigh, novus,\n",
      "Nearest to are: were, is, wish, have, phosphatase, pretending, runaway, maschinenkarabiner,\n",
      "Nearest to first: breastbone, mycobacterium, hindered, rigor, second, guardianship, denials, wettin,\n",
      "Nearest to only: agnostic, mockery, emitting, powerheads, khanum, bookkeeping, rabid, regular,\n",
      "Nearest to province: bandits, blessed, norway, mountaineering, driftwood, birdlike, ravi, wires,\n",
      "Nearest to tree: overwhelmingly, wobbles, interconversion, generalised, invariant, deist, affordable, iteration,\n",
      "Nearest to egypt: recovered, quintet, statute, braine, praising, coquitlam, dupuis, haarlem,\n",
      "Nearest to consists: cardoso, anchors, sofa, intervene, bulnes, impeach, scullard, marry,\n",
      "Nearest to places: labyrinth, sorceress, courtesy, honeymoon, midgard, things, dkw, roy,\n",
      "Nearest to behind: ntoskrnl, cavers, chamberlain, icbm, kuhn, tie, saboteurs, mimas,\n",
      "Nearest to hold: isp, sutcliff, pitchers, approaches, suborder, beiping, staffed, achaeans,\n",
      "Nearest to actress: archbishops, valle, syllabaries, bretagne, tenochtitl, synoptic, putatively, kotzebue,\n",
      "Average loss at step 12000: 3.174182\n",
      "Average loss at step 14000: 3.152610\n",
      "Average loss at step 16000: 3.151696\n",
      "Average loss at step 18000: 3.116955\n",
      "Average loss at step 20000: 3.009213\n",
      "Nearest to people: cleavage, things, erebus, abzymes, tavas, insiders, tangle, improvisation,\n",
      "Nearest to his: their, her, its, the, my, cbc, intracellular, seafood,\n",
      "Nearest to many: some, several, recent, dialects, these, each, pobedonostsev, meditating,\n",
      "Nearest to all: some, cuyp, mississippi, quad, mitscherlich, report, creaturely, licences,\n",
      "Nearest to th: tariffs, genesis, rayleigh, australis, paul, novus, amazingly, pu,\n",
      "Nearest to are: were, have, is, wish, be, jammu, multinational, remain,\n",
      "Nearest to first: second, last, breastbone, switzer, rigor, next, maiden, allusion,\n",
      "Nearest to only: rabid, khanum, agnostic, classify, regular, powerheads, bookkeeping, trucks,\n",
      "Nearest to province: bandits, blessed, norway, mountaineering, birdlike, transistors, ravi, driftwood,\n",
      "Nearest to tree: overwhelmingly, wobbles, interconversion, deist, invariant, generalised, iteration, mestre,\n",
      "Nearest to egypt: braine, recovered, statute, quintet, praising, naaman, dupuis, coquitlam,\n",
      "Nearest to consists: intervene, cardoso, anchors, unesco, bulnes, baptizer, americanized, windowlicker,\n",
      "Nearest to places: labyrinth, sorceress, courtesy, things, honeymoon, earthly, advertisers, midgard,\n",
      "Nearest to behind: ntoskrnl, chamberlain, cavers, icbm, christology, unwillingness, appian, kuhn,\n",
      "Nearest to hold: isp, sutcliff, beiping, approaches, vecchio, pitchers, suborder, calculator,\n",
      "Nearest to actress: actor, archbishops, valle, bretagne, tenochtitl, syllabaries, expander, novgorod,\n",
      "Average loss at step 22000: 3.076957\n",
      "Average loss at step 24000: 3.065454\n",
      "Average loss at step 26000: 2.994480\n",
      "Average loss at step 28000: 3.033983\n",
      "Average loss at step 30000: 3.004719\n",
      "Nearest to people: things, cleavage, improvisation, landmass, tangle, stories, abzymes, tenth,\n",
      "Nearest to his: their, her, its, my, parse, the, your, paperwork,\n",
      "Nearest to many: some, several, recent, these, calibration, those, various, each,\n",
      "Nearest to all: some, mitscherlich, any, vehicles, each, soiled, quad, mississippi,\n",
      "Nearest to th: tariffs, genesis, amazingly, rayleigh, novus, lookups, camillo, paul,\n",
      "Nearest to are: were, have, is, wish, include, marcia, remain, multinational,\n",
      "Nearest to first: second, last, next, switzer, woes, breastbone, despite, final,\n",
      "Nearest to only: agnostic, rabid, regular, isaacson, bookkeeping, trucks, khanum, unprofitable,\n",
      "Nearest to province: bandits, birdlike, blessed, norway, transistors, mountaineering, ravi, milligram,\n",
      "Nearest to tree: overwhelmingly, deist, salado, interconversion, invariant, wobbles, mestre, measurement,\n",
      "Nearest to egypt: braine, recovered, quintet, statute, naaman, praising, pinpoint, dupuis,\n",
      "Nearest to consists: intervene, bulnes, cardoso, baptizer, target, moocher, windowlicker, unesco,\n",
      "Nearest to places: things, labyrinth, sorceress, courtesy, earthly, honeymoon, proverbial, advertisers,\n",
      "Nearest to behind: ntoskrnl, chamberlain, appian, unwillingness, while, christology, confirming, icbm,\n",
      "Nearest to hold: isp, pitchers, beiping, vecchio, sutcliff, approaches, calculator, famed,\n",
      "Nearest to actress: actor, archbishops, bretagne, valle, tenochtitl, novgorod, expander, syllabaries,\n",
      "Average loss at step 32000: 2.924343\n",
      "Average loss at step 34000: 2.888009\n",
      "Average loss at step 36000: 2.958992\n",
      "Average loss at step 38000: 2.962279\n",
      "Average loss at step 40000: 2.901656\n",
      "Nearest to people: things, men, cleavage, landmass, tangle, stories, them, abzymes,\n",
      "Nearest to his: their, her, its, my, the, your, consolidation, s,\n",
      "Nearest to many: some, several, various, these, those, most, recent, calibration,\n",
      "Nearest to all: some, mitscherlich, many, vehicles, chapters, fondation, units, awaits,\n",
      "Nearest to th: tariffs, lookups, genesis, amazingly, rayleigh, novus, australis, sowing,\n",
      "Nearest to are: were, have, is, contain, be, jammu, wish, remain,\n",
      "Nearest to first: last, second, next, maiden, woes, final, breastbone, despite,\n",
      "Nearest to only: agnostic, rabid, classify, flanagan, always, rafter, khanum, bookkeeping,\n",
      "Nearest to province: bandits, birdlike, blessed, norway, transistors, mountaineering, ravi, milligram,\n",
      "Nearest to tree: overwhelmingly, deist, interconversion, invariant, salado, wobbles, measurement, mestre,\n",
      "Nearest to egypt: braine, statute, catalysis, pinpoint, naaman, praising, recovered, ree,\n",
      "Nearest to consists: intervene, cardoso, windowlicker, form, carotid, target, bulnes, suzerainty,\n",
      "Nearest to places: things, labyrinth, proverbial, honeymoon, courtesy, sorceress, earthly, laney,\n",
      "Nearest to behind: ntoskrnl, chamberlain, while, against, christology, unwillingness, appian, icbm,\n",
      "Nearest to hold: vecchio, give, approaches, isp, allow, calculator, beiping, pitchers,\n",
      "Nearest to actress: actor, archbishops, bretagne, novgorod, tenochtitl, valle, ethnicity, expander,\n",
      "Average loss at step 42000: 2.757411\n",
      "Average loss at step 44000: 2.744194\n",
      "Average loss at step 46000: 2.764049\n",
      "Average loss at step 48000: 2.668572\n",
      "Average loss at step 50000: 2.712815\n",
      "Nearest to people: men, things, landmass, women, tangle, them, abzymes, individuals,\n",
      "Nearest to his: their, her, its, my, your, parse, our, consolidation,\n",
      "Nearest to many: some, several, various, those, most, recent, these, all,\n",
      "Nearest to all: some, many, chapters, soiled, several, vehicles, various, mitscherlich,\n",
      "Nearest to th: tariffs, lookups, genesis, novus, sowing, amazingly, rayleigh, essai,\n",
      "Nearest to are: were, contain, have, remain, include, is, wish, multinational,\n",
      "Nearest to first: last, second, next, maiden, fourth, final, woes, switzer,\n",
      "Nearest to only: rabid, even, bookkeeping, agnostic, gotovina, flanagan, always, unprofitable,\n",
      "Nearest to province: bandits, birdlike, norway, blessed, transistors, mountaineering, ravi, pontifical,\n",
      "Nearest to tree: overwhelmingly, interconversion, measurement, invariant, deist, wobbles, mestre, symphonic,\n",
      "Nearest to egypt: braine, catalysis, ree, pinpoint, statute, naaman, interleague, chausey,\n",
      "Nearest to consists: intervene, means, windowlicker, carotid, examples, visualized, cardoso, overheat,\n",
      "Nearest to places: things, labyrinth, proverbial, honeymoon, courtesy, sorceress, laney, birds,\n",
      "Nearest to behind: while, ntoskrnl, chamberlain, appian, unwillingness, christology, against, into,\n",
      "Nearest to hold: give, allow, identify, approaches, vecchio, needling, define, isp,\n",
      "Nearest to actress: actor, singer, writer, bretagne, archbishops, kotzebue, valle, novgorod,\n",
      "Average loss at step 52000: 2.722701\n",
      "Average loss at step 54000: 2.749455\n",
      "Average loss at step 56000: 2.756223\n",
      "Average loss at step 58000: 2.736747\n",
      "Average loss at step 60000: 2.623490\n",
      "Nearest to people: men, individuals, things, women, landmass, them, jews, someone,\n",
      "Nearest to his: her, their, my, your, its, the, our, consolidation,\n",
      "Nearest to many: some, several, various, those, few, most, both, these,\n",
      "Nearest to all: some, soiled, chapters, vehicles, various, both, several, exclusively,\n",
      "Nearest to th: tariffs, genesis, lookups, sowing, novus, rd, poson, amazingly,\n",
      "Nearest to are: were, have, contain, include, is, remain, wish, be,\n",
      "Nearest to first: last, second, next, fourth, final, maiden, switzer, woes,\n",
      "Nearest to only: trucks, rabid, wired, agnostic, even, bookkeeping, isaacson, barratry,\n",
      "Nearest to province: bandits, birdlike, norway, transistors, blessed, pontifical, ravi, milligram,\n",
      "Nearest to tree: overwhelmingly, deist, measurement, interconversion, family, invariant, wobbles, symphonic,\n",
      "Nearest to egypt: catalysis, braine, ree, pinpoint, chausey, ulster, curled, statute,\n",
      "Nearest to consists: means, intervene, forms, making, carotid, visualized, overheat, guys,\n",
      "Nearest to places: proverbial, things, labyrinth, birds, courtesy, advertisers, laney, honeymoon,\n",
      "Nearest to behind: while, toward, ntoskrnl, chamberlain, planned, unwillingness, against, christology,\n",
      "Nearest to hold: allow, give, meet, needling, define, vecchio, approaches, identify,\n",
      "Nearest to actress: actor, singer, writer, bretagne, kotzebue, novgorod, archbishops, valle,\n",
      "Average loss at step 62000: 2.726974\n",
      "Average loss at step 64000: 2.707281\n",
      "Average loss at step 66000: 2.708411\n",
      "Average loss at step 68000: 2.722948\n",
      "Average loss at step 70000: 2.697266\n",
      "Nearest to people: men, individuals, women, landmass, things, jews, tangle, stories,\n",
      "Nearest to his: their, her, my, its, your, our, consolidation, paperwork,\n",
      "Nearest to many: some, several, various, numerous, few, those, most, both,\n",
      "Nearest to all: some, soiled, vehicles, chapters, neri, exclusively, mitscherlich, every,\n",
      "Nearest to th: tariffs, lookups, genesis, amazingly, sowing, poson, rd, camillo,\n",
      "Nearest to are: were, have, contain, is, remain, include, multinational, metronome,\n",
      "Nearest to first: last, second, next, final, woes, fourth, maiden, archaeopteryx,\n",
      "Nearest to only: even, rabid, agnostic, always, unprofitable, trucks, bookkeeping, sacramento,\n",
      "Nearest to province: bandits, birdlike, norway, transistors, blessed, ravi, pontifical, milligram,\n",
      "Nearest to tree: overwhelmingly, measurement, deist, family, salado, invariant, interconversion, cerebrum,\n",
      "Nearest to egypt: catalysis, ree, braine, pinpoint, greece, statute, chausey, rbr,\n",
      "Nearest to consists: means, intervene, is, forms, because, making, thousands, carotid,\n",
      "Nearest to places: things, proverbial, labyrinth, birds, earthly, courtesy, laney, privilege,\n",
      "Nearest to behind: toward, planned, ntoskrnl, unwillingness, confirming, appian, while, against,\n",
      "Nearest to hold: allow, give, needling, meet, define, identify, vecchio, pitchers,\n",
      "Nearest to actress: actor, singer, writer, bretagne, kotzebue, novgorod, archbishops, aristoteles,\n",
      "Average loss at step 72000: 2.551183\n",
      "Average loss at step 74000: 2.674992\n",
      "Average loss at step 76000: 2.674425\n",
      "Average loss at step 78000: 2.682950\n",
      "Average loss at step 80000: 2.614849\n",
      "Nearest to people: men, individuals, women, things, someone, landmass, inhabitants, children,\n",
      "Nearest to his: her, their, my, your, its, our, the, whose,\n",
      "Nearest to many: some, several, various, numerous, few, most, those, all,\n",
      "Nearest to all: some, many, both, chapters, vehicles, every, mitscherlich, soiled,\n",
      "Nearest to th: tariffs, lookups, genesis, rd, amazingly, sowing, percent, fifteenth,\n",
      "Nearest to are: were, have, contain, remain, include, is, metronome, borkou,\n",
      "Nearest to first: last, second, next, woes, maiden, fourth, final, third,\n",
      "Nearest to only: always, wired, antidote, barratry, gotovina, rabid, agnostic, rafter,\n",
      "Nearest to province: bandits, birdlike, norway, transistors, ravi, milligram, blessed, mountaineering,\n",
      "Nearest to tree: measurement, overwhelmingly, interconversion, family, invariant, deist, salado, symphonic,\n",
      "Nearest to egypt: catalysis, ree, greece, braine, pinpoint, rome, chausey, curled,\n",
      "Nearest to consists: means, making, is, because, intervene, forms, list, thousands,\n",
      "Nearest to places: proverbial, things, labyrinth, birds, muisca, laney, courtesy, honeymoon,\n",
      "Nearest to behind: toward, while, planned, ntoskrnl, unwillingness, against, utterly, christology,\n",
      "Nearest to hold: allow, give, needling, meet, identify, approaches, vecchio, define,\n",
      "Nearest to actress: actor, singer, writer, bretagne, kotzebue, novgorod, ethnicity, aristoteles,\n",
      "Average loss at step 82000: 2.576148\n",
      "Average loss at step 84000: 2.525495\n",
      "Average loss at step 86000: 2.587988\n",
      "Average loss at step 88000: 2.461963\n",
      "Average loss at step 90000: 2.569839\n",
      "Nearest to people: men, individuals, women, someone, jews, inhabitants, landmass, children,\n",
      "Nearest to his: her, their, your, my, its, our, consolidation, parse,\n",
      "Nearest to many: several, some, various, numerous, few, those, most, recent,\n",
      "Nearest to all: many, chapters, some, various, soiled, exclusively, both, most,\n",
      "Nearest to th: tariffs, lookups, genesis, fifteenth, nineteenth, rd, sowing, third,\n",
      "Nearest to are: were, contain, have, include, remain, is, wish, including,\n",
      "Nearest to first: last, second, next, maiden, fourth, third, final, woes,\n",
      "Nearest to only: even, gotovina, bookkeeping, rabid, barratry, actually, wired, always,\n",
      "Nearest to province: bandits, norway, birdlike, transistors, pontifical, ravi, milligram, remnants,\n",
      "Nearest to tree: family, interconversion, measurement, invariant, symphonic, deist, koine, wobbles,\n",
      "Nearest to egypt: greece, rome, catalysis, ree, braine, pinpoint, chausey, curled,\n",
      "Nearest to consists: means, forms, making, is, because, intervene, thousands, list,\n",
      "Nearest to places: proverbial, things, labyrinth, birds, buildings, privilege, areas, elements,\n",
      "Nearest to behind: while, toward, planned, across, utterly, benefactors, unwillingness, appian,\n",
      "Nearest to hold: give, allow, needling, meet, identify, approaches, define, vecchio,\n",
      "Nearest to actress: actor, singer, writer, politician, bretagne, mathematician, kotzebue, novgorod,\n",
      "Average loss at step 92000: 2.524922\n",
      "Average loss at step 94000: 2.582108\n",
      "Average loss at step 96000: 2.576425\n",
      "Average loss at step 98000: 2.493479\n",
      "Average loss at step 100000: 2.529597\n",
      "Nearest to people: individuals, men, women, someone, jews, children, landmass, inhabitants,\n",
      "Nearest to his: her, their, my, your, its, our, whose, parse,\n",
      "Nearest to many: some, several, numerous, various, few, those, certain, most,\n",
      "Nearest to all: soiled, chapters, exclusively, both, vehicles, balkanization, pressing, various,\n",
      "Nearest to th: tariffs, lookups, genesis, fifteenth, sowing, rd, third, nineteenth,\n",
      "Nearest to are: were, have, contain, include, remain, is, borkou, abdulhamid,\n",
      "Nearest to first: last, second, next, fourth, maiden, final, third, switzer,\n",
      "Nearest to only: even, bookkeeping, wired, barratry, trucks, rabid, gotovina, unprofitable,\n",
      "Nearest to province: norway, birdlike, bandits, transistors, milligram, ravi, pontifical, institut,\n",
      "Nearest to tree: family, measurement, interconversion, deist, proponent, symphonic, koine, temenos,\n",
      "Nearest to egypt: greece, rome, ree, catalysis, pinpoint, latvia, braine, chausey,\n",
      "Nearest to consists: means, forms, making, because, thousands, intervene, is, consisted,\n",
      "Nearest to places: proverbial, things, labyrinth, birds, buildings, privilege, muisca, laney,\n",
      "Nearest to behind: across, toward, planned, while, utterly, benefactors, confirming, unwillingness,\n",
      "Nearest to hold: allow, needling, give, meet, approaches, define, vecchio, take,\n",
      "Nearest to actress: actor, singer, writer, mathematician, politician, bretagne, kotzebue, goliath,\n",
      "Completed\n"
     ]
    }
   ],
   "source": [
    "#num_steps = 101\n",
    "num_steps = 100001\n",
    "\n",
    "if __name__ == '__main__':\n",
    "    batch_size = 128\n",
    "    word_vector_dimension_size = 128 # Dimension of the embedding vector.\n",
    "    skip_window = 1 # How many words to consider left and right.\n",
    "    # We pick a random validation set to sample nearest neighbors. here we limit the\n",
    "    # validation samples to the words that have a low numeric ID, which by\n",
    "    # construction are also the most frequent.\n",
    "    valid_size = 16 # Random set of words to evaluate similarity on.\n",
    "    valid_window = 100 # Only pick dev samples in the head of the distribution.\n",
    "    # pick 16 samples from 100\n",
    "    valid_examples = np.array(random.sample(range(valid_window), valid_size//2))\n",
    "    valid_examples = np.append(valid_examples,random.sample(range(1000,1000+valid_window), valid_size//2))\n",
    "    num_sampled = 64 # Number of negative examples to sample.\n",
    "\n",
    "    graph = tf.Graph()\n",
    "\n",
    "    with graph.as_default():\n",
    "\n",
    "        # Input data.\n",
    "        no_of_center_words = batch_size - 2 * skip_window\n",
    "        train_dataset = tf.placeholder(tf.int32, shape=[no_of_center_words , 2*skip_window])\n",
    "        train_labels = tf.placeholder(tf.int32, shape=[no_of_center_words , 1])\n",
    "        valid_dataset = tf.constant(valid_examples, dtype=tf.int32)\n",
    "\n",
    "        # Variables.\n",
    "        # embedding, vector for each word in the vocabulary\n",
    "        all_vocab_wv = tf.Variable(tf.random_uniform([vocabulary_size, word_vector_dimension_size],\\\n",
    "                                                         -1.0, 1.0))\n",
    "        softmax_weights = tf.Variable(tf.truncated_normal([vocabulary_size, word_vector_dimension_size],\n",
    "                         stddev=1.0 / math.sqrt(word_vector_dimension_size)))\n",
    "        softmax_biases = tf.Variable(tf.zeros([vocabulary_size]))\n",
    "\n",
    "        # Model.\n",
    "        # Look up embeddings for inputs.\n",
    "        # TEnsor Flow based lookups , as numpy lookups are slow\n",
    "        # this might efficiently find the embeddings for given ids (traind dataset)\n",
    "        # manually doing this might not be efficient given there are 50000 entries in embeddings\n",
    "        wv_1_batch_n_words = None# ['anarchism' , 'as']\n",
    "        for i in range(2*skip_window):            \n",
    "            wv_1_batch_1_words = tf.nn.embedding_lookup( all_vocab_wv , train_dataset[:,i])\n",
    "            print('embedding for train_dataset[:,i] \"',train_dataset[:,i],'\" is wv_1_batch_1_words :: \"',wv_1_batch_1_words)            \n",
    "            emb_x,emb_y = wv_1_batch_1_words.get_shape().as_list()\n",
    "            print('embedding_%d shape is : %s emb_x :\"%s\", emb_y: \"%s\" '\\\n",
    "                  %(i,wv_1_batch_1_words.get_shape().as_list(), emb_x, emb_y  ))\n",
    "            if wv_1_batch_n_words is None:\n",
    "                print('embed is None, hence reshaping  from %s to  (%s,%s)'\\\n",
    "                      %(wv_1_batch_1_words.get_shape(), emb_x, emb_y) )\n",
    "                wv_1_batch_n_words = tf.reshape(wv_1_batch_1_words,[emb_x,emb_y,1])\n",
    "                wv_1_batch_n_words = tf.Print(wv_1_batch_n_words,[wv_1_batch_n_words])\n",
    "            else:\n",
    "                print('embed is not None, hence  concating earlier wv_1_batch_n_words %s with current wv_1_batch_1_words'\\\n",
    "                      %(wv_1_batch_n_words.get_shape()) )\n",
    "                wv_1_batch_n_words = tf.concat(2,[wv_1_batch_n_words,tf.reshape(wv_1_batch_1_words,[emb_x,emb_y,1])])\n",
    "\n",
    "        assert wv_1_batch_n_words.get_shape().as_list()[2]==2*skip_window\n",
    "        print(\"Concat embedding (wv_1_batch_n_words) size : %s\"%wv_1_batch_n_words.get_shape().as_list())\n",
    "        avg_wv_1_batch_n_words =  tf.reduce_mean(wv_1_batch_n_words,2,keep_dims=False)\n",
    "        print(\"Avg embedding of the two batch word vectors  (avg_wv_1_batch_n_words) size: %s\"%avg_wv_1_batch_n_words.get_shape().as_list())\n",
    "        \n",
    "        # Compute the softmax loss, using a sample of the negative labels each time.\n",
    "        # inputs are embeddings of the train words and the comparision is performed against train_labels\n",
    "        # with this loss we optimize weights, biases, embeddings\n",
    "\n",
    "        loss = tf.reduce_mean(tf.nn.sampled_softmax_loss(softmax_weights, softmax_biases, avg_wv_1_batch_n_words,\n",
    "                               train_labels, num_sampled, vocabulary_size))\n",
    "\n",
    "        # Optimizer.\n",
    "        # Note: The optimizer will optimize the softmax_weights AND the embeddings.\n",
    "        # This is because the embeddings are defined as a variable quantity and the\n",
    "        # optimizer's `minimize` method will by default modify all variable quantities\n",
    "        # that contribute to the tensor it is passed.\n",
    "        # See docs on `tf.train.Optimizer.minimize()` for more details.\n",
    "        # Adagrad is required because there are too many things to optimize\n",
    "        optimizer = tf.train.AdagradOptimizer(1.0).minimize(loss)\n",
    "\n",
    "        # Compute the similarity between minibatch examples and all embeddings.\n",
    "        # We use the cosine distance:\n",
    "        norm = tf.sqrt(tf.reduce_sum(tf.square(all_vocab_wv), 1, keep_dims=True))\n",
    "        normalized_embeddings = all_vocab_wv / norm\n",
    "        valid_embeddings = tf.nn.embedding_lookup(normalized_embeddings, valid_dataset)\n",
    "        similarity = tf.matmul(valid_embeddings, tf.transpose(normalized_embeddings))\n",
    "\n",
    "    with tf.Session(graph=graph) as session:\n",
    "        tf.initialize_all_variables().run()\n",
    "        print('Initialized')\n",
    "        average_loss = 0\n",
    "        for step in range(num_steps):\n",
    "            batch_data, batch_labels = generate_batch(batch_size, skip_window)\n",
    "            feed_dict = {train_dataset : batch_data, train_labels : batch_labels}\n",
    "            _, l = session.run([optimizer, loss], feed_dict=feed_dict)\n",
    "            average_loss += l\n",
    "            if step % 2000 == 0:\n",
    "              if step > 0:\n",
    "                average_loss = average_loss / 2000\n",
    "              # The average loss is an estimate of the loss over the last 2000 batches.\n",
    "              print('Average loss at step %d: %f' % (step, average_loss))\n",
    "              average_loss = 0\n",
    "            # note that this is expensive (~20% slowdown if computed every 500 steps)\n",
    "            if step % 10000 == 0:\n",
    "              sim = similarity.eval()\n",
    "              for i in range(valid_size):\n",
    "                valid_word = reverse_dictionary[valid_examples[i]]\n",
    "                top_k = 8 # number of nearest neighbors\n",
    "                nearest = (-sim[i, :]).argsort()[1:top_k+1]\n",
    "                log = 'Nearest to %s:' % valid_word\n",
    "                for k in range(top_k):\n",
    "                  close_word = reverse_dictionary[nearest[k]]\n",
    "                  log = '%s %s,' % (log, close_word)\n",
    "                print(log)\n",
    "        final_embeddings = normalized_embeddings.eval()\n",
    "print('Completed')"
   ]
  },
  {
   "cell_type": "markdown",
   "metadata": {},
   "source": [
    "Final Word Vector Output\n",
    "----------------------\n",
    "**final_embeddings :** Final Word Vector Output is stored in the final_embeddings vector.\n",
    "**[reverse_dictionary[i]** :  Labels of the word vector"
   ]
  },
  {
   "cell_type": "code",
   "execution_count": 9,
   "metadata": {
    "collapsed": false
   },
   "outputs": [
    {
     "name": "stdout",
     "output_type": "stream",
     "text": [
      "Sample of the word label and vector\n",
      "{'fawn': array([ 0.04343572, -0.11316784,  0.01862268, -0.10504869, -0.09239106,\n",
      "        0.06632485, -0.14187637,  0.12287549, -0.08440749, -0.12765059,\n",
      "       -0.0668996 ,  0.12901415, -0.05718606, -0.07296567, -0.10394064,\n",
      "        0.08431415, -0.14613205, -0.12914559, -0.03518809, -0.12714484,\n",
      "        0.07920893,  0.12509893,  0.05067521,  0.06774809,  0.01807864,\n",
      "        0.00670731,  0.12174368, -0.11187369,  0.06836355, -0.00243815,\n",
      "        0.0255256 ,  0.1314438 , -0.02520108,  0.00513787,  0.0700523 ,\n",
      "       -0.00622214,  0.11652158,  0.10840905,  0.02317092,  0.0541153 ,\n",
      "        0.10353652,  0.09708036,  0.1105547 ,  0.05466234,  0.07141759,\n",
      "       -0.02057758, -0.128383  , -0.02176346, -0.13571227, -0.0889036 ,\n",
      "       -0.03701472,  0.02420425, -0.09521341, -0.01068738, -0.09459713,\n",
      "        0.09180652,  0.0516398 ,  0.11597092,  0.00156945, -0.02859355,\n",
      "       -0.07319459,  0.14438367,  0.10682865, -0.06818362, -0.06565663,\n",
      "       -0.08106187,  0.06745866,  0.09376194, -0.12558256,  0.04384625,\n",
      "        0.03425194, -0.13937393, -0.03072902,  0.0846572 ,  0.05368491,\n",
      "        0.05856403, -0.12423564, -0.03241714,  0.08072347, -0.00528609,\n",
      "       -0.13220829,  0.09541062,  0.12160655, -0.02333545, -0.09513728,\n",
      "        0.05617652, -0.00878255,  0.03970708, -0.08563641, -0.07908874,\n",
      "        0.12602551, -0.03100013,  0.05049654,  0.15026426, -0.13817324,\n",
      "        0.15066586, -0.0136553 ,  0.05035172, -0.05007751, -0.12333079,\n",
      "        0.00589624, -0.0330727 ,  0.03376736,  0.09922386, -0.01240408,\n",
      "        0.14775103,  0.01480377,  0.07817168,  0.07434315, -0.09526484,\n",
      "        0.04039844,  0.13175641, -0.05626073, -0.14621058,  0.08164027,\n",
      "        0.14398354, -0.14264269,  0.14140062,  0.06708596,  0.01967656,\n",
      "       -0.07333553,  0.07268394,  0.01589957, -0.12884086,  0.0390855 ,\n",
      "       -0.14925413,  0.07270178, -0.11079274], dtype=float32), 'homomorphism': array([ -1.61041722e-01,   9.85865742e-02,  -1.21970866e-02,\n",
      "        -2.69693639e-02,   1.48658723e-01,   6.51084259e-02,\n",
      "        -8.74756575e-02,  -1.48676455e-01,   6.51469976e-02,\n",
      "        -2.64477655e-02,  -3.83511670e-02,  -2.75987685e-02,\n",
      "         7.05985585e-05,  -6.87475875e-02,  -4.73465696e-02,\n",
      "         8.38472247e-02,  -4.68281470e-02,  -2.21328996e-03,\n",
      "         8.86131227e-02,  -1.25535235e-01,  -7.68083334e-02,\n",
      "         2.53381822e-02,  -5.64956181e-02,   1.21773548e-01,\n",
      "        -6.02091923e-02,   1.47990650e-02,  -8.60088915e-02,\n",
      "         1.17605805e-01,   1.49423659e-01,   1.28693551e-01,\n",
      "        -4.99418415e-02,   1.18176192e-01,   5.84481545e-02,\n",
      "        -1.27460718e-01,  -3.86321768e-02,   4.37491164e-02,\n",
      "         1.36668295e-01,  -1.30556792e-01,  -1.41180083e-01,\n",
      "        -1.04883946e-01,   2.35484764e-02,  -1.57324001e-02,\n",
      "         1.34693414e-01,  -1.33060381e-01,  -5.93569595e-03,\n",
      "         6.17322652e-03,   7.52565488e-02,   1.26949564e-01,\n",
      "         1.34653896e-01,   1.15859322e-01,  -3.26476023e-02,\n",
      "        -7.45521933e-02,  -4.09980007e-02,   1.96171161e-02,\n",
      "        -4.63220626e-02,  -5.03467619e-02,   7.13028237e-02,\n",
      "        -7.26660341e-02,   2.10979711e-02,   8.38236883e-02,\n",
      "        -4.56337072e-02,   5.55438884e-02,  -2.45191716e-02,\n",
      "        -3.21266986e-02,  -4.49728519e-02,   1.51190594e-01,\n",
      "        -2.19814461e-02,  -1.69287268e-02,  -5.48112988e-02,\n",
      "        -1.54627427e-01,   5.04638776e-02,  -9.24441516e-02,\n",
      "         6.04177713e-02,  -4.53675911e-03,  -6.92255646e-02,\n",
      "        -1.96864661e-02,  -6.14639595e-02,   1.49423316e-01,\n",
      "        -1.24411047e-01,  -6.50945082e-02,   1.09707102e-01,\n",
      "        -1.04254104e-01,  -1.06073342e-01,   1.28260583e-01,\n",
      "        -9.65148807e-02,  -1.22295476e-01,   1.34303465e-01,\n",
      "         3.85024436e-02,  -1.43300056e-01,   1.34031713e-01,\n",
      "        -8.73039197e-03,   7.31570497e-02,   2.20275335e-02,\n",
      "         1.87488925e-02,   8.51545334e-02,   7.84901381e-02,\n",
      "        -7.81350657e-02,   1.13018356e-01,  -1.32483885e-01,\n",
      "         5.37843294e-02,   5.68933934e-02,  -1.36421531e-01,\n",
      "        -1.18995383e-01,   8.92207325e-02,   3.96766067e-02,\n",
      "        -8.57992023e-02,  -4.19479720e-02,   1.59663241e-02,\n",
      "        -3.57423276e-02,  -9.51049011e-03,  -1.36221617e-01,\n",
      "         1.10998571e-01,  -9.54985842e-02,   2.85604279e-02,\n",
      "         1.15608990e-01,   1.33458469e-02,  -8.77368525e-02,\n",
      "         5.27513996e-02,  -1.42644182e-01,  -6.97121918e-02,\n",
      "        -3.19318250e-02,   9.48214829e-02,   3.45407613e-02,\n",
      "        -1.47475645e-01,  -8.39749053e-02,  -1.31268799e-01,\n",
      "         1.19661331e-01,   9.75043029e-02], dtype=float32)}\n"
     ]
    }
   ],
   "source": [
    "#print(reverse_dictionary[1] )\n",
    "#print(final_embeddings[1])\n",
    "word_n_its_vector = { reverse_dictionary[i] :final_embeddings[i]  for i in range(len(reverse_dictionary)) } \n",
    "print( 'Sample of the word label and vector' )\n",
    "print( { key : word_n_its_vector[key] for key in  word_n_its_vector.keys()[:2] } )\n",
    "#print( word_n_its_vector[2] )        \n",
    "#print( [word_n_its_vector[i] for i in range(3,5)] )\n"
   ]
  },
  {
   "cell_type": "markdown",
   "metadata": {},
   "source": [
    "Finding Vector Simialrity between words :\n",
    "-----------------------\n",
    "**Case 1 :** he / she\n",
    "\n",
    "**Case 2 :** he / originated\n",
    "\n",
    "**Case 3 :** they / that    "
   ]
  },
  {
   "cell_type": "code",
   "execution_count": 10,
   "metadata": {
    "collapsed": false
   },
   "outputs": [
    {
     "name": "stdout",
     "output_type": "stream",
     "text": [
      "cosine distance similarity between  he /she is  0.803174006182\n",
      "cosine distance similarity between  he /originated is  -0.0289351405507\n",
      "cosine distance similarity between  they vs that is  0.137693458703\n"
     ]
    }
   ],
   "source": [
    "from scipy import spatial\n",
    "#print(type(word_n_its_vector['he']))\n",
    "#print(word_n_its_vector['the'])\n",
    "print('cosine distance similarity between  he /she is ',\\\n",
    "      1 - spatial.distance.cosine( word_n_its_vector['he'], word_n_its_vector['she']))\n",
    "print('cosine distance similarity between  he /originated is ',\\\n",
    "      1 - spatial.distance.cosine( word_n_its_vector['he'], word_n_its_vector['originated']))\n",
    "print('cosine distance similarity between  they vs that is ',\\\n",
    "      1 - spatial.distance.cosine( word_n_its_vector['they'], word_n_its_vector['that']))\n"
   ]
  },
  {
   "cell_type": "markdown",
   "metadata": {},
   "source": [
    "Conclusion\n",
    "--------------------\n",
    "**\"He vs She\"** are very similar compared to  **\"He vs Originated\"**\n",
    "\n",
    "Also, can be found the plots of first 400 words"
   ]
  },
  {
   "cell_type": "code",
   "execution_count": 11,
   "metadata": {
    "cellView": "both",
    "colab": {
     "autoexec": {
      "startup": false,
      "wait_interval": 0
     }
    },
    "colab_type": "code",
    "collapsed": false,
    "id": "jjJXYA_XzV79"
   },
   "outputs": [
    {
     "name": "stderr",
     "output_type": "stream",
     "text": [
      "/usr/lib/python2.7/dist-packages/matplotlib/collections.py:571: FutureWarning: elementwise comparison failed; returning scalar instead, but in the future will perform elementwise comparison\n",
      "  if self._edgecolors == str('face'):\n"
     ]
    },
    {
     "data": {
      "image/png": "[encoded data removed]",
      "text/plain": [
       "<matplotlib.figure.Figure at 0x7fdefe775690>"
      ]
     },
     "metadata": {},
     "output_type": "display_data"
    }
   ],
   "source": [
    "num_points = 100\n",
    "\n",
    "tsne = TSNE(perplexity=30, n_components=2, init='pca', n_iter=5000)\n",
    "two_d_embeddings = tsne.fit_transform(final_embeddings[1:num_points+1, :])\n",
    "\n",
    "#print(len(final_embeddings))\n",
    "#print(len(final_embeddings[0]))\n",
    "#print(final_embeddings[0])\n",
    "#words = [reverse_dictionary[i] for i in range(1, num_points+1)]\n",
    "#print(reverse_dictionary[0], final_embeddings[0] )\n",
    "\n",
    "\n",
    "def plot(embeddings, labels):\n",
    "  assert embeddings.shape[0] >= len(labels), 'More labels than embeddings'\n",
    "  pylab.figure(figsize=(15,15))  # in inches\n",
    "  for i, label in enumerate(labels):\n",
    "    x, y = embeddings[i,:]\n",
    "    pylab.scatter(x, y)\n",
    "    pylab.annotate(label, xy=(x, y), xytext=(5, 2), textcoords='offset points',\n",
    "                   ha='right', va='bottom')\n",
    "  pylab.show()\n",
    "\n",
    "words = [reverse_dictionary[i] for i in range(1, num_points+1)]\n",
    "plot(two_d_embeddings, words)"
   ]
  },
  {
   "cell_type": "markdown",
   "metadata": {},
   "source": [
    "Conclusion \n",
    "------------------------\n",
    "From  the above continous bag of model (CBOW), we are able to train a model that given a text can automatically find the words similar to each other .\n",
    "\n",
    "In the process they are able to capture the relationshiop between words i.e. Dog, cat are alike (e.g such that they are both animals, four-legged, pets, etc).Also they are able to gather the semantic  relationship i.e Kitten is to cat what puppy is to dog.\n"
   ]
  },
  {
   "cell_type": "markdown",
   "metadata": {},
   "source": [
    "**Compare and Constrast result with Skip-gram model**"
   ]
  }
 ],
 "metadata": {
  "colab": {
   "default_view": {},
   "name": "5_word2vec.ipynb",
   "provenance": [],
   "version": "0.3.2",
   "views": {}
  },
  "kernelspec": {
   "display_name": "Python 2",
   "language": "python",
   "name": "python2"
  },
  "language_info": {
   "codemirror_mode": {
    "name": "ipython",
    "version": 2
   },
   "file_extension": ".py",
   "mimetype": "text/x-python",
   "name": "python",
   "nbconvert_exporter": "python",
   "pygments_lexer": "ipython2",
   "version": "2.7.9"
  }
 },
 "nbformat": 4,
 "nbformat_minor": 0
}
